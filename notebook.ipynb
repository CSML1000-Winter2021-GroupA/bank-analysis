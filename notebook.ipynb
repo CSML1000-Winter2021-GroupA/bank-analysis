{
 "cells": [
  {
   "cell_type": "markdown",
   "id": "adult-hudson",
   "metadata": {},
   "source": [
    "## Initial imports"
   ]
  },
  {
   "cell_type": "code",
   "execution_count": 53,
   "id": "threaded-gibson",
   "metadata": {},
   "outputs": [],
   "source": [
    "import numpy as np\n",
    "import os\n",
    "import pandas as pd\n",
    "import matplotlib.pyplot as plt\n",
    "import pickle\n",
    "from sklearn import metrics\n",
    "from sklearn.ensemble import RandomForestClassifier\n",
    "from sklearn.metrics import accuracy_score, auc, classification_report\n",
    "from sklearn.model_selection import GridSearchCV, train_test_split\n",
    "from sklearn.pipeline import Pipeline\n",
    "import statsmodels.api as sm\n",
    "\n",
    "pd.set_option('display.max_columns', None)"
   ]
  },
  {
   "cell_type": "code",
   "execution_count": 54,
   "id": "killing-chosen",
   "metadata": {},
   "outputs": [
    {
     "output_type": "execute_result",
     "data": {
      "text/plain": [
       "   age          job  marital          education  default housing loan  \\\n",
       "0   44  blue-collar  married           basic.4y  unknown     yes   no   \n",
       "1   53   technician  married            unknown       no      no   no   \n",
       "2   28   management   single  university.degree       no     yes   no   \n",
       "3   39     services  married        high.school       no      no   no   \n",
       "4   55      retired  married           basic.4y       no     yes   no   \n",
       "\n",
       "    contact month day_of_week  duration  campaign  pdays  previous  \\\n",
       "0  cellular   aug         thu       210         1    999         0   \n",
       "1  cellular   nov         fri       138         1    999         0   \n",
       "2  cellular   jun         thu       339         3      6         2   \n",
       "3  cellular   apr         fri       185         2    999         0   \n",
       "4  cellular   aug         fri       137         1      3         1   \n",
       "\n",
       "      poutcome  emp_var_rate  cons_price_idx  cons_conf_idx  euribor3m  \\\n",
       "0  nonexistent           1.4          93.444          -36.1      4.963   \n",
       "1  nonexistent          -0.1          93.200          -42.0      4.021   \n",
       "2      success          -1.7          94.055          -39.8      0.729   \n",
       "3  nonexistent          -1.8          93.075          -47.1      1.405   \n",
       "4      success          -2.9          92.201          -31.4      0.869   \n",
       "\n",
       "   nr_employed deposit  \n",
       "0       5228.1      no  \n",
       "1       5195.8      no  \n",
       "2       4991.6     yes  \n",
       "3       5099.1      no  \n",
       "4       5076.2     yes  "
      ],
      "text/html": "<div>\n<style scoped>\n    .dataframe tbody tr th:only-of-type {\n        vertical-align: middle;\n    }\n\n    .dataframe tbody tr th {\n        vertical-align: top;\n    }\n\n    .dataframe thead th {\n        text-align: right;\n    }\n</style>\n<table border=\"1\" class=\"dataframe\">\n  <thead>\n    <tr style=\"text-align: right;\">\n      <th></th>\n      <th>age</th>\n      <th>job</th>\n      <th>marital</th>\n      <th>education</th>\n      <th>default</th>\n      <th>housing</th>\n      <th>loan</th>\n      <th>contact</th>\n      <th>month</th>\n      <th>day_of_week</th>\n      <th>duration</th>\n      <th>campaign</th>\n      <th>pdays</th>\n      <th>previous</th>\n      <th>poutcome</th>\n      <th>emp_var_rate</th>\n      <th>cons_price_idx</th>\n      <th>cons_conf_idx</th>\n      <th>euribor3m</th>\n      <th>nr_employed</th>\n      <th>deposit</th>\n    </tr>\n  </thead>\n  <tbody>\n    <tr>\n      <th>0</th>\n      <td>44</td>\n      <td>blue-collar</td>\n      <td>married</td>\n      <td>basic.4y</td>\n      <td>unknown</td>\n      <td>yes</td>\n      <td>no</td>\n      <td>cellular</td>\n      <td>aug</td>\n      <td>thu</td>\n      <td>210</td>\n      <td>1</td>\n      <td>999</td>\n      <td>0</td>\n      <td>nonexistent</td>\n      <td>1.4</td>\n      <td>93.444</td>\n      <td>-36.1</td>\n      <td>4.963</td>\n      <td>5228.1</td>\n      <td>no</td>\n    </tr>\n    <tr>\n      <th>1</th>\n      <td>53</td>\n      <td>technician</td>\n      <td>married</td>\n      <td>unknown</td>\n      <td>no</td>\n      <td>no</td>\n      <td>no</td>\n      <td>cellular</td>\n      <td>nov</td>\n      <td>fri</td>\n      <td>138</td>\n      <td>1</td>\n      <td>999</td>\n      <td>0</td>\n      <td>nonexistent</td>\n      <td>-0.1</td>\n      <td>93.200</td>\n      <td>-42.0</td>\n      <td>4.021</td>\n      <td>5195.8</td>\n      <td>no</td>\n    </tr>\n    <tr>\n      <th>2</th>\n      <td>28</td>\n      <td>management</td>\n      <td>single</td>\n      <td>university.degree</td>\n      <td>no</td>\n      <td>yes</td>\n      <td>no</td>\n      <td>cellular</td>\n      <td>jun</td>\n      <td>thu</td>\n      <td>339</td>\n      <td>3</td>\n      <td>6</td>\n      <td>2</td>\n      <td>success</td>\n      <td>-1.7</td>\n      <td>94.055</td>\n      <td>-39.8</td>\n      <td>0.729</td>\n      <td>4991.6</td>\n      <td>yes</td>\n    </tr>\n    <tr>\n      <th>3</th>\n      <td>39</td>\n      <td>services</td>\n      <td>married</td>\n      <td>high.school</td>\n      <td>no</td>\n      <td>no</td>\n      <td>no</td>\n      <td>cellular</td>\n      <td>apr</td>\n      <td>fri</td>\n      <td>185</td>\n      <td>2</td>\n      <td>999</td>\n      <td>0</td>\n      <td>nonexistent</td>\n      <td>-1.8</td>\n      <td>93.075</td>\n      <td>-47.1</td>\n      <td>1.405</td>\n      <td>5099.1</td>\n      <td>no</td>\n    </tr>\n    <tr>\n      <th>4</th>\n      <td>55</td>\n      <td>retired</td>\n      <td>married</td>\n      <td>basic.4y</td>\n      <td>no</td>\n      <td>yes</td>\n      <td>no</td>\n      <td>cellular</td>\n      <td>aug</td>\n      <td>fri</td>\n      <td>137</td>\n      <td>1</td>\n      <td>3</td>\n      <td>1</td>\n      <td>success</td>\n      <td>-2.9</td>\n      <td>92.201</td>\n      <td>-31.4</td>\n      <td>0.869</td>\n      <td>5076.2</td>\n      <td>yes</td>\n    </tr>\n  </tbody>\n</table>\n</div>"
     },
     "metadata": {},
     "execution_count": 54
    }
   ],
   "source": [
    "bank_df = pd.read_csv(os.path.join('data', 'Bank.csv'), index_col=0)\n",
    "bank_df.head()"
   ]
  },
  {
   "cell_type": "markdown",
   "id": "comic-humor",
   "metadata": {},
   "source": [
    "In order to model the dependant variable `deposit` we need to model as a 0-1 problem"
   ]
  },
  {
   "cell_type": "code",
   "execution_count": 55,
   "id": "coral-teens",
   "metadata": {},
   "outputs": [
    {
     "output_type": "execute_result",
     "data": {
      "text/plain": [
       "   age          job  marital          education  default housing loan  \\\n",
       "0   44  blue-collar  married           basic.4y  unknown     yes   no   \n",
       "1   53   technician  married            unknown       no      no   no   \n",
       "2   28   management   single  university.degree       no     yes   no   \n",
       "3   39     services  married        high.school       no      no   no   \n",
       "4   55      retired  married           basic.4y       no     yes   no   \n",
       "\n",
       "    contact month day_of_week  duration  campaign  pdays  previous  \\\n",
       "0  cellular   aug         thu       210         1    999         0   \n",
       "1  cellular   nov         fri       138         1    999         0   \n",
       "2  cellular   jun         thu       339         3      6         2   \n",
       "3  cellular   apr         fri       185         2    999         0   \n",
       "4  cellular   aug         fri       137         1      3         1   \n",
       "\n",
       "      poutcome  emp_var_rate  cons_price_idx  cons_conf_idx  euribor3m  \\\n",
       "0  nonexistent           1.4          93.444          -36.1      4.963   \n",
       "1  nonexistent          -0.1          93.200          -42.0      4.021   \n",
       "2      success          -1.7          94.055          -39.8      0.729   \n",
       "3  nonexistent          -1.8          93.075          -47.1      1.405   \n",
       "4      success          -2.9          92.201          -31.4      0.869   \n",
       "\n",
       "   nr_employed  deposit  \n",
       "0       5228.1        0  \n",
       "1       5195.8        0  \n",
       "2       4991.6        1  \n",
       "3       5099.1        0  \n",
       "4       5076.2        1  "
      ],
      "text/html": "<div>\n<style scoped>\n    .dataframe tbody tr th:only-of-type {\n        vertical-align: middle;\n    }\n\n    .dataframe tbody tr th {\n        vertical-align: top;\n    }\n\n    .dataframe thead th {\n        text-align: right;\n    }\n</style>\n<table border=\"1\" class=\"dataframe\">\n  <thead>\n    <tr style=\"text-align: right;\">\n      <th></th>\n      <th>age</th>\n      <th>job</th>\n      <th>marital</th>\n      <th>education</th>\n      <th>default</th>\n      <th>housing</th>\n      <th>loan</th>\n      <th>contact</th>\n      <th>month</th>\n      <th>day_of_week</th>\n      <th>duration</th>\n      <th>campaign</th>\n      <th>pdays</th>\n      <th>previous</th>\n      <th>poutcome</th>\n      <th>emp_var_rate</th>\n      <th>cons_price_idx</th>\n      <th>cons_conf_idx</th>\n      <th>euribor3m</th>\n      <th>nr_employed</th>\n      <th>deposit</th>\n    </tr>\n  </thead>\n  <tbody>\n    <tr>\n      <th>0</th>\n      <td>44</td>\n      <td>blue-collar</td>\n      <td>married</td>\n      <td>basic.4y</td>\n      <td>unknown</td>\n      <td>yes</td>\n      <td>no</td>\n      <td>cellular</td>\n      <td>aug</td>\n      <td>thu</td>\n      <td>210</td>\n      <td>1</td>\n      <td>999</td>\n      <td>0</td>\n      <td>nonexistent</td>\n      <td>1.4</td>\n      <td>93.444</td>\n      <td>-36.1</td>\n      <td>4.963</td>\n      <td>5228.1</td>\n      <td>0</td>\n    </tr>\n    <tr>\n      <th>1</th>\n      <td>53</td>\n      <td>technician</td>\n      <td>married</td>\n      <td>unknown</td>\n      <td>no</td>\n      <td>no</td>\n      <td>no</td>\n      <td>cellular</td>\n      <td>nov</td>\n      <td>fri</td>\n      <td>138</td>\n      <td>1</td>\n      <td>999</td>\n      <td>0</td>\n      <td>nonexistent</td>\n      <td>-0.1</td>\n      <td>93.200</td>\n      <td>-42.0</td>\n      <td>4.021</td>\n      <td>5195.8</td>\n      <td>0</td>\n    </tr>\n    <tr>\n      <th>2</th>\n      <td>28</td>\n      <td>management</td>\n      <td>single</td>\n      <td>university.degree</td>\n      <td>no</td>\n      <td>yes</td>\n      <td>no</td>\n      <td>cellular</td>\n      <td>jun</td>\n      <td>thu</td>\n      <td>339</td>\n      <td>3</td>\n      <td>6</td>\n      <td>2</td>\n      <td>success</td>\n      <td>-1.7</td>\n      <td>94.055</td>\n      <td>-39.8</td>\n      <td>0.729</td>\n      <td>4991.6</td>\n      <td>1</td>\n    </tr>\n    <tr>\n      <th>3</th>\n      <td>39</td>\n      <td>services</td>\n      <td>married</td>\n      <td>high.school</td>\n      <td>no</td>\n      <td>no</td>\n      <td>no</td>\n      <td>cellular</td>\n      <td>apr</td>\n      <td>fri</td>\n      <td>185</td>\n      <td>2</td>\n      <td>999</td>\n      <td>0</td>\n      <td>nonexistent</td>\n      <td>-1.8</td>\n      <td>93.075</td>\n      <td>-47.1</td>\n      <td>1.405</td>\n      <td>5099.1</td>\n      <td>0</td>\n    </tr>\n    <tr>\n      <th>4</th>\n      <td>55</td>\n      <td>retired</td>\n      <td>married</td>\n      <td>basic.4y</td>\n      <td>no</td>\n      <td>yes</td>\n      <td>no</td>\n      <td>cellular</td>\n      <td>aug</td>\n      <td>fri</td>\n      <td>137</td>\n      <td>1</td>\n      <td>3</td>\n      <td>1</td>\n      <td>success</td>\n      <td>-2.9</td>\n      <td>92.201</td>\n      <td>-31.4</td>\n      <td>0.869</td>\n      <td>5076.2</td>\n      <td>1</td>\n    </tr>\n  </tbody>\n</table>\n</div>"
     },
     "metadata": {},
     "execution_count": 55
    }
   ],
   "source": [
    "bank_df['deposit'] = bank_df['deposit'].map({'yes': 1, 'no': 0})\n",
    "bank_df.head()"
   ]
  },
  {
   "cell_type": "markdown",
   "id": "significant-bahrain",
   "metadata": {},
   "source": [
    "We need to engineer a feture for 'was not previously contacted' which is represented with `pdays` = 999"
   ]
  },
  {
   "cell_type": "code",
   "execution_count": 56,
   "id": "educational-grant",
   "metadata": {},
   "outputs": [
    {
     "output_type": "execute_result",
     "data": {
      "text/plain": [
       "   age          job  marital          education  default housing loan  \\\n",
       "0   44  blue-collar  married           basic.4y  unknown     yes   no   \n",
       "1   53   technician  married            unknown       no      no   no   \n",
       "2   28   management   single  university.degree       no     yes   no   \n",
       "3   39     services  married        high.school       no      no   no   \n",
       "4   55      retired  married           basic.4y       no     yes   no   \n",
       "\n",
       "    contact month day_of_week  duration  campaign  pdays  previous  \\\n",
       "0  cellular   aug         thu       210         1      0         0   \n",
       "1  cellular   nov         fri       138         1      0         0   \n",
       "2  cellular   jun         thu       339         3      6         2   \n",
       "3  cellular   apr         fri       185         2      0         0   \n",
       "4  cellular   aug         fri       137         1      3         1   \n",
       "\n",
       "      poutcome  emp_var_rate  cons_price_idx  cons_conf_idx  euribor3m  \\\n",
       "0  nonexistent           1.4          93.444          -36.1      4.963   \n",
       "1  nonexistent          -0.1          93.200          -42.0      4.021   \n",
       "2      success          -1.7          94.055          -39.8      0.729   \n",
       "3  nonexistent          -1.8          93.075          -47.1      1.405   \n",
       "4      success          -2.9          92.201          -31.4      0.869   \n",
       "\n",
       "   nr_employed  deposit  client_was_contacted  \n",
       "0       5228.1        0                     0  \n",
       "1       5195.8        0                     0  \n",
       "2       4991.6        1                     1  \n",
       "3       5099.1        0                     0  \n",
       "4       5076.2        1                     1  "
      ],
      "text/html": "<div>\n<style scoped>\n    .dataframe tbody tr th:only-of-type {\n        vertical-align: middle;\n    }\n\n    .dataframe tbody tr th {\n        vertical-align: top;\n    }\n\n    .dataframe thead th {\n        text-align: right;\n    }\n</style>\n<table border=\"1\" class=\"dataframe\">\n  <thead>\n    <tr style=\"text-align: right;\">\n      <th></th>\n      <th>age</th>\n      <th>job</th>\n      <th>marital</th>\n      <th>education</th>\n      <th>default</th>\n      <th>housing</th>\n      <th>loan</th>\n      <th>contact</th>\n      <th>month</th>\n      <th>day_of_week</th>\n      <th>duration</th>\n      <th>campaign</th>\n      <th>pdays</th>\n      <th>previous</th>\n      <th>poutcome</th>\n      <th>emp_var_rate</th>\n      <th>cons_price_idx</th>\n      <th>cons_conf_idx</th>\n      <th>euribor3m</th>\n      <th>nr_employed</th>\n      <th>deposit</th>\n      <th>client_was_contacted</th>\n    </tr>\n  </thead>\n  <tbody>\n    <tr>\n      <th>0</th>\n      <td>44</td>\n      <td>blue-collar</td>\n      <td>married</td>\n      <td>basic.4y</td>\n      <td>unknown</td>\n      <td>yes</td>\n      <td>no</td>\n      <td>cellular</td>\n      <td>aug</td>\n      <td>thu</td>\n      <td>210</td>\n      <td>1</td>\n      <td>0</td>\n      <td>0</td>\n      <td>nonexistent</td>\n      <td>1.4</td>\n      <td>93.444</td>\n      <td>-36.1</td>\n      <td>4.963</td>\n      <td>5228.1</td>\n      <td>0</td>\n      <td>0</td>\n    </tr>\n    <tr>\n      <th>1</th>\n      <td>53</td>\n      <td>technician</td>\n      <td>married</td>\n      <td>unknown</td>\n      <td>no</td>\n      <td>no</td>\n      <td>no</td>\n      <td>cellular</td>\n      <td>nov</td>\n      <td>fri</td>\n      <td>138</td>\n      <td>1</td>\n      <td>0</td>\n      <td>0</td>\n      <td>nonexistent</td>\n      <td>-0.1</td>\n      <td>93.200</td>\n      <td>-42.0</td>\n      <td>4.021</td>\n      <td>5195.8</td>\n      <td>0</td>\n      <td>0</td>\n    </tr>\n    <tr>\n      <th>2</th>\n      <td>28</td>\n      <td>management</td>\n      <td>single</td>\n      <td>university.degree</td>\n      <td>no</td>\n      <td>yes</td>\n      <td>no</td>\n      <td>cellular</td>\n      <td>jun</td>\n      <td>thu</td>\n      <td>339</td>\n      <td>3</td>\n      <td>6</td>\n      <td>2</td>\n      <td>success</td>\n      <td>-1.7</td>\n      <td>94.055</td>\n      <td>-39.8</td>\n      <td>0.729</td>\n      <td>4991.6</td>\n      <td>1</td>\n      <td>1</td>\n    </tr>\n    <tr>\n      <th>3</th>\n      <td>39</td>\n      <td>services</td>\n      <td>married</td>\n      <td>high.school</td>\n      <td>no</td>\n      <td>no</td>\n      <td>no</td>\n      <td>cellular</td>\n      <td>apr</td>\n      <td>fri</td>\n      <td>185</td>\n      <td>2</td>\n      <td>0</td>\n      <td>0</td>\n      <td>nonexistent</td>\n      <td>-1.8</td>\n      <td>93.075</td>\n      <td>-47.1</td>\n      <td>1.405</td>\n      <td>5099.1</td>\n      <td>0</td>\n      <td>0</td>\n    </tr>\n    <tr>\n      <th>4</th>\n      <td>55</td>\n      <td>retired</td>\n      <td>married</td>\n      <td>basic.4y</td>\n      <td>no</td>\n      <td>yes</td>\n      <td>no</td>\n      <td>cellular</td>\n      <td>aug</td>\n      <td>fri</td>\n      <td>137</td>\n      <td>1</td>\n      <td>3</td>\n      <td>1</td>\n      <td>success</td>\n      <td>-2.9</td>\n      <td>92.201</td>\n      <td>-31.4</td>\n      <td>0.869</td>\n      <td>5076.2</td>\n      <td>1</td>\n      <td>1</td>\n    </tr>\n  </tbody>\n</table>\n</div>"
     },
     "metadata": {},
     "execution_count": 56
    }
   ],
   "source": [
    "bank_df['client_was_contacted'] = np.where(bank_df['pdays'] == 999, 0, 1)\n",
    "bank_df['pdays'] = np.where(bank_df['pdays'] == 999, 0, bank_df['pdays'])\n",
    "bank_df.head()"
   ]
  },
  {
   "cell_type": "markdown",
   "id": "shaped-digit",
   "metadata": {},
   "source": [
    "## Logistic Regression"
   ]
  },
  {
   "cell_type": "markdown",
   "id": "quick-trailer",
   "metadata": {},
   "source": [
    "We  need to do an information value calculation to determine the predictive ability of each independent variable. For text data we will model as a categorical while numerical data will be modelled as continuous. Continuous data will be binned into 10 parts for analysis."
   ]
  },
  {
   "cell_type": "code",
   "execution_count": 57,
   "id": "precise-illustration",
   "metadata": {},
   "outputs": [],
   "source": [
    "def info_value_calc(df, column, is_categorical):\n",
    "    # in this case we have categorical data that we will bin using their values\n",
    "    if is_categorical:\n",
    "        info_val_df = df.groupby([column])['deposit'].agg(['count', 'sum']) \n",
    "    # in this case we have continuous data (integers, floats, etc.) that we will bin into deciles for data normalization\n",
    "    else:\n",
    "        df['variable_bin'] = pd.qcut(df[column].rank(method='first'), 10)\n",
    "        info_val_df = df.groupby(['variable_bin'])['deposit'].agg(['count', 'sum'])\n",
    "    \n",
    "    info_val_df = info_val_df.rename(columns={'sum': 'bad'})\n",
    "    info_val_df[\"good\"] = info_val_df[\"count\"] - info_val_df[\"bad\"]\n",
    "    info_val_df[\"bad_percentage\"] = info_val_df[\"bad\"] / info_val_df[\"bad\"].sum()\n",
    "    info_val_df[\"good_percentage\"] = info_val_df[\"good\"] / info_val_df[\"good\"].sum()\n",
    "    info_val_df[\"information_value\"] = info_val_df.apply(lambda row: (row['good_percentage'] - row['bad_percentage']) * (np.log(row[\"good_percentage\"] / row[\"bad_percentage\"]) if row[\"bad_percentage\"] != 0.0 else 1.0), axis=1)\n",
    "    return info_val_df"
   ]
  },
  {
   "cell_type": "markdown",
   "id": "considered-linux",
   "metadata": {},
   "source": [
    "This is a sample of the information value calculation for education level"
   ]
  },
  {
   "cell_type": "code",
   "execution_count": 58,
   "id": "designing-silver",
   "metadata": {},
   "outputs": [
    {
     "output_type": "stream",
     "name": "stdout",
     "text": [
      "                     count   bad   good  bad_percentage  good_percentage  \\\neducation                                                                  \nbasic.4y              4176   428   3748        0.092241         0.102550   \nbasic.6y              2292   188   2104        0.040517         0.057568   \nbasic.9y              6045   473   5572        0.101940         0.152457   \nhigh.school           9515  1031   8484        0.222198         0.232133   \nilliterate              18     4     14        0.000862         0.000383   \nprofessional.course   5243   595   4648        0.128233         0.127175   \nuniversity.degree    12168  1670  10498        0.359914         0.287239   \nunknown               1731   251   1480        0.054095         0.040495   \n\n                     information_value  \neducation                               \nbasic.4y                      0.001092  \nbasic.6y                      0.005989  \nbasic.9y                      0.020333  \nhigh.school                   0.000435  \nilliterate                    0.000389  \nprofessional.course           0.000009  \nuniversity.degree             0.016392  \nunknown                       0.003938  \nTotal information value: 0.048576408429404055\n"
     ]
    }
   ],
   "source": [
    "print(info_value_calc(bank_df, 'education', True))\n",
    "print('Total information value: ' + str(info_value_calc(bank_df, 'education', True)['information_value'].sum()))"
   ]
  },
  {
   "cell_type": "markdown",
   "id": "matched-infection",
   "metadata": {},
   "source": [
    "We now need to perform an information value calculation on each column to determine its predictive ability\n",
    "\n",
    "$\\textrm{Information Value} = ln\\left(\\frac{\\textrm{% good}}{\\textrm{% bad}}\\right)*(\\textrm{% good} - \\textrm{% bad}) $"
   ]
  },
  {
   "cell_type": "code",
   "execution_count": 59,
   "id": "fancy-participant",
   "metadata": {},
   "outputs": [
    {
     "output_type": "stream",
     "name": "stdout",
     "text": [
      "    information_value                column\n13           1.961060              duration\n19           1.092445           nr_employed\n18           1.059292             euribor3m\n15           0.777944          emp_var_rate\n17           0.622916         cons_conf_idx\n11           0.551306  client_was_contacted\n10           0.547671              poutcome\n7            0.485117                 month\n16           0.449511        cons_price_idx\n20           0.261490              previous\n6            0.251663               contact\n14           0.244849                 pdays\n0            0.188713                   job\n3            0.127851               default\n12           0.127037                   age\n9            0.063208              campaign\n2            0.048576             education\n1            0.028215               marital\n8            0.006493           day_of_week\n4            0.001383               housing\n5            0.000269                  loan\n"
     ]
    }
   ],
   "source": [
    "categorical_columns = ['job', 'marital', 'education', 'default', 'housing', 'loan', 'contact', 'month', 'day_of_week', \n",
    "                       'campaign', 'poutcome', 'client_was_contacted']\n",
    "continuous_columns = ['age', 'duration', 'pdays', 'emp_var_rate', 'cons_price_idx', 'cons_conf_idx', 'euribor3m', \n",
    "                     'nr_employed', 'previous']\n",
    "information_value_list = []\n",
    "\n",
    "for column in categorical_columns:\n",
    "    information_value_df = info_value_calc(bank_df, column, True)\n",
    "    information_value = information_value_df['information_value'].sum()\n",
    "    information_value_list.append({'information_value': information_value, 'column': column})\n",
    "    \n",
    "for column in continuous_columns:\n",
    "    information_value_df = info_value_calc(bank_df, column, False)\n",
    "    information_value = information_value_df['information_value'].sum()\n",
    "    information_value_list.append({'information_value': information_value, 'column': column})\n",
    "    \n",
    "information_value_df = pd.DataFrame(information_value_list)\n",
    "information_value_df = information_value_df.sort_values(by=['information_value'], ascending=False)\n",
    "print(information_value_df)"
   ]
  },
  {
   "cell_type": "markdown",
   "id": "bacterial-kelly",
   "metadata": {},
   "source": [
    "We will continue with the top 15 variables by predictive power. Next we will construct dummy variables for `categorical` data types."
   ]
  },
  {
   "cell_type": "code",
   "execution_count": 60,
   "id": "continental-ordinary",
   "metadata": {},
   "outputs": [
    {
     "output_type": "execute_result",
     "data": {
      "text/plain": [
       "   duration  nr_employed  euribor3m  emp_var_rate  cons_conf_idx  \\\n",
       "0       210       5228.1      4.963           1.4          -36.1   \n",
       "1       138       5195.8      4.021          -0.1          -42.0   \n",
       "2       339       4991.6      0.729          -1.7          -39.8   \n",
       "3       185       5099.1      1.405          -1.8          -47.1   \n",
       "4       137       5076.2      0.869          -2.9          -31.4   \n",
       "\n",
       "   cons_price_idx  deposit  pdays  age  previous  client_was_contacted_0  \\\n",
       "0          93.444        0      0   44         0                       1   \n",
       "1          93.200        0      0   53         0                       1   \n",
       "2          94.055        1      6   28         2                       0   \n",
       "3          93.075        0      0   39         0                       1   \n",
       "4          92.201        1      3   55         1                       0   \n",
       "\n",
       "   client_was_contacted_1  poutcome_failure  poutcome_nonexistent  \\\n",
       "0                       0                 0                     1   \n",
       "1                       0                 0                     1   \n",
       "2                       1                 0                     0   \n",
       "3                       0                 0                     1   \n",
       "4                       1                 0                     0   \n",
       "\n",
       "   poutcome_success  month_apr  month_aug  month_dec  month_jul  month_jun  \\\n",
       "0                 0          0          1          0          0          0   \n",
       "1                 0          0          0          0          0          0   \n",
       "2                 1          0          0          0          0          1   \n",
       "3                 0          1          0          0          0          0   \n",
       "4                 1          0          1          0          0          0   \n",
       "\n",
       "   month_mar  month_may  month_nov  month_oct  month_sep  contact_cellular  \\\n",
       "0          0          0          0          0          0                 1   \n",
       "1          0          0          1          0          0                 1   \n",
       "2          0          0          0          0          0                 1   \n",
       "3          0          0          0          0          0                 1   \n",
       "4          0          0          0          0          0                 1   \n",
       "\n",
       "   contact_telephone  job_admin.  job_blue-collar  job_entrepreneur  \\\n",
       "0                  0           0                1                 0   \n",
       "1                  0           0                0                 0   \n",
       "2                  0           0                0                 0   \n",
       "3                  0           0                0                 0   \n",
       "4                  0           0                0                 0   \n",
       "\n",
       "   job_housemaid  job_management  job_retired  job_self-employed  \\\n",
       "0              0               0            0                  0   \n",
       "1              0               0            0                  0   \n",
       "2              0               1            0                  0   \n",
       "3              0               0            0                  0   \n",
       "4              0               0            1                  0   \n",
       "\n",
       "   job_services  job_student  job_technician  job_unemployed  job_unknown  \\\n",
       "0             0            0               0               0            0   \n",
       "1             0            0               1               0            0   \n",
       "2             0            0               0               0            0   \n",
       "3             1            0               0               0            0   \n",
       "4             0            0               0               0            0   \n",
       "\n",
       "   default_no  default_unknown  default_yes  \n",
       "0           0                1            0  \n",
       "1           1                0            0  \n",
       "2           1                0            0  \n",
       "3           1                0            0  \n",
       "4           1                0            0  "
      ],
      "text/html": "<div>\n<style scoped>\n    .dataframe tbody tr th:only-of-type {\n        vertical-align: middle;\n    }\n\n    .dataframe tbody tr th {\n        vertical-align: top;\n    }\n\n    .dataframe thead th {\n        text-align: right;\n    }\n</style>\n<table border=\"1\" class=\"dataframe\">\n  <thead>\n    <tr style=\"text-align: right;\">\n      <th></th>\n      <th>duration</th>\n      <th>nr_employed</th>\n      <th>euribor3m</th>\n      <th>emp_var_rate</th>\n      <th>cons_conf_idx</th>\n      <th>cons_price_idx</th>\n      <th>deposit</th>\n      <th>pdays</th>\n      <th>age</th>\n      <th>previous</th>\n      <th>client_was_contacted_0</th>\n      <th>client_was_contacted_1</th>\n      <th>poutcome_failure</th>\n      <th>poutcome_nonexistent</th>\n      <th>poutcome_success</th>\n      <th>month_apr</th>\n      <th>month_aug</th>\n      <th>month_dec</th>\n      <th>month_jul</th>\n      <th>month_jun</th>\n      <th>month_mar</th>\n      <th>month_may</th>\n      <th>month_nov</th>\n      <th>month_oct</th>\n      <th>month_sep</th>\n      <th>contact_cellular</th>\n      <th>contact_telephone</th>\n      <th>job_admin.</th>\n      <th>job_blue-collar</th>\n      <th>job_entrepreneur</th>\n      <th>job_housemaid</th>\n      <th>job_management</th>\n      <th>job_retired</th>\n      <th>job_self-employed</th>\n      <th>job_services</th>\n      <th>job_student</th>\n      <th>job_technician</th>\n      <th>job_unemployed</th>\n      <th>job_unknown</th>\n      <th>default_no</th>\n      <th>default_unknown</th>\n      <th>default_yes</th>\n    </tr>\n  </thead>\n  <tbody>\n    <tr>\n      <th>0</th>\n      <td>210</td>\n      <td>5228.1</td>\n      <td>4.963</td>\n      <td>1.4</td>\n      <td>-36.1</td>\n      <td>93.444</td>\n      <td>0</td>\n      <td>0</td>\n      <td>44</td>\n      <td>0</td>\n      <td>1</td>\n      <td>0</td>\n      <td>0</td>\n      <td>1</td>\n      <td>0</td>\n      <td>0</td>\n      <td>1</td>\n      <td>0</td>\n      <td>0</td>\n      <td>0</td>\n      <td>0</td>\n      <td>0</td>\n      <td>0</td>\n      <td>0</td>\n      <td>0</td>\n      <td>1</td>\n      <td>0</td>\n      <td>0</td>\n      <td>1</td>\n      <td>0</td>\n      <td>0</td>\n      <td>0</td>\n      <td>0</td>\n      <td>0</td>\n      <td>0</td>\n      <td>0</td>\n      <td>0</td>\n      <td>0</td>\n      <td>0</td>\n      <td>0</td>\n      <td>1</td>\n      <td>0</td>\n    </tr>\n    <tr>\n      <th>1</th>\n      <td>138</td>\n      <td>5195.8</td>\n      <td>4.021</td>\n      <td>-0.1</td>\n      <td>-42.0</td>\n      <td>93.200</td>\n      <td>0</td>\n      <td>0</td>\n      <td>53</td>\n      <td>0</td>\n      <td>1</td>\n      <td>0</td>\n      <td>0</td>\n      <td>1</td>\n      <td>0</td>\n      <td>0</td>\n      <td>0</td>\n      <td>0</td>\n      <td>0</td>\n      <td>0</td>\n      <td>0</td>\n      <td>0</td>\n      <td>1</td>\n      <td>0</td>\n      <td>0</td>\n      <td>1</td>\n      <td>0</td>\n      <td>0</td>\n      <td>0</td>\n      <td>0</td>\n      <td>0</td>\n      <td>0</td>\n      <td>0</td>\n      <td>0</td>\n      <td>0</td>\n      <td>0</td>\n      <td>1</td>\n      <td>0</td>\n      <td>0</td>\n      <td>1</td>\n      <td>0</td>\n      <td>0</td>\n    </tr>\n    <tr>\n      <th>2</th>\n      <td>339</td>\n      <td>4991.6</td>\n      <td>0.729</td>\n      <td>-1.7</td>\n      <td>-39.8</td>\n      <td>94.055</td>\n      <td>1</td>\n      <td>6</td>\n      <td>28</td>\n      <td>2</td>\n      <td>0</td>\n      <td>1</td>\n      <td>0</td>\n      <td>0</td>\n      <td>1</td>\n      <td>0</td>\n      <td>0</td>\n      <td>0</td>\n      <td>0</td>\n      <td>1</td>\n      <td>0</td>\n      <td>0</td>\n      <td>0</td>\n      <td>0</td>\n      <td>0</td>\n      <td>1</td>\n      <td>0</td>\n      <td>0</td>\n      <td>0</td>\n      <td>0</td>\n      <td>0</td>\n      <td>1</td>\n      <td>0</td>\n      <td>0</td>\n      <td>0</td>\n      <td>0</td>\n      <td>0</td>\n      <td>0</td>\n      <td>0</td>\n      <td>1</td>\n      <td>0</td>\n      <td>0</td>\n    </tr>\n    <tr>\n      <th>3</th>\n      <td>185</td>\n      <td>5099.1</td>\n      <td>1.405</td>\n      <td>-1.8</td>\n      <td>-47.1</td>\n      <td>93.075</td>\n      <td>0</td>\n      <td>0</td>\n      <td>39</td>\n      <td>0</td>\n      <td>1</td>\n      <td>0</td>\n      <td>0</td>\n      <td>1</td>\n      <td>0</td>\n      <td>1</td>\n      <td>0</td>\n      <td>0</td>\n      <td>0</td>\n      <td>0</td>\n      <td>0</td>\n      <td>0</td>\n      <td>0</td>\n      <td>0</td>\n      <td>0</td>\n      <td>1</td>\n      <td>0</td>\n      <td>0</td>\n      <td>0</td>\n      <td>0</td>\n      <td>0</td>\n      <td>0</td>\n      <td>0</td>\n      <td>0</td>\n      <td>1</td>\n      <td>0</td>\n      <td>0</td>\n      <td>0</td>\n      <td>0</td>\n      <td>1</td>\n      <td>0</td>\n      <td>0</td>\n    </tr>\n    <tr>\n      <th>4</th>\n      <td>137</td>\n      <td>5076.2</td>\n      <td>0.869</td>\n      <td>-2.9</td>\n      <td>-31.4</td>\n      <td>92.201</td>\n      <td>1</td>\n      <td>3</td>\n      <td>55</td>\n      <td>1</td>\n      <td>0</td>\n      <td>1</td>\n      <td>0</td>\n      <td>0</td>\n      <td>1</td>\n      <td>0</td>\n      <td>1</td>\n      <td>0</td>\n      <td>0</td>\n      <td>0</td>\n      <td>0</td>\n      <td>0</td>\n      <td>0</td>\n      <td>0</td>\n      <td>0</td>\n      <td>1</td>\n      <td>0</td>\n      <td>0</td>\n      <td>0</td>\n      <td>0</td>\n      <td>0</td>\n      <td>0</td>\n      <td>1</td>\n      <td>0</td>\n      <td>0</td>\n      <td>0</td>\n      <td>0</td>\n      <td>0</td>\n      <td>0</td>\n      <td>1</td>\n      <td>0</td>\n      <td>0</td>\n    </tr>\n  </tbody>\n</table>\n</div>"
     },
     "metadata": {},
     "execution_count": 60
    }
   ],
   "source": [
    "client_contacted_dummies = pd.get_dummies(bank_df['client_was_contacted'], prefix='client_was_contacted')\n",
    "poutcome_dummies = pd.get_dummies(bank_df['poutcome'], prefix='poutcome')\n",
    "month_dummies = pd.get_dummies(bank_df['month'], prefix='month')\n",
    "contact_dummies = pd.get_dummies(bank_df['contact'], prefix='contact')\n",
    "job_dummies = pd.get_dummies(bank_df['job'], prefix='job')\n",
    "default_dummies = pd.get_dummies(bank_df['default'], prefix='default')\n",
    "\n",
    "bank_model_df = pd.concat([bank_df[['duration', 'nr_employed', 'euribor3m', 'emp_var_rate', 'cons_conf_idx', 'cons_price_idx', 'deposit', \n",
    "                                   'pdays', 'age', 'previous']],\n",
    "                          client_contacted_dummies, poutcome_dummies, month_dummies, \n",
    "                          contact_dummies, job_dummies, default_dummies], axis=1)\n",
    "bank_model_df.head()"
   ]
  },
  {
   "cell_type": "code",
   "execution_count": 61,
   "id": "worst-assistant",
   "metadata": {},
   "outputs": [],
   "source": [
    "x_train, x_test, y_train, y_test = train_test_split(bank_model_df.drop(['deposit'] ,axis=1), \n",
    "                                                    bank_model_df['deposit'],\n",
    "                                                    train_size=0.7, # 70-30 split\n",
    "                                                    random_state=42) # constant seed allows for reproducability\n",
    "y_train = pd.DataFrame(y_train)\n",
    "y_test = pd.DataFrame(y_test)"
   ]
  },
  {
   "cell_type": "markdown",
   "id": "entertaining-appeal",
   "metadata": {},
   "source": [
    "We have to remove the excess dummy variables that pandas creates with `pd.get_dummies`."
   ]
  },
  {
   "cell_type": "code",
   "execution_count": 62,
   "id": "taken-silence",
   "metadata": {},
   "outputs": [
    {
     "output_type": "stream",
     "name": "stdout",
     "text": [
      "Warning: Maximum number of iterations has been exceeded.\n",
      "         Current function value: 0.202419\n",
      "         Iterations: 1000\n",
      "                           Logit Regression Results                           \n",
      "==============================================================================\n",
      "Dep. Variable:                deposit   No. Observations:                28831\n",
      "Model:                          Logit   Df Residuals:                    28795\n",
      "Method:                           MLE   Df Model:                           35\n",
      "Date:                Mon, 08 Feb 2021   Pseudo R-squ.:                  0.4210\n",
      "Time:                        20:44:16   Log-Likelihood:                -5836.0\n",
      "converged:                      False   LL-Null:                       -10079.\n",
      "Covariance Type:            nonrobust   LLR p-value:                     0.000\n",
      "==========================================================================================\n",
      "                             coef    std err          z      P>|z|      [0.025      0.975]\n",
      "------------------------------------------------------------------------------------------\n",
      "const                   -288.6847     46.823     -6.165      0.000    -380.455    -196.914\n",
      "duration                   0.0049   9.21e-05     53.610      0.000       0.005       0.005\n",
      "nr_employed                0.0083      0.004      2.200      0.028       0.001       0.016\n",
      "euribor3m                  0.3740      0.156      2.404      0.016       0.069       0.679\n",
      "emp_var_rate              -2.0565      0.175    -11.729      0.000      -2.400      -1.713\n",
      "cons_conf_idx              0.0257      0.009      2.745      0.006       0.007       0.044\n",
      "cons_price_idx             2.5887      0.310      8.359      0.000       1.982       3.196\n",
      "pdays                     -0.0164      0.022     -0.751      0.453      -0.059       0.026\n",
      "age                       -0.0032      0.003     -1.200      0.230      -0.008       0.002\n",
      "previous                  -0.0557      0.074     -0.751      0.453      -0.201       0.090\n",
      "client_was_contacted_0    -1.0519      0.358     -2.935      0.003      -1.754      -0.350\n",
      "poutcome_failure          -0.5093      0.117     -4.367      0.000      -0.738      -0.281\n",
      "poutcome_success           0.5638      0.283      1.994      0.046       0.010       1.118\n",
      "month_aug                  0.9459      0.147      6.441      0.000       0.658       1.234\n",
      "month_dec                  0.3735      0.249      1.499      0.134      -0.115       0.862\n",
      "month_jul                  0.1779      0.116      1.536      0.124      -0.049       0.405\n",
      "month_jun                 -0.6102      0.153     -3.980      0.000      -0.911      -0.310\n",
      "month_mar                  2.1335      0.174     12.268      0.000       1.793       2.474\n",
      "month_may                 -0.3623      0.100     -3.630      0.000      -0.558      -0.167\n",
      "month_nov                 -0.3852      0.146     -2.633      0.008      -0.672      -0.098\n",
      "month_oct                  0.1542      0.188      0.822      0.411      -0.214       0.522\n",
      "month_sep                  0.5423      0.219      2.475      0.013       0.113       0.972\n",
      "contact_telephone         -0.7579      0.095     -8.014      0.000      -0.943      -0.573\n",
      "job_admin.                 0.2625      0.146      1.799      0.072      -0.023       0.548\n",
      "job_blue-collar           -0.0288      0.152     -0.190      0.849      -0.326       0.269\n",
      "job_entrepreneur           0.1851      0.197      0.941      0.347      -0.201       0.571\n",
      "job_housemaid              0.2303      0.217      1.059      0.290      -0.196       0.657\n",
      "job_management             0.3112      0.164      1.898      0.058      -0.010       0.633\n",
      "job_retired                0.3646      0.182      2.007      0.045       0.009       0.721\n",
      "job_services               0.0861      0.164      0.526      0.599      -0.235       0.407\n",
      "job_student                0.3539      0.184      1.927      0.054      -0.006       0.714\n",
      "job_technician             0.2360      0.151      1.558      0.119      -0.061       0.533\n",
      "job_unemployed             0.0618      0.203      0.304      0.761      -0.337       0.460\n",
      "job_unknown                0.3260      0.320      1.018      0.309      -0.302       0.954\n",
      "default_no                 0.2927      0.081      3.620      0.000       0.134       0.451\n",
      "default_yes              -16.2397   2.64e+04     -0.001      1.000   -5.18e+04    5.18e+04\n",
      "==========================================================================================\n",
      "C:\\tools\\Anaconda3\\lib\\site-packages\\statsmodels\\base\\model.py:566: ConvergenceWarning: Maximum Likelihood optimization failed to converge. Check mle_retvals\n",
      "  warnings.warn(\"Maximum Likelihood optimization failed to \"\n"
     ]
    }
   ],
   "source": [
    "columns_to_drop = ['client_was_contacted_1', 'poutcome_nonexistent', 'month_apr', 'contact_cellular', 'job_self-employed', 'default_unknown']\n",
    "logistic_model = sm.Logit(y_train, sm.add_constant(x_train.drop(columns_to_drop, axis=1))).fit(maxiter=1000)\n",
    "print(logistic_model.summary())"
   ]
  },
  {
   "cell_type": "markdown",
   "id": "sweet-graduation",
   "metadata": {},
   "source": [
    "We need to check the variance inflation factor of these variables to check for multi-collinearity"
   ]
  },
  {
   "cell_type": "code",
   "execution_count": 63,
   "id": "rocky-internship",
   "metadata": {},
   "outputs": [
    {
     "output_type": "stream",
     "name": "stdout",
     "text": [
      "        dependent_variable  variance_inflation_factor\n0                 duration                   1.011601\n1              nr_employed                 199.199988\n2                euribor3m                 104.090973\n3             emp_var_rate                   7.440831\n4            cons_conf_idx                   2.220549\n5           cons_price_idx                   2.621768\n6                    pdays                   3.963402\n7                      age                   1.405326\n8                 previous                   5.568172\n9   client_was_contacted_0                  11.033087\n10        poutcome_failure                   1.157539\n11        poutcome_success                   1.073545\n12               month_aug                   2.925225\n13               month_dec                   1.024404\n14               month_jul                   1.522485\n15               month_jun                   1.601930\n16               month_mar                   1.021689\n17               month_may                   1.214999\n18               month_nov                   1.059931\n19               month_oct                   1.016458\n20               month_sep                   1.014909\n21       contact_telephone                   1.030093\n22              job_admin.                   6.248120\n23         job_blue-collar                   1.427232\n24        job_entrepreneur                   1.030387\n25           job_housemaid                   1.021212\n26          job_management                   1.046097\n27             job_retired                   1.020034\n28            job_services                   1.029785\n29             job_student                   1.006696\n30          job_technician                   1.011123\n31          job_unemployed                   1.000913\n32             job_unknown                   1.003515\n33              default_no                   1.000268\n34             default_yes                   1.000000\n"
     ]
    }
   ],
   "source": [
    "variance_inflation_list = []\n",
    "variables = pd.Series(x_train.drop(columns_to_drop, axis=1).columns)\n",
    "completed_cols = []\n",
    "variance_inflation_factors = []\n",
    "\n",
    "for variable in variables:\n",
    "    completed_cols.append(variable)\n",
    "    dependent_variable = variable\n",
    "    independent_variables = variables[~variables.isin(completed_cols)]\n",
    "    mod = sm.OLS(x_train.drop(columns_to_drop, axis=1)[dependent_variable], sm.add_constant(x_train.drop(columns_to_drop, axis=1)[independent_variables.to_list()]))\n",
    "    residuals = mod.fit()\n",
    "    variance_inflation_factor = 1 / (1 - residuals.rsquared)\n",
    "    variance_inflation_factors.append({'dependent_variable': dependent_variable, 'variance_inflation_factor': variance_inflation_factor})\n",
    "    \n",
    "print(pd.DataFrame(variance_inflation_factors))"
   ]
  },
  {
   "cell_type": "markdown",
   "id": "incident-allen",
   "metadata": {},
   "source": [
    "We have to determine how well the classifier is doing at predicting results. We will use the c-statistic for this.\n",
    "\n",
    "$\\textrm{% concordant pairs} = \\frac{\\textrm{Number of Concordant pairs}}{\\textrm{Total pairs}}$\n",
    "\n",
    "$\\textrm{% discordant pairs} = \\frac{\\textrm{Number of Discordant pairs}}{\\textrm{Total pairs}}$\n",
    "\n",
    "$\\textrm{% tied pairs} = \\frac{\\textrm{Number of Tied pairs}}{\\textrm{Total pairs}}$\n",
    "\n",
    "$\\textrm{c statistic} = 0.5 + \\frac{(\\textrm{% Concordant pairs - % Discordant pairs})}{2}$"
   ]
  },
  {
   "cell_type": "code",
   "execution_count": 64,
   "id": "forty-radical",
   "metadata": {},
   "outputs": [],
   "source": [
    "def df_crossjoin(df1, df2, **kwargs):\n",
    "    df1['temp_key'] = 1\n",
    "    df2['temp_key'] = 1\n",
    "    return_df = pd.merge(df1, df2, on='temp_key', **kwargs).drop('temp_key', axis=1)\n",
    "    return_df.index = pd.MultiIndex.from_product((df1.index, df2.index))\n",
    "    return return_df"
   ]
  },
  {
   "cell_type": "code",
   "execution_count": 65,
   "id": "single-accuracy",
   "metadata": {},
   "outputs": [
    {
     "output_type": "stream",
     "name": "stdout",
     "text": [
      "C-statistic: 0.9385172268269756\n"
     ]
    }
   ],
   "source": [
    "y_prediction = pd.DataFrame(logistic_model.predict(sm.add_constant(x_train.drop(columns_to_drop, axis=1))))\n",
    "y_prediction.columns = [\"probabilities\"]\n",
    "both_df = pd.concat([y_train, y_prediction], axis=1)\n",
    "zeros_df = both_df[['deposit', 'probabilities']][both_df['deposit'] == 0]\n",
    "ones_df = both_df[['deposit', 'probabilities']][both_df['deposit'] == 1]\n",
    "joined_df = df_crossjoin(ones_df, zeros_df)\n",
    "joined_df['concordant_pair'] = 0\n",
    "joined_df.loc[joined_df['probabilities_x'] > joined_df['probabilities_y'], 'concordant_pair'] = 1\n",
    "joined_df['discordant_pair'] = 0\n",
    "joined_df.loc[joined_df['probabilities_x'] < joined_df['probabilities_y'], 'discordant_pair'] = 1\n",
    "joined_df['tied_pair'] = 0\n",
    "joined_df.loc[joined_df['probabilities_x'] == joined_df['probabilities_y'], 'tied_pair'] = 1\n",
    "p_concordant = (sum(joined_df['concordant_pair']) * 1.0 ) / (joined_df.shape[0])\n",
    "p_discordant = (sum(joined_df['discordant_pair']) * 1.0 ) / (joined_df.shape[0])\n",
    "c_statistic = 0.5 + (p_concordant - p_discordant) / 2.0\n",
    "print(\"C-statistic: \" + str(c_statistic))"
   ]
  },
  {
   "cell_type": "markdown",
   "id": "written-reservation",
   "metadata": {},
   "source": [
    "Our c-statistic is > 0.7 which is an extremely strong model however we need to address the variables that are multi-colinear and that do not have strong explanitory power. This now becomes an iterative process where we remove variables with a high p-value and a high variance inflation factor while trying to maintain a strong c-statistic. We will start by eliminating `default_yes` and rerunning the process again."
   ]
  },
  {
   "cell_type": "code",
   "execution_count": 66,
   "id": "killing-robin",
   "metadata": {},
   "outputs": [
    {
     "output_type": "stream",
     "name": "stdout",
     "text": [
      "Optimization terminated successfully.\n",
      "         Current function value: 0.202420\n",
      "         Iterations 10\n",
      "                           Logit Regression Results                           \n",
      "==============================================================================\n",
      "Dep. Variable:                deposit   No. Observations:                28831\n",
      "Model:                          Logit   Df Residuals:                    28796\n",
      "Method:                           MLE   Df Model:                           34\n",
      "Date:                Mon, 08 Feb 2021   Pseudo R-squ.:                  0.4210\n",
      "Time:                        20:44:59   Log-Likelihood:                -5836.0\n",
      "converged:                       True   LL-Null:                       -10079.\n",
      "Covariance Type:            nonrobust   LLR p-value:                     0.000\n",
      "==========================================================================================\n",
      "                             coef    std err          z      P>|z|      [0.025      0.975]\n",
      "------------------------------------------------------------------------------------------\n",
      "const                   -288.6970     46.823     -6.166      0.000    -380.468    -196.926\n",
      "duration                   0.0049   9.21e-05     53.611      0.000       0.005       0.005\n",
      "nr_employed                0.0083      0.004      2.200      0.028       0.001       0.016\n",
      "euribor3m                  0.3740      0.156      2.403      0.016       0.069       0.679\n",
      "emp_var_rate              -2.0566      0.175    -11.730      0.000      -2.400      -1.713\n",
      "cons_conf_idx              0.0257      0.009      2.745      0.006       0.007       0.044\n",
      "cons_price_idx             2.5888      0.310      8.359      0.000       1.982       3.196\n",
      "pdays                     -0.0164      0.022     -0.751      0.453      -0.059       0.026\n",
      "age                       -0.0032      0.003     -1.200      0.230      -0.008       0.002\n",
      "previous                  -0.0557      0.074     -0.751      0.453      -0.201       0.090\n",
      "client_was_contacted_0    -1.0519      0.358     -2.935      0.003      -1.754      -0.350\n",
      "poutcome_failure          -0.5094      0.117     -4.368      0.000      -0.738      -0.281\n",
      "poutcome_success           0.5638      0.283      1.994      0.046       0.010       1.118\n",
      "month_aug                  0.9459      0.147      6.441      0.000       0.658       1.234\n",
      "month_dec                  0.3736      0.249      1.499      0.134      -0.115       0.862\n",
      "month_jul                  0.1779      0.116      1.537      0.124      -0.049       0.405\n",
      "month_jun                 -0.6103      0.153     -3.980      0.000      -0.911      -0.310\n",
      "month_mar                  2.1336      0.174     12.268      0.000       1.793       2.474\n",
      "month_may                 -0.3623      0.100     -3.630      0.000      -0.558      -0.167\n",
      "month_nov                 -0.3852      0.146     -2.633      0.008      -0.672      -0.098\n",
      "month_oct                  0.1542      0.188      0.822      0.411      -0.214       0.522\n",
      "month_sep                  0.5423      0.219      2.475      0.013       0.113       0.972\n",
      "contact_telephone         -0.7579      0.095     -8.014      0.000      -0.943      -0.573\n",
      "job_admin.                 0.2625      0.146      1.799      0.072      -0.023       0.548\n",
      "job_blue-collar           -0.0288      0.152     -0.190      0.850      -0.326       0.269\n",
      "job_entrepreneur           0.1851      0.197      0.941      0.347      -0.201       0.571\n",
      "job_housemaid              0.2303      0.217      1.059      0.290      -0.196       0.657\n",
      "job_management             0.3112      0.164      1.898      0.058      -0.010       0.633\n",
      "job_retired                0.3646      0.182      2.007      0.045       0.009       0.721\n",
      "job_services               0.0862      0.164      0.526      0.599      -0.235       0.407\n",
      "job_student                0.3539      0.184      1.927      0.054      -0.006       0.714\n",
      "job_technician             0.2360      0.151      1.558      0.119      -0.061       0.533\n",
      "job_unemployed             0.0616      0.203      0.303      0.762      -0.337       0.460\n",
      "job_unknown                0.3260      0.320      1.018      0.309      -0.301       0.954\n",
      "default_no                 0.2928      0.081      3.621      0.000       0.134       0.451\n",
      "==========================================================================================\n"
     ]
    }
   ],
   "source": [
    "columns_to_drop = ['client_was_contacted_1', 'poutcome_nonexistent', 'month_apr', 'contact_cellular', 'job_self-employed', 'default_unknown', 'default_yes']\n",
    "logistic_model = sm.Logit(y_train, sm.add_constant(x_train.drop(columns_to_drop, axis=1))).fit(maxiter=1000)\n",
    "print(logistic_model.summary())"
   ]
  },
  {
   "cell_type": "markdown",
   "id": "amateur-alias",
   "metadata": {},
   "source": [
    "We now remove `job_unemployed`"
   ]
  },
  {
   "cell_type": "code",
   "execution_count": 67,
   "id": "thrown-holder",
   "metadata": {},
   "outputs": [
    {
     "output_type": "stream",
     "name": "stdout",
     "text": [
      "Optimization terminated successfully.\n",
      "         Current function value: 0.202422\n",
      "         Iterations 10\n",
      "                           Logit Regression Results                           \n",
      "==============================================================================\n",
      "Dep. Variable:                deposit   No. Observations:                28831\n",
      "Model:                          Logit   Df Residuals:                    28797\n",
      "Method:                           MLE   Df Model:                           33\n",
      "Date:                Mon, 08 Feb 2021   Pseudo R-squ.:                  0.4210\n",
      "Time:                        20:45:00   Log-Likelihood:                -5836.0\n",
      "converged:                       True   LL-Null:                       -10079.\n",
      "Covariance Type:            nonrobust   LLR p-value:                     0.000\n",
      "==========================================================================================\n",
      "                             coef    std err          z      P>|z|      [0.025      0.975]\n",
      "------------------------------------------------------------------------------------------\n",
      "const                   -288.5897     46.819     -6.164      0.000    -380.354    -196.826\n",
      "duration                   0.0049   9.21e-05     53.611      0.000       0.005       0.005\n",
      "nr_employed                0.0083      0.004      2.198      0.028       0.001       0.016\n",
      "euribor3m                  0.3740      0.156      2.403      0.016       0.069       0.679\n",
      "emp_var_rate              -2.0563      0.175    -11.729      0.000      -2.400      -1.713\n",
      "cons_conf_idx              0.0257      0.009      2.747      0.006       0.007       0.044\n",
      "cons_price_idx             2.5884      0.310      8.358      0.000       1.981       3.195\n",
      "pdays                     -0.0164      0.022     -0.751      0.453      -0.059       0.026\n",
      "age                       -0.0032      0.003     -1.198      0.231      -0.008       0.002\n",
      "previous                  -0.0556      0.074     -0.750      0.453      -0.201       0.090\n",
      "client_was_contacted_0    -1.0512      0.358     -2.933      0.003      -1.754      -0.349\n",
      "poutcome_failure          -0.5097      0.117     -4.371      0.000      -0.738      -0.281\n",
      "poutcome_success           0.5649      0.283      1.998      0.046       0.011       1.119\n",
      "month_aug                  0.9463      0.147      6.444      0.000       0.658       1.234\n",
      "month_dec                  0.3746      0.249      1.503      0.133      -0.114       0.863\n",
      "month_jul                  0.1785      0.116      1.542      0.123      -0.048       0.405\n",
      "month_jun                 -0.6094      0.153     -3.975      0.000      -0.910      -0.309\n",
      "month_mar                  2.1337      0.174     12.269      0.000       1.793       2.475\n",
      "month_may                 -0.3619      0.100     -3.627      0.000      -0.558      -0.166\n",
      "month_nov                 -0.3848      0.146     -2.630      0.009      -0.671      -0.098\n",
      "month_oct                  0.1547      0.188      0.825      0.410      -0.213       0.522\n",
      "month_sep                  0.5425      0.219      2.476      0.013       0.113       0.972\n",
      "contact_telephone         -0.7577      0.095     -8.011      0.000      -0.943      -0.572\n",
      "job_admin.                 0.2342      0.111      2.101      0.036       0.016       0.453\n",
      "job_blue-collar           -0.0569      0.120     -0.476      0.634      -0.291       0.177\n",
      "job_entrepreneur           0.1570      0.173      0.907      0.365      -0.182       0.496\n",
      "job_housemaid              0.2019      0.196      1.031      0.303      -0.182       0.586\n",
      "job_management             0.2829      0.134      2.106      0.035       0.020       0.546\n",
      "job_retired                0.3358      0.154      2.175      0.030       0.033       0.638\n",
      "job_services               0.0580      0.134      0.431      0.666      -0.206       0.322\n",
      "job_student                0.3253      0.157      2.069      0.039       0.017       0.634\n",
      "job_technician             0.2078      0.119      1.748      0.080      -0.025       0.441\n",
      "job_unknown                0.2974      0.306      0.973      0.331      -0.302       0.897\n",
      "default_no                 0.2926      0.081      3.619      0.000       0.134       0.451\n",
      "==========================================================================================\n"
     ]
    }
   ],
   "source": [
    "columns_to_drop = ['client_was_contacted_1', 'poutcome_nonexistent', 'month_apr', 'contact_cellular', 'job_self-employed', 'default_unknown', 'default_yes', 'job_unemployed']\n",
    "logistic_model = sm.Logit(y_train, sm.add_constant(x_train.drop(columns_to_drop, axis=1))).fit(maxiter=1000)\n",
    "print(logistic_model.summary())"
   ]
  },
  {
   "cell_type": "markdown",
   "id": "ordinary-magnitude",
   "metadata": {},
   "source": [
    "We now remove `job_services`"
   ]
  },
  {
   "cell_type": "code",
   "execution_count": 68,
   "id": "sudden-yeast",
   "metadata": {},
   "outputs": [
    {
     "output_type": "stream",
     "name": "stdout",
     "text": [
      "Optimization terminated successfully.\n",
      "         Current function value: 0.202425\n",
      "         Iterations 10\n",
      "                           Logit Regression Results                           \n",
      "==============================================================================\n",
      "Dep. Variable:                deposit   No. Observations:                28831\n",
      "Model:                          Logit   Df Residuals:                    28798\n",
      "Method:                           MLE   Df Model:                           32\n",
      "Date:                Mon, 08 Feb 2021   Pseudo R-squ.:                  0.4210\n",
      "Time:                        20:45:00   Log-Likelihood:                -5836.1\n",
      "converged:                       True   LL-Null:                       -10079.\n",
      "Covariance Type:            nonrobust   LLR p-value:                     0.000\n",
      "==========================================================================================\n",
      "                             coef    std err          z      P>|z|      [0.025      0.975]\n",
      "------------------------------------------------------------------------------------------\n",
      "const                   -288.6046     46.815     -6.165      0.000    -380.359    -196.850\n",
      "duration                   0.0049    9.2e-05     53.610      0.000       0.005       0.005\n",
      "nr_employed                0.0083      0.004      2.202      0.028       0.001       0.016\n",
      "euribor3m                  0.3727      0.156      2.396      0.017       0.068       0.678\n",
      "emp_var_rate              -2.0551      0.175    -11.726      0.000      -2.399      -1.712\n",
      "cons_conf_idx              0.0257      0.009      2.748      0.006       0.007       0.044\n",
      "cons_price_idx             2.5883      0.310      8.359      0.000       1.981       3.195\n",
      "pdays                     -0.0163      0.022     -0.748      0.454      -0.059       0.026\n",
      "age                       -0.0033      0.003     -1.215      0.224      -0.009       0.002\n",
      "previous                  -0.0556      0.074     -0.749      0.454      -0.201       0.090\n",
      "client_was_contacted_0    -1.0510      0.358     -2.933      0.003      -1.753      -0.349\n",
      "poutcome_failure          -0.5088      0.117     -4.364      0.000      -0.737      -0.280\n",
      "poutcome_success           0.5645      0.283      1.997      0.046       0.010       1.119\n",
      "month_aug                  0.9450      0.147      6.437      0.000       0.657       1.233\n",
      "month_dec                  0.3738      0.249      1.500      0.134      -0.115       0.862\n",
      "month_jul                  0.1778      0.116      1.536      0.124      -0.049       0.405\n",
      "month_jun                 -0.6105      0.153     -3.983      0.000      -0.911      -0.310\n",
      "month_mar                  2.1324      0.174     12.265      0.000       1.792       2.473\n",
      "month_may                 -0.3615      0.100     -3.622      0.000      -0.557      -0.166\n",
      "month_nov                 -0.3853      0.146     -2.634      0.008      -0.672      -0.099\n",
      "month_oct                  0.1541      0.188      0.822      0.411      -0.214       0.522\n",
      "month_sep                  0.5408      0.219      2.469      0.014       0.111       0.970\n",
      "contact_telephone         -0.7574      0.095     -8.010      0.000      -0.943      -0.572\n",
      "job_admin.                 0.2014      0.081      2.485      0.013       0.043       0.360\n",
      "job_blue-collar           -0.0904      0.091     -0.998      0.318      -0.268       0.087\n",
      "job_entrepreneur           0.1240      0.155      0.799      0.424      -0.180       0.428\n",
      "job_housemaid              0.1695      0.181      0.938      0.348      -0.185       0.524\n",
      "job_management             0.2502      0.111      2.262      0.024       0.033       0.467\n",
      "job_retired                0.3048      0.136      2.234      0.025       0.037       0.572\n",
      "job_student                0.2923      0.137      2.131      0.033       0.023       0.561\n",
      "job_technician             0.1748      0.091      1.927      0.054      -0.003       0.353\n",
      "job_unknown                0.2653      0.296      0.895      0.371      -0.316       0.846\n",
      "default_no                 0.2924      0.081      3.616      0.000       0.134       0.451\n",
      "==========================================================================================\n"
     ]
    }
   ],
   "source": [
    "columns_to_drop = ['client_was_contacted_1', 'poutcome_nonexistent', 'month_apr', 'contact_cellular', 'job_self-employed', 'default_unknown', 'default_yes', 'job_unemployed', 'job_services']\n",
    "logistic_model = sm.Logit(y_train, sm.add_constant(x_train.drop(columns_to_drop, axis=1))).fit(maxiter=1000)\n",
    "print(logistic_model.summary())"
   ]
  },
  {
   "cell_type": "markdown",
   "id": "amended-rocket",
   "metadata": {},
   "source": [
    "We can now remove `previous`"
   ]
  },
  {
   "cell_type": "code",
   "execution_count": 69,
   "id": "simple-deficit",
   "metadata": {},
   "outputs": [
    {
     "output_type": "stream",
     "name": "stdout",
     "text": [
      "Optimization terminated successfully.\n",
      "         Current function value: 0.202435\n",
      "         Iterations 10\n",
      "                           Logit Regression Results                           \n",
      "==============================================================================\n",
      "Dep. Variable:                deposit   No. Observations:                28831\n",
      "Model:                          Logit   Df Residuals:                    28799\n",
      "Method:                           MLE   Df Model:                           31\n",
      "Date:                Mon, 08 Feb 2021   Pseudo R-squ.:                  0.4209\n",
      "Time:                        20:45:01   Log-Likelihood:                -5836.4\n",
      "converged:                       True   LL-Null:                       -10079.\n",
      "Covariance Type:            nonrobust   LLR p-value:                     0.000\n",
      "==========================================================================================\n",
      "                             coef    std err          z      P>|z|      [0.025      0.975]\n",
      "------------------------------------------------------------------------------------------\n",
      "const                   -287.9096     46.823     -6.149      0.000    -379.680    -196.139\n",
      "duration                   0.0049    9.2e-05     53.609      0.000       0.005       0.005\n",
      "nr_employed                0.0084      0.004      2.211      0.027       0.001       0.016\n",
      "euribor3m                  0.3727      0.156      2.395      0.017       0.068       0.678\n",
      "emp_var_rate              -2.0540      0.175    -11.715      0.000      -2.398      -1.710\n",
      "cons_conf_idx              0.0258      0.009      2.752      0.006       0.007       0.044\n",
      "cons_price_idx             2.5778      0.309      8.331      0.000       1.971       3.184\n",
      "pdays                     -0.0134      0.021     -0.626      0.532      -0.055       0.029\n",
      "age                       -0.0033      0.003     -1.219      0.223      -0.009       0.002\n",
      "client_was_contacted_0    -0.9496      0.332     -2.863      0.004      -1.600      -0.300\n",
      "poutcome_failure          -0.5737      0.078     -7.321      0.000      -0.727      -0.420\n",
      "poutcome_success           0.5673      0.283      2.007      0.045       0.013       1.121\n",
      "month_aug                  0.9368      0.146      6.396      0.000       0.650       1.224\n",
      "month_dec                  0.3716      0.249      1.492      0.136      -0.117       0.860\n",
      "month_jul                  0.1764      0.116      1.525      0.127      -0.050       0.403\n",
      "month_jun                 -0.6100      0.153     -3.979      0.000      -0.910      -0.309\n",
      "month_mar                  2.1288      0.174     12.249      0.000       1.788       2.469\n",
      "month_may                 -0.3643      0.100     -3.653      0.000      -0.560      -0.169\n",
      "month_nov                 -0.3905      0.146     -2.672      0.008      -0.677      -0.104\n",
      "month_oct                  0.1535      0.188      0.819      0.413      -0.214       0.521\n",
      "month_sep                  0.5364      0.219      2.450      0.014       0.107       0.966\n",
      "contact_telephone         -0.7545      0.094     -7.987      0.000      -0.940      -0.569\n",
      "job_admin.                 0.2013      0.081      2.485      0.013       0.043       0.360\n",
      "job_blue-collar           -0.0906      0.091     -1.000      0.317      -0.268       0.087\n",
      "job_entrepreneur           0.1243      0.155      0.801      0.423      -0.180       0.428\n",
      "job_housemaid              0.1710      0.181      0.946      0.344      -0.183       0.525\n",
      "job_management             0.2490      0.111      2.250      0.024       0.032       0.466\n",
      "job_retired                0.3054      0.136      2.238      0.025       0.038       0.573\n",
      "job_student                0.2886      0.137      2.104      0.035       0.020       0.557\n",
      "job_technician             0.1753      0.091      1.933      0.053      -0.002       0.353\n",
      "job_unknown                0.2664      0.297      0.898      0.369      -0.315       0.848\n",
      "default_no                 0.2926      0.081      3.618      0.000       0.134       0.451\n",
      "==========================================================================================\n"
     ]
    }
   ],
   "source": [
    "columns_to_drop = ['client_was_contacted_1', 'poutcome_nonexistent', 'month_apr', 'contact_cellular', 'job_self-employed', 'default_unknown', 'default_yes', 'job_unemployed', 'job_services', 'previous']\n",
    "logistic_model = sm.Logit(y_train, sm.add_constant(x_train.drop(columns_to_drop, axis=1))).fit(maxiter=1000)\n",
    "print(logistic_model.summary())"
   ]
  },
  {
   "cell_type": "markdown",
   "id": "demanding-parameter",
   "metadata": {},
   "source": [
    "We now remove `pdays`"
   ]
  },
  {
   "cell_type": "code",
   "execution_count": 70,
   "id": "exciting-wagon",
   "metadata": {},
   "outputs": [
    {
     "output_type": "stream",
     "name": "stdout",
     "text": [
      "Optimization terminated successfully.\n",
      "         Current function value: 0.202441\n",
      "         Iterations 10\n",
      "                           Logit Regression Results                           \n",
      "==============================================================================\n",
      "Dep. Variable:                deposit   No. Observations:                28831\n",
      "Model:                          Logit   Df Residuals:                    28800\n",
      "Method:                           MLE   Df Model:                           30\n",
      "Date:                Mon, 08 Feb 2021   Pseudo R-squ.:                  0.4209\n",
      "Time:                        20:45:01   Log-Likelihood:                -5836.6\n",
      "converged:                       True   LL-Null:                       -10079.\n",
      "Covariance Type:            nonrobust   LLR p-value:                     0.000\n",
      "==========================================================================================\n",
      "                             coef    std err          z      P>|z|      [0.025      0.975]\n",
      "------------------------------------------------------------------------------------------\n",
      "const                   -288.6002     46.814     -6.165      0.000    -380.354    -196.847\n",
      "duration                   0.0049    9.2e-05     53.609      0.000       0.005       0.005\n",
      "nr_employed                0.0084      0.004      2.221      0.026       0.001       0.016\n",
      "euribor3m                  0.3753      0.156      2.413      0.016       0.070       0.680\n",
      "emp_var_rate              -2.0593      0.175    -11.758      0.000      -2.403      -1.716\n",
      "cons_conf_idx              0.0257      0.009      2.747      0.006       0.007       0.044\n",
      "cons_price_idx             2.5816      0.309      8.343      0.000       1.975       3.188\n",
      "age                       -0.0033      0.003     -1.217      0.224      -0.009       0.002\n",
      "client_was_contacted_0    -0.8130      0.250     -3.254      0.001      -1.303      -0.323\n",
      "poutcome_failure          -0.5732      0.078     -7.316      0.000      -0.727      -0.420\n",
      "poutcome_success           0.6306      0.264      2.387      0.017       0.113       1.148\n",
      "month_aug                  0.9386      0.146      6.409      0.000       0.652       1.226\n",
      "month_dec                  0.3703      0.249      1.486      0.137      -0.118       0.859\n",
      "month_jul                  0.1754      0.116      1.515      0.130      -0.051       0.402\n",
      "month_jun                 -0.6118      0.153     -3.991      0.000      -0.912      -0.311\n",
      "month_mar                  2.1294      0.174     12.251      0.000       1.789       2.470\n",
      "month_may                 -0.3636      0.100     -3.646      0.000      -0.559      -0.168\n",
      "month_nov                 -0.3902      0.146     -2.671      0.008      -0.677      -0.104\n",
      "month_oct                  0.1537      0.188      0.819      0.413      -0.214       0.521\n",
      "month_sep                  0.5380      0.219      2.457      0.014       0.109       0.967\n",
      "contact_telephone         -0.7548      0.094     -7.990      0.000      -0.940      -0.570\n",
      "job_admin.                 0.2004      0.081      2.475      0.013       0.042       0.359\n",
      "job_blue-collar           -0.0911      0.091     -1.006      0.314      -0.269       0.086\n",
      "job_entrepreneur           0.1232      0.155      0.795      0.427      -0.181       0.427\n",
      "job_housemaid              0.1713      0.181      0.949      0.343      -0.183       0.525\n",
      "job_management             0.2488      0.111      2.250      0.024       0.032       0.466\n",
      "job_retired                0.3060      0.136      2.243      0.025       0.039       0.573\n",
      "job_student                0.2874      0.137      2.096      0.036       0.019       0.556\n",
      "job_technician             0.1744      0.091      1.922      0.055      -0.003       0.352\n",
      "job_unknown                0.2689      0.296      0.908      0.364      -0.312       0.849\n",
      "default_no                 0.2927      0.081      3.621      0.000       0.134       0.451\n",
      "==========================================================================================\n"
     ]
    }
   ],
   "source": [
    "columns_to_drop = ['client_was_contacted_1', 'poutcome_nonexistent', 'month_apr', 'contact_cellular', 'job_self-employed', 'default_unknown', 'default_yes', 'job_unemployed', 'job_services', 'previous', 'pdays']\n",
    "logistic_model = sm.Logit(y_train, sm.add_constant(x_train.drop(columns_to_drop, axis=1))).fit(maxiter=1000)\n",
    "print(logistic_model.summary())"
   ]
  },
  {
   "cell_type": "markdown",
   "id": "premium-cartridge",
   "metadata": {},
   "source": [
    "We now remove `job_entrepreneur `"
   ]
  },
  {
   "cell_type": "code",
   "execution_count": 71,
   "id": "acceptable-organization",
   "metadata": {},
   "outputs": [
    {
     "output_type": "stream",
     "name": "stdout",
     "text": [
      "Optimization terminated successfully.\n",
      "         Current function value: 0.202452\n",
      "         Iterations 10\n",
      "                           Logit Regression Results                           \n",
      "==============================================================================\n",
      "Dep. Variable:                deposit   No. Observations:                28831\n",
      "Model:                          Logit   Df Residuals:                    28801\n",
      "Method:                           MLE   Df Model:                           29\n",
      "Date:                Mon, 08 Feb 2021   Pseudo R-squ.:                  0.4209\n",
      "Time:                        20:45:02   Log-Likelihood:                -5836.9\n",
      "converged:                       True   LL-Null:                       -10079.\n",
      "Covariance Type:            nonrobust   LLR p-value:                     0.000\n",
      "==========================================================================================\n",
      "                             coef    std err          z      P>|z|      [0.025      0.975]\n",
      "------------------------------------------------------------------------------------------\n",
      "const                   -288.7404     46.811     -6.168      0.000    -380.488    -196.993\n",
      "duration                   0.0049    9.2e-05     53.619      0.000       0.005       0.005\n",
      "nr_employed                0.0084      0.004      2.228      0.026       0.001       0.016\n",
      "euribor3m                  0.3745      0.155      2.409      0.016       0.070       0.679\n",
      "emp_var_rate              -2.0594      0.175    -11.758      0.000      -2.403      -1.716\n",
      "cons_conf_idx              0.0257      0.009      2.745      0.006       0.007       0.044\n",
      "cons_price_idx             2.5819      0.309      8.345      0.000       1.975       3.188\n",
      "age                       -0.0031      0.003     -1.169      0.242      -0.008       0.002\n",
      "client_was_contacted_0    -0.8149      0.250     -3.261      0.001      -1.305      -0.325\n",
      "poutcome_failure          -0.5742      0.078     -7.330      0.000      -0.728      -0.421\n",
      "poutcome_success           0.6284      0.264      2.379      0.017       0.111       1.146\n",
      "month_aug                  0.9375      0.146      6.402      0.000       0.650       1.225\n",
      "month_dec                  0.3684      0.249      1.478      0.139      -0.120       0.857\n",
      "month_jul                  0.1743      0.116      1.506      0.132      -0.052       0.401\n",
      "month_jun                 -0.6123      0.153     -3.995      0.000      -0.913      -0.312\n",
      "month_mar                  2.1274      0.174     12.241      0.000       1.787       2.468\n",
      "month_may                 -0.3645      0.100     -3.656      0.000      -0.560      -0.169\n",
      "month_nov                 -0.3885      0.146     -2.660      0.008      -0.675      -0.102\n",
      "month_oct                  0.1532      0.188      0.817      0.414      -0.214       0.521\n",
      "month_sep                  0.5389      0.219      2.461      0.014       0.110       0.968\n",
      "contact_telephone         -0.7545      0.094     -7.988      0.000      -0.940      -0.569\n",
      "job_admin.                 0.1788      0.076      2.352      0.019       0.030       0.328\n",
      "job_blue-collar           -0.1134      0.086     -1.319      0.187      -0.282       0.055\n",
      "job_housemaid              0.1482      0.178      0.832      0.405      -0.201       0.497\n",
      "job_management             0.2263      0.107      2.120      0.034       0.017       0.436\n",
      "job_retired                0.2811      0.133      2.120      0.034       0.021       0.541\n",
      "job_student                0.2681      0.135      1.989      0.047       0.004       0.532\n",
      "job_technician             0.1527      0.086      1.770      0.077      -0.016       0.322\n",
      "job_unknown                0.2464      0.295      0.836      0.403      -0.331       0.824\n",
      "default_no                 0.2930      0.081      3.625      0.000       0.135       0.451\n",
      "==========================================================================================\n"
     ]
    }
   ],
   "source": [
    "columns_to_drop = ['client_was_contacted_1', 'poutcome_nonexistent', 'month_apr', 'contact_cellular', 'job_self-employed', 'default_unknown', 'default_yes', 'job_unemployed', 'job_services', 'previous', 'pdays', 'job_entrepreneur']\n",
    "logistic_model = sm.Logit(y_train, sm.add_constant(x_train.drop(columns_to_drop, axis=1))).fit(maxiter=1000)\n",
    "print(logistic_model.summary())"
   ]
  },
  {
   "cell_type": "markdown",
   "id": "equal-praise",
   "metadata": {},
   "source": [
    "We now remove `job_housemaid `"
   ]
  },
  {
   "cell_type": "code",
   "execution_count": 72,
   "id": "ranging-recorder",
   "metadata": {},
   "outputs": [
    {
     "output_type": "stream",
     "name": "stdout",
     "text": [
      "Optimization terminated successfully.\n",
      "         Current function value: 0.202464\n",
      "         Iterations 10\n",
      "                           Logit Regression Results                           \n",
      "==============================================================================\n",
      "Dep. Variable:                deposit   No. Observations:                28831\n",
      "Model:                          Logit   Df Residuals:                    28802\n",
      "Method:                           MLE   Df Model:                           28\n",
      "Date:                Mon, 08 Feb 2021   Pseudo R-squ.:                  0.4209\n",
      "Time:                        20:45:03   Log-Likelihood:                -5837.2\n",
      "converged:                       True   LL-Null:                       -10079.\n",
      "Covariance Type:            nonrobust   LLR p-value:                     0.000\n",
      "==========================================================================================\n",
      "                             coef    std err          z      P>|z|      [0.025      0.975]\n",
      "------------------------------------------------------------------------------------------\n",
      "const                   -288.0357     46.805     -6.154      0.000    -379.771    -196.300\n",
      "duration                   0.0049    9.2e-05     53.620      0.000       0.005       0.005\n",
      "nr_employed                0.0083      0.004      2.211      0.027       0.001       0.016\n",
      "euribor3m                  0.3765      0.155      2.422      0.015       0.072       0.681\n",
      "emp_var_rate              -2.0577      0.175    -11.748      0.000      -2.401      -1.714\n",
      "cons_conf_idx              0.0258      0.009      2.753      0.006       0.007       0.044\n",
      "cons_price_idx             2.5781      0.309      8.333      0.000       1.972       3.185\n",
      "age                       -0.0028      0.003     -1.063      0.288      -0.008       0.002\n",
      "client_was_contacted_0    -0.8158      0.250     -3.265      0.001      -1.306      -0.326\n",
      "poutcome_failure          -0.5747      0.078     -7.336      0.000      -0.728      -0.421\n",
      "poutcome_success           0.6270      0.264      2.373      0.018       0.109       1.145\n",
      "month_aug                  0.9368      0.146      6.396      0.000       0.650       1.224\n",
      "month_dec                  0.3664      0.249      1.471      0.141      -0.122       0.855\n",
      "month_jul                  0.1752      0.116      1.515      0.130      -0.052       0.402\n",
      "month_jun                 -0.6101      0.153     -3.981      0.000      -0.911      -0.310\n",
      "month_mar                  2.1256      0.174     12.231      0.000       1.785       2.466\n",
      "month_may                 -0.3654      0.100     -3.665      0.000      -0.561      -0.170\n",
      "month_nov                 -0.3904      0.146     -2.673      0.008      -0.677      -0.104\n",
      "month_oct                  0.1499      0.187      0.800      0.424      -0.218       0.517\n",
      "month_sep                  0.5347      0.219      2.443      0.015       0.106       0.964\n",
      "contact_telephone         -0.7550      0.094     -7.994      0.000      -0.940      -0.570\n",
      "job_admin.                 0.1627      0.073      2.218      0.027       0.019       0.306\n",
      "job_blue-collar           -0.1295      0.084     -1.549      0.121      -0.293       0.034\n",
      "job_management             0.2090      0.105      1.998      0.046       0.004       0.414\n",
      "job_retired                0.2555      0.129      1.982      0.047       0.003       0.508\n",
      "job_student                0.2557      0.134      1.910      0.056      -0.007       0.518\n",
      "job_technician             0.1365      0.084      1.627      0.104      -0.028       0.301\n",
      "job_unknown                0.2266      0.294      0.772      0.440      -0.349       0.802\n",
      "default_no                 0.2923      0.081      3.616      0.000       0.134       0.451\n",
      "==========================================================================================\n"
     ]
    }
   ],
   "source": [
    "columns_to_drop = ['client_was_contacted_1', 'poutcome_nonexistent', 'month_apr', 'contact_cellular', 'job_self-employed', 'default_unknown', 'default_yes', 'job_unemployed', 'job_services', 'previous', 'pdays', 'job_entrepreneur', 'job_housemaid']\n",
    "logistic_model = sm.Logit(y_train, sm.add_constant(x_train.drop(columns_to_drop, axis=1))).fit(maxiter=1000)\n",
    "print(logistic_model.summary())"
   ]
  },
  {
   "cell_type": "markdown",
   "id": "alpha-monroe",
   "metadata": {},
   "source": [
    "We now remove `job_unknown`"
   ]
  },
  {
   "cell_type": "code",
   "execution_count": 73,
   "id": "dedicated-grounds",
   "metadata": {},
   "outputs": [
    {
     "output_type": "stream",
     "name": "stdout",
     "text": [
      "Optimization terminated successfully.\n         Current function value: 0.202474\n         Iterations 10\n                           Logit Regression Results                           \n==============================================================================\nDep. Variable:                deposit   No. Observations:                28831\nModel:                          Logit   Df Residuals:                    28803\nMethod:                           MLE   Df Model:                           27\nDate:                Mon, 08 Feb 2021   Pseudo R-squ.:                  0.4208\nTime:                        20:45:03   Log-Likelihood:                -5837.5\nconverged:                       True   LL-Null:                       -10079.\nCovariance Type:            nonrobust   LLR p-value:                     0.000\n==========================================================================================\n                             coef    std err          z      P>|z|      [0.025      0.975]\n------------------------------------------------------------------------------------------\nconst                   -288.0765     46.809     -6.154      0.000    -379.820    -196.333\nduration                   0.0049    9.2e-05     53.623      0.000       0.005       0.005\nnr_employed                0.0083      0.004      2.206      0.027       0.001       0.016\neuribor3m                  0.3796      0.155      2.442      0.015       0.075       0.684\nemp_var_rate              -2.0605      0.175    -11.765      0.000      -2.404      -1.717\ncons_conf_idx              0.0258      0.009      2.754      0.006       0.007       0.044\ncons_price_idx             2.5795      0.309      8.337      0.000       1.973       3.186\nage                       -0.0027      0.003     -1.020      0.308      -0.008       0.002\nclient_was_contacted_0    -0.8171      0.250     -3.270      0.001      -1.307      -0.327\npoutcome_failure          -0.5740      0.078     -7.330      0.000      -0.728      -0.421\npoutcome_success           0.6264      0.264      2.371      0.018       0.109       1.144\nmonth_aug                  0.9382      0.146      6.406      0.000       0.651       1.225\nmonth_dec                  0.3658      0.249      1.468      0.142      -0.123       0.854\nmonth_jul                  0.1763      0.116      1.524      0.128      -0.050       0.403\nmonth_jun                 -0.6092      0.153     -3.975      0.000      -0.910      -0.309\nmonth_mar                  2.1267      0.174     12.237      0.000       1.786       2.467\nmonth_may                 -0.3638      0.100     -3.650      0.000      -0.559      -0.168\nmonth_nov                 -0.3922      0.146     -2.686      0.007      -0.678      -0.106\nmonth_oct                  0.1498      0.187      0.799      0.424      -0.218       0.517\nmonth_sep                  0.5373      0.219      2.455      0.014       0.108       0.966\ncontact_telephone         -0.7564      0.094     -8.010      0.000      -0.941      -0.571\njob_admin.                 0.1550      0.073      2.134      0.033       0.013       0.297\njob_blue-collar           -0.1371      0.083     -1.653      0.098      -0.300       0.025\njob_management             0.2008      0.104      1.931      0.054      -0.003       0.405\njob_retired                0.2437      0.128      1.904      0.057      -0.007       0.495\njob_student                0.2491      0.134      1.865      0.062      -0.013       0.511\njob_technician             0.1288      0.083      1.547      0.122      -0.034       0.292\ndefault_no                 0.2908      0.081      3.599      0.000       0.132       0.449\n==========================================================================================\n"
     ]
    }
   ],
   "source": [
    "columns_to_drop = ['client_was_contacted_1', 'poutcome_nonexistent', 'month_apr', 'contact_cellular', 'job_self-employed', 'default_unknown', 'default_yes', 'job_unemployed', 'job_services', 'previous', 'pdays', 'job_entrepreneur', 'job_housemaid', 'job_unknown']\n",
    "logistic_model = sm.Logit(y_train, sm.add_constant(x_train.drop(columns_to_drop, axis=1))).fit(maxiter=1000)\n",
    "print(logistic_model.summary())"
   ]
  },
  {
   "cell_type": "markdown",
   "id": "center-clear",
   "metadata": {},
   "source": [
    "We now remove `month_oct`"
   ]
  },
  {
   "cell_type": "code",
   "execution_count": 74,
   "id": "assigned-apparel",
   "metadata": {},
   "outputs": [
    {
     "output_type": "stream",
     "name": "stdout",
     "text": [
      "Optimization terminated successfully.\n",
      "         Current function value: 0.202485\n",
      "         Iterations 9\n",
      "                           Logit Regression Results                           \n",
      "==============================================================================\n",
      "Dep. Variable:                deposit   No. Observations:                28831\n",
      "Model:                          Logit   Df Residuals:                    28804\n",
      "Method:                           MLE   Df Model:                           26\n",
      "Date:                Mon, 08 Feb 2021   Pseudo R-squ.:                  0.4208\n",
      "Time:                        20:45:04   Log-Likelihood:                -5837.8\n",
      "converged:                       True   LL-Null:                       -10079.\n",
      "Covariance Type:            nonrobust   LLR p-value:                     0.000\n",
      "==========================================================================================\n",
      "                             coef    std err          z      P>|z|      [0.025      0.975]\n",
      "------------------------------------------------------------------------------------------\n",
      "const                   -269.0830     40.395     -6.661      0.000    -348.256    -189.910\n",
      "duration                   0.0049    9.2e-05     53.624      0.000       0.005       0.005\n",
      "nr_employed                0.0066      0.003      2.144      0.032       0.001       0.013\n",
      "euribor3m                  0.4501      0.128      3.516      0.000       0.199       0.701\n",
      "emp_var_rate              -2.0317      0.172    -11.831      0.000      -2.368      -1.695\n",
      "cons_conf_idx              0.0239      0.009      2.636      0.008       0.006       0.042\n",
      "cons_price_idx             2.4717      0.279      8.861      0.000       1.925       3.018\n",
      "age                       -0.0027      0.003     -1.019      0.308      -0.008       0.002\n",
      "client_was_contacted_0    -0.8221      0.250     -3.288      0.001      -1.312      -0.332\n",
      "poutcome_failure          -0.5728      0.078     -7.315      0.000      -0.726      -0.419\n",
      "poutcome_success           0.6229      0.264      2.356      0.018       0.105       1.141\n",
      "month_aug                  0.8748      0.123      7.105      0.000       0.633       1.116\n",
      "month_dec                  0.2819      0.226      1.247      0.212      -0.161       0.725\n",
      "month_jul                  0.1417      0.107      1.323      0.186      -0.068       0.352\n",
      "month_jun                 -0.6100      0.153     -3.982      0.000      -0.910      -0.310\n",
      "month_mar                  2.0572      0.150     13.676      0.000       1.762       2.352\n",
      "month_may                 -0.4043      0.086     -4.720      0.000      -0.572      -0.236\n",
      "month_nov                 -0.4634      0.116     -4.010      0.000      -0.690      -0.237\n",
      "month_sep                  0.4258      0.169      2.524      0.012       0.095       0.756\n",
      "contact_telephone         -0.7546      0.094     -7.995      0.000      -0.940      -0.570\n",
      "job_admin.                 0.1544      0.073      2.126      0.033       0.012       0.297\n",
      "job_blue-collar           -0.1361      0.083     -1.642      0.101      -0.299       0.026\n",
      "job_management             0.2007      0.104      1.931      0.053      -0.003       0.404\n",
      "job_retired                0.2465      0.128      1.927      0.054      -0.004       0.497\n",
      "job_student                0.2495      0.134      1.868      0.062      -0.012       0.511\n",
      "job_technician             0.1287      0.083      1.545      0.122      -0.035       0.292\n",
      "default_no                 0.2923      0.081      3.619      0.000       0.134       0.451\n",
      "==========================================================================================\n"
     ]
    }
   ],
   "source": [
    "columns_to_drop = ['client_was_contacted_1', 'poutcome_nonexistent', 'month_apr', 'contact_cellular', 'job_self-employed', 'default_unknown', 'default_yes', 'job_unemployed', 'job_services', 'previous', 'pdays', 'job_entrepreneur', 'job_housemaid', 'job_unknown', 'month_oct']\n",
    "logistic_model = sm.Logit(y_train, sm.add_constant(x_train.drop(columns_to_drop, axis=1))).fit(maxiter=1000)\n",
    "print(logistic_model.summary())"
   ]
  },
  {
   "cell_type": "markdown",
   "id": "complete-theology",
   "metadata": {},
   "source": [
    "We now remove `age`"
   ]
  },
  {
   "cell_type": "code",
   "execution_count": 75,
   "id": "dominican-excitement",
   "metadata": {},
   "outputs": [
    {
     "output_type": "stream",
     "name": "stdout",
     "text": [
      "Optimization terminated successfully.\n",
      "         Current function value: 0.202503\n",
      "         Iterations 9\n",
      "                           Logit Regression Results                           \n",
      "==============================================================================\n",
      "Dep. Variable:                deposit   No. Observations:                28831\n",
      "Model:                          Logit   Df Residuals:                    28805\n",
      "Method:                           MLE   Df Model:                           25\n",
      "Date:                Mon, 08 Feb 2021   Pseudo R-squ.:                  0.4207\n",
      "Time:                        20:45:04   Log-Likelihood:                -5838.4\n",
      "converged:                       True   LL-Null:                       -10079.\n",
      "Covariance Type:            nonrobust   LLR p-value:                     0.000\n",
      "==========================================================================================\n",
      "                             coef    std err          z      P>|z|      [0.025      0.975]\n",
      "------------------------------------------------------------------------------------------\n",
      "const                   -267.0590     40.346     -6.619      0.000    -346.136    -187.982\n",
      "duration                   0.0049    9.2e-05     53.622      0.000       0.005       0.005\n",
      "nr_employed                0.0064      0.003      2.102      0.036       0.000       0.012\n",
      "euribor3m                  0.4526      0.128      3.536      0.000       0.202       0.703\n",
      "emp_var_rate              -2.0245      0.172    -11.798      0.000      -2.361      -1.688\n",
      "cons_conf_idx              0.0232      0.009      2.563      0.010       0.005       0.041\n",
      "cons_price_idx             2.4560      0.279      8.818      0.000       1.910       3.002\n",
      "client_was_contacted_0    -0.8234      0.250     -3.295      0.001      -1.313      -0.334\n",
      "poutcome_failure          -0.5735      0.078     -7.323      0.000      -0.727      -0.420\n",
      "poutcome_success           0.6198      0.264      2.346      0.019       0.102       1.138\n",
      "month_aug                  0.8735      0.123      7.095      0.000       0.632       1.115\n",
      "month_dec                  0.2717      0.226      1.204      0.229      -0.171       0.714\n",
      "month_jul                  0.1488      0.107      1.392      0.164      -0.061       0.358\n",
      "month_jun                 -0.5977      0.153     -3.914      0.000      -0.897      -0.298\n",
      "month_mar                  2.0562      0.150     13.668      0.000       1.761       2.351\n",
      "month_may                 -0.3999      0.086     -4.674      0.000      -0.568      -0.232\n",
      "month_nov                 -0.4630      0.116     -4.007      0.000      -0.689      -0.237\n",
      "month_sep                  0.4236      0.169      2.512      0.012       0.093       0.754\n",
      "contact_telephone         -0.7529      0.094     -7.980      0.000      -0.938      -0.568\n",
      "job_admin.                 0.1608      0.072      2.224      0.026       0.019       0.303\n",
      "job_blue-collar           -0.1336      0.083     -1.611      0.107      -0.296       0.029\n",
      "job_management             0.1951      0.104      1.879      0.060      -0.008       0.399\n",
      "job_retired                0.1786      0.109      1.634      0.102      -0.036       0.393\n",
      "job_student                0.2916      0.127      2.295      0.022       0.043       0.541\n",
      "job_technician             0.1344      0.083      1.619      0.106      -0.028       0.297\n",
      "default_no                 0.3044      0.080      3.809      0.000       0.148       0.461\n",
      "==========================================================================================\n"
     ]
    }
   ],
   "source": [
    "columns_to_drop = ['client_was_contacted_1', 'poutcome_nonexistent', 'month_apr', 'contact_cellular', 'job_self-employed', 'default_unknown', 'default_yes', 'job_unemployed', 'job_services', 'previous', 'pdays', 'job_entrepreneur', 'job_housemaid', 'job_unknown', 'month_oct', 'age']\n",
    "logistic_model = sm.Logit(y_train, sm.add_constant(x_train.drop(columns_to_drop, axis=1))).fit(maxiter=1000)\n",
    "print(logistic_model.summary())"
   ]
  },
  {
   "cell_type": "markdown",
   "id": "american-latvia",
   "metadata": {},
   "source": [
    "We now remove `month_dec`"
   ]
  },
  {
   "cell_type": "code",
   "execution_count": 76,
   "id": "excellent-banner",
   "metadata": {},
   "outputs": [
    {
     "output_type": "stream",
     "name": "stdout",
     "text": [
      "Optimization terminated successfully.\n",
      "         Current function value: 0.202528\n",
      "         Iterations 9\n",
      "                           Logit Regression Results                           \n",
      "==============================================================================\n",
      "Dep. Variable:                deposit   No. Observations:                28831\n",
      "Model:                          Logit   Df Residuals:                    28806\n",
      "Method:                           MLE   Df Model:                           24\n",
      "Date:                Mon, 08 Feb 2021   Pseudo R-squ.:                  0.4207\n",
      "Time:                        20:45:04   Log-Likelihood:                -5839.1\n",
      "converged:                       True   LL-Null:                       -10079.\n",
      "Covariance Type:            nonrobust   LLR p-value:                     0.000\n",
      "==========================================================================================\n",
      "                             coef    std err          z      P>|z|      [0.025      0.975]\n",
      "------------------------------------------------------------------------------------------\n",
      "const                   -260.2541     39.921     -6.519      0.000    -338.498    -182.010\n",
      "duration                   0.0049    9.2e-05     53.636      0.000       0.005       0.005\n",
      "nr_employed                0.0059      0.003      1.951      0.051   -2.59e-05       0.012\n",
      "euribor3m                  0.4665      0.127      3.661      0.000       0.217       0.716\n",
      "emp_var_rate              -2.0062      0.171    -11.748      0.000      -2.341      -1.672\n",
      "cons_conf_idx              0.0233      0.009      2.571      0.010       0.006       0.041\n",
      "cons_price_idx             2.4116      0.276      8.742      0.000       1.871       2.952\n",
      "client_was_contacted_0    -0.8184      0.250     -3.280      0.001      -1.308      -0.329\n",
      "poutcome_failure          -0.5714      0.078     -7.300      0.000      -0.725      -0.418\n",
      "poutcome_success           0.6282      0.264      2.381      0.017       0.111       1.145\n",
      "month_aug                  0.8399      0.120      7.012      0.000       0.605       1.075\n",
      "month_jul                  0.1340      0.106      1.263      0.207      -0.074       0.342\n",
      "month_jun                 -0.5984      0.153     -3.922      0.000      -0.897      -0.299\n",
      "month_mar                  2.0274      0.148     13.654      0.000       1.736       2.318\n",
      "month_may                 -0.4195      0.084     -5.000      0.000      -0.584      -0.255\n",
      "month_nov                 -0.4886      0.114     -4.304      0.000      -0.711      -0.266\n",
      "month_sep                  0.3802      0.165      2.309      0.021       0.058       0.703\n",
      "contact_telephone         -0.7508      0.094     -7.963      0.000      -0.936      -0.566\n",
      "job_admin.                 0.1622      0.072      2.243      0.025       0.020       0.304\n",
      "job_blue-collar           -0.1325      0.083     -1.598      0.110      -0.295       0.030\n",
      "job_management             0.1943      0.104      1.871      0.061      -0.009       0.398\n",
      "job_retired                0.1817      0.109      1.664      0.096      -0.032       0.396\n",
      "job_student                0.2995      0.127      2.362      0.018       0.051       0.548\n",
      "job_technician             0.1351      0.083      1.628      0.104      -0.028       0.298\n",
      "default_no                 0.3042      0.080      3.807      0.000       0.148       0.461\n",
      "==========================================================================================\n"
     ]
    }
   ],
   "source": [
    "columns_to_drop = ['client_was_contacted_1', 'poutcome_nonexistent', 'month_apr', 'contact_cellular', 'job_self-employed', 'default_unknown', 'default_yes', 'job_unemployed', 'job_services', 'previous', 'pdays', 'job_entrepreneur', 'job_housemaid', 'job_unknown', 'month_oct', 'age', 'month_dec']\n",
    "logistic_model = sm.Logit(y_train, sm.add_constant(x_train.drop(columns_to_drop, axis=1))).fit(maxiter=1000)\n",
    "print(logistic_model.summary())"
   ]
  },
  {
   "cell_type": "markdown",
   "id": "atlantic-kuwait",
   "metadata": {},
   "source": [
    "We now remove `month_jul`"
   ]
  },
  {
   "cell_type": "code",
   "execution_count": 77,
   "id": "pretty-enough",
   "metadata": {},
   "outputs": [
    {
     "output_type": "stream",
     "name": "stdout",
     "text": [
      "Optimization terminated successfully.\n         Current function value: 0.202556\n         Iterations 9\n                           Logit Regression Results                           \n==============================================================================\nDep. Variable:                deposit   No. Observations:                28831\nModel:                          Logit   Df Residuals:                    28807\nMethod:                           MLE   Df Model:                           23\nDate:                Mon, 08 Feb 2021   Pseudo R-squ.:                  0.4206\nTime:                        20:45:05   Log-Likelihood:                -5839.9\nconverged:                       True   LL-Null:                       -10079.\nCovariance Type:            nonrobust   LLR p-value:                     0.000\n==========================================================================================\n                             coef    std err          z      P>|z|      [0.025      0.975]\n------------------------------------------------------------------------------------------\nconst                   -275.6509     38.033     -7.248      0.000    -350.195    -201.107\nduration                   0.0049    9.2e-05     53.635      0.000       0.005       0.005\nnr_employed                0.0070      0.003      2.410      0.016       0.001       0.013\neuribor3m                  0.4545      0.127      3.583      0.000       0.206       0.703\nemp_var_rate              -2.0528      0.167    -12.312      0.000      -2.380      -1.726\ncons_conf_idx              0.0266      0.009      3.072      0.002       0.010       0.044\ncons_price_idx             2.5191      0.263      9.592      0.000       2.004       3.034\nclient_was_contacted_0    -0.8215      0.249     -3.293      0.001      -1.310      -0.333\npoutcome_failure          -0.5733      0.078     -7.326      0.000      -0.727      -0.420\npoutcome_success           0.6267      0.264      2.376      0.017       0.110       1.144\nmonth_aug                  0.7909      0.113      6.975      0.000       0.569       1.013\nmonth_jun                 -0.6886      0.135     -5.114      0.000      -0.952      -0.425\nmonth_mar                  2.0171      0.148     13.592      0.000       1.726       2.308\nmonth_may                 -0.4565      0.079     -5.811      0.000      -0.610      -0.302\nmonth_nov                 -0.5430      0.105     -5.180      0.000      -0.748      -0.338\nmonth_sep                  0.3635      0.164      2.215      0.027       0.042       0.685\ncontact_telephone         -0.7945      0.088     -8.989      0.000      -0.968      -0.621\njob_admin.                 0.1635      0.072      2.262      0.024       0.022       0.305\njob_blue-collar           -0.1327      0.083     -1.601      0.109      -0.295       0.030\njob_management             0.1917      0.104      1.847      0.065      -0.012       0.395\njob_retired                0.1815      0.109      1.663      0.096      -0.032       0.395\njob_student                0.3032      0.127      2.391      0.017       0.055       0.552\njob_technician             0.1334      0.083      1.607      0.108      -0.029       0.296\ndefault_no                 0.3079      0.080      3.855      0.000       0.151       0.464\n==========================================================================================\n"
     ]
    }
   ],
   "source": [
    "columns_to_drop = ['client_was_contacted_1', 'poutcome_nonexistent', 'month_apr', 'contact_cellular', 'job_self-employed', 'default_unknown', 'default_yes', 'job_unemployed', 'job_services', 'previous', 'pdays', 'job_entrepreneur', 'job_housemaid', 'job_unknown', 'month_oct', 'age', 'month_dec', 'month_jul']\n",
    "logistic_model = sm.Logit(y_train, sm.add_constant(x_train.drop(columns_to_drop, axis=1))).fit(maxiter=1000)\n",
    "print(logistic_model.summary())"
   ]
  },
  {
   "cell_type": "markdown",
   "id": "later-starter",
   "metadata": {},
   "source": [
    "We now remove `job_blue-collar`"
   ]
  },
  {
   "cell_type": "code",
   "execution_count": 78,
   "id": "minimal-thing",
   "metadata": {},
   "outputs": [
    {
     "output_type": "stream",
     "name": "stdout",
     "text": [
      "Optimization terminated successfully.\n",
      "         Current function value: 0.202600\n",
      "         Iterations 9\n",
      "                           Logit Regression Results                           \n",
      "==============================================================================\n",
      "Dep. Variable:                deposit   No. Observations:                28831\n",
      "Model:                          Logit   Df Residuals:                    28808\n",
      "Method:                           MLE   Df Model:                           22\n",
      "Date:                Mon, 08 Feb 2021   Pseudo R-squ.:                  0.4205\n",
      "Time:                        20:45:05   Log-Likelihood:                -5841.2\n",
      "converged:                       True   LL-Null:                       -10079.\n",
      "Covariance Type:            nonrobust   LLR p-value:                     0.000\n",
      "==========================================================================================\n",
      "                             coef    std err          z      P>|z|      [0.025      0.975]\n",
      "------------------------------------------------------------------------------------------\n",
      "const                   -275.8813     38.042     -7.252      0.000    -350.442    -201.320\n",
      "duration                   0.0049   9.19e-05     53.637      0.000       0.005       0.005\n",
      "nr_employed                0.0069      0.003      2.389      0.017       0.001       0.013\n",
      "euribor3m                  0.4625      0.127      3.649      0.000       0.214       0.711\n",
      "emp_var_rate              -2.0604      0.167    -12.359      0.000      -2.387      -1.734\n",
      "cons_conf_idx              0.0266      0.009      3.078      0.002       0.010       0.044\n",
      "cons_price_idx             2.5239      0.263      9.608      0.000       2.009       3.039\n",
      "client_was_contacted_0    -0.8156      0.249     -3.269      0.001      -1.304      -0.327\n",
      "poutcome_failure          -0.5726      0.078     -7.317      0.000      -0.726      -0.419\n",
      "poutcome_success           0.6325      0.264      2.399      0.016       0.116       1.149\n",
      "month_aug                  0.7967      0.113      7.028      0.000       0.575       1.019\n",
      "month_jun                 -0.6899      0.135     -5.122      0.000      -0.954      -0.426\n",
      "month_mar                  2.0192      0.148     13.608      0.000       1.728       2.310\n",
      "month_may                 -0.4618      0.078     -5.884      0.000      -0.616      -0.308\n",
      "month_nov                 -0.5433      0.105     -5.182      0.000      -0.749      -0.338\n",
      "month_sep                  0.3681      0.164      2.243      0.025       0.046       0.690\n",
      "contact_telephone         -0.7962      0.088     -9.004      0.000      -0.969      -0.623\n",
      "job_admin.                 0.2216      0.063      3.520      0.000       0.098       0.345\n",
      "job_management             0.2502      0.097      2.567      0.010       0.059       0.441\n",
      "job_retired                0.2369      0.104      2.282      0.022       0.033       0.440\n",
      "job_student                0.3595      0.122      2.946      0.003       0.120       0.599\n",
      "job_technician             0.1920      0.075      2.565      0.010       0.045       0.339\n",
      "default_no                 0.3176      0.080      3.989      0.000       0.162       0.474\n",
      "==========================================================================================\n"
     ]
    }
   ],
   "source": [
    "columns_to_drop = ['client_was_contacted_1', 'poutcome_nonexistent', 'month_apr', 'contact_cellular', 'job_self-employed', 'default_unknown', 'default_yes', 'job_unemployed', 'job_services', 'previous', 'pdays', 'job_entrepreneur', 'job_housemaid', 'job_unknown', 'month_oct', 'age', 'month_dec', 'month_jul', 'job_blue-collar']\n",
    "logistic_model = sm.Logit(y_train, sm.add_constant(x_train.drop(columns_to_drop, axis=1))).fit(maxiter=1000)\n",
    "print(logistic_model.summary())"
   ]
  },
  {
   "cell_type": "markdown",
   "id": "arbitrary-sudan",
   "metadata": {},
   "source": [
    "At this point we are only left with explanitory variables but we still have to check multi-collinearity"
   ]
  },
  {
   "cell_type": "code",
   "execution_count": 79,
   "id": "false-eating",
   "metadata": {},
   "outputs": [
    {
     "output_type": "stream",
     "name": "stdout",
     "text": [
      "        dependent_variable  variance_inflation_factor\n0                 duration                   1.010394\n1              nr_employed                 146.492249\n2                euribor3m                 102.370239\n3             emp_var_rate                   5.836826\n4            cons_conf_idx                   1.867593\n5           cons_price_idx                   2.095633\n6   client_was_contacted_0                  10.997748\n7         poutcome_failure                   1.117586\n8         poutcome_success                   1.051492\n9                month_aug                   1.385424\n10               month_jun                   1.581854\n11               month_mar                   1.019970\n12               month_may                   1.197116\n13               month_nov                   1.050088\n14               month_sep                   1.012863\n15       contact_telephone                   1.029174\n16              job_admin.                   1.201458\n17          job_management                   1.025359\n18             job_retired                   1.009973\n19             job_student                   1.005703\n20          job_technician                   1.004838\n21              default_no                   1.000000\n"
     ]
    }
   ],
   "source": [
    "variance_inflation_list = []\n",
    "variables = pd.Series(x_train.drop(columns_to_drop, axis=1).columns)\n",
    "completed_cols = []\n",
    "variance_inflation_factors = []\n",
    "\n",
    "for variable in variables:\n",
    "    completed_cols.append(variable)\n",
    "    dependent_variable = variable\n",
    "    independent_variables = variables[~variables.isin(completed_cols)]\n",
    "    mod = sm.OLS(x_train.drop(columns_to_drop, axis=1)[dependent_variable], sm.add_constant(x_train.drop(columns_to_drop, axis=1)[independent_variables.to_list()]))\n",
    "    residuals = mod.fit()\n",
    "    variance_inflation_factor = 1 / (1 - residuals.rsquared)\n",
    "    variance_inflation_factors.append({'dependent_variable': dependent_variable, 'variance_inflation_factor': variance_inflation_factor})\n",
    "    \n",
    "print(pd.DataFrame(variance_inflation_factors))"
   ]
  },
  {
   "cell_type": "markdown",
   "id": "tough-algorithm",
   "metadata": {},
   "source": [
    "We will drop `nr_employed` and rerun the model"
   ]
  },
  {
   "cell_type": "code",
   "execution_count": 80,
   "id": "regular-belize",
   "metadata": {},
   "outputs": [
    {
     "output_type": "stream",
     "name": "stdout",
     "text": [
      "Optimization terminated successfully.\n",
      "         Current function value: 0.202700\n",
      "         Iterations 8\n",
      "                           Logit Regression Results                           \n",
      "==============================================================================\n",
      "Dep. Variable:                deposit   No. Observations:                28831\n",
      "Model:                          Logit   Df Residuals:                    28809\n",
      "Method:                           MLE   Df Model:                           21\n",
      "Date:                Mon, 08 Feb 2021   Pseudo R-squ.:                  0.4202\n",
      "Time:                        20:45:07   Log-Likelihood:                -5844.0\n",
      "converged:                       True   LL-Null:                       -10079.\n",
      "Covariance Type:            nonrobust   LLR p-value:                     0.000\n",
      "==========================================================================================\n",
      "                             coef    std err          z      P>|z|      [0.025      0.975]\n",
      "------------------------------------------------------------------------------------------\n",
      "const                   -189.7745     11.935    -15.901      0.000    -213.166    -166.383\n",
      "duration                   0.0049   9.19e-05     53.658      0.000       0.005       0.005\n",
      "euribor3m                  0.6488      0.100      6.477      0.000       0.452       0.845\n",
      "emp_var_rate              -1.8221      0.133    -13.723      0.000      -2.082      -1.562\n",
      "cons_conf_idx              0.0122      0.006      1.968      0.049    4.72e-05       0.024\n",
      "cons_price_idx             1.9719      0.123     15.986      0.000       1.730       2.214\n",
      "client_was_contacted_0    -0.8097      0.249     -3.257      0.001      -1.297      -0.322\n",
      "poutcome_failure          -0.5672      0.078     -7.257      0.000      -0.720      -0.414\n",
      "poutcome_success           0.6342      0.263      2.413      0.016       0.119       1.149\n",
      "month_aug                  0.7146      0.108      6.640      0.000       0.504       0.925\n",
      "month_jun                 -0.4810      0.102     -4.701      0.000      -0.681      -0.280\n",
      "month_mar                  1.8548      0.131     14.179      0.000       1.598       2.111\n",
      "month_may                 -0.5072      0.076     -6.679      0.000      -0.656      -0.358\n",
      "month_nov                 -0.6121      0.101     -6.071      0.000      -0.810      -0.414\n",
      "month_sep                  0.1637      0.140      1.171      0.242      -0.110       0.438\n",
      "contact_telephone         -0.7449      0.085     -8.741      0.000      -0.912      -0.578\n",
      "job_admin.                 0.2191      0.063      3.481      0.000       0.096       0.342\n",
      "job_management             0.2441      0.097      2.505      0.012       0.053       0.435\n",
      "job_retired                0.2339      0.104      2.256      0.024       0.031       0.437\n",
      "job_student                0.3540      0.122      2.901      0.004       0.115       0.593\n",
      "job_technician             0.1806      0.075      2.416      0.016       0.034       0.327\n",
      "default_no                 0.3148      0.080      3.952      0.000       0.159       0.471\n",
      "==========================================================================================\n"
     ]
    }
   ],
   "source": [
    "columns_to_drop = ['client_was_contacted_1', 'poutcome_nonexistent', 'month_apr', 'contact_cellular', 'job_self-employed', 'default_unknown', 'default_yes', 'job_unemployed', 'job_services', 'previous', 'pdays', 'job_entrepreneur', 'job_housemaid', 'job_unknown', 'month_oct', 'age', 'month_dec', 'month_jul', 'job_blue-collar', 'nr_employed']\n",
    "logistic_model = sm.Logit(y_train, sm.add_constant(x_train.drop(columns_to_drop, axis=1))).fit(maxiter=1000)\n",
    "print(logistic_model.summary())"
   ]
  },
  {
   "cell_type": "code",
   "execution_count": 81,
   "id": "confidential-precipitation",
   "metadata": {},
   "outputs": [
    {
     "output_type": "stream",
     "name": "stdout",
     "text": [
      "        dependent_variable  variance_inflation_factor\n0                 duration                   1.010304\n1                euribor3m                 102.370239\n2             emp_var_rate                   5.836826\n3            cons_conf_idx                   1.867593\n4           cons_price_idx                   2.095633\n5   client_was_contacted_0                  10.997748\n6         poutcome_failure                   1.117586\n7         poutcome_success                   1.051492\n8                month_aug                   1.385424\n9                month_jun                   1.581854\n10               month_mar                   1.019970\n11               month_may                   1.197116\n12               month_nov                   1.050088\n13               month_sep                   1.012863\n14       contact_telephone                   1.029174\n15              job_admin.                   1.201458\n16          job_management                   1.025359\n17             job_retired                   1.009973\n18             job_student                   1.005703\n19          job_technician                   1.004838\n20              default_no                   1.000000\n"
     ]
    }
   ],
   "source": [
    "variance_inflation_list = []\n",
    "variables = pd.Series(x_train.drop(columns_to_drop, axis=1).columns)\n",
    "completed_cols = []\n",
    "variance_inflation_factors = []\n",
    "\n",
    "for variable in variables:\n",
    "    completed_cols.append(variable)\n",
    "    dependent_variable = variable\n",
    "    independent_variables = variables[~variables.isin(completed_cols)]\n",
    "    mod = sm.OLS(x_train.drop(columns_to_drop, axis=1)[dependent_variable], sm.add_constant(x_train.drop(columns_to_drop, axis=1)[independent_variables.to_list()]))\n",
    "    residuals = mod.fit()\n",
    "    variance_inflation_factor = 1 / (1 - residuals.rsquared)\n",
    "    variance_inflation_factors.append({'dependent_variable': dependent_variable, 'variance_inflation_factor': variance_inflation_factor})\n",
    "    \n",
    "print(pd.DataFrame(variance_inflation_factors))"
   ]
  },
  {
   "cell_type": "code",
   "execution_count": 82,
   "id": "intended-region",
   "metadata": {},
   "outputs": [
    {
     "output_type": "stream",
     "name": "stdout",
     "text": [
      "C-statistic: 0.9383863376935029\n"
     ]
    }
   ],
   "source": [
    "y_prediction = pd.DataFrame(logistic_model.predict(sm.add_constant(x_train.drop(columns_to_drop, axis=1))))\n",
    "y_prediction.columns = [\"probabilities\"]\n",
    "both_df = pd.concat([y_train, y_prediction], axis=1)\n",
    "zeros_df = both_df[['deposit', 'probabilities']][both_df['deposit'] == 0]\n",
    "ones_df = both_df[['deposit', 'probabilities']][both_df['deposit'] == 1]\n",
    "joined_df = df_crossjoin(ones_df, zeros_df)\n",
    "joined_df['concordant_pair'] = 0\n",
    "joined_df.loc[joined_df['probabilities_x'] > joined_df['probabilities_y'], 'concordant_pair'] = 1\n",
    "joined_df['discordant_pair'] = 0\n",
    "joined_df.loc[joined_df['probabilities_x'] < joined_df['probabilities_y'], 'discordant_pair'] = 1\n",
    "joined_df['tied_pair'] = 0\n",
    "joined_df.loc[joined_df['probabilities_x'] == joined_df['probabilities_y'], 'tied_pair'] = 1\n",
    "p_concordant = (sum(joined_df['concordant_pair']) * 1.0 ) / (joined_df.shape[0])\n",
    "p_discordant = (sum(joined_df['discordant_pair']) * 1.0 ) / (joined_df.shape[0])\n",
    "c_statistic = 0.5 + (p_concordant - p_discordant) / 2.0\n",
    "print(\"C-statistic: \" + str(c_statistic))"
   ]
  },
  {
   "cell_type": "markdown",
   "id": "neither-wagon",
   "metadata": {},
   "source": [
    "We will now drop `euribor3m`"
   ]
  },
  {
   "cell_type": "code",
   "execution_count": 83,
   "id": "hundred-country",
   "metadata": {},
   "outputs": [
    {
     "output_type": "stream",
     "name": "stdout",
     "text": [
      "Optimization terminated successfully.\n",
      "         Current function value: 0.203417\n",
      "         Iterations 8\n",
      "                           Logit Regression Results                           \n",
      "==============================================================================\n",
      "Dep. Variable:                deposit   No. Observations:                28831\n",
      "Model:                          Logit   Df Residuals:                    28810\n",
      "Method:                           MLE   Df Model:                           20\n",
      "Date:                Mon, 08 Feb 2021   Pseudo R-squ.:                  0.4181\n",
      "Time:                        20:45:59   Log-Likelihood:                -5864.7\n",
      "converged:                       True   LL-Null:                       -10079.\n",
      "Covariance Type:            nonrobust   LLR p-value:                     0.000\n",
      "==========================================================================================\n",
      "                             coef    std err          z      P>|z|      [0.025      0.975]\n",
      "------------------------------------------------------------------------------------------\n",
      "const                   -124.8097      6.365    -19.610      0.000    -137.284    -112.335\n",
      "duration                   0.0049   9.18e-05     53.563      0.000       0.005       0.005\n",
      "emp_var_rate              -0.9822      0.028    -35.296      0.000      -1.037      -0.928\n",
      "cons_conf_idx              0.0329      0.005      6.186      0.000       0.023       0.043\n",
      "cons_price_idx             1.3111      0.068     19.212      0.000       1.177       1.445\n",
      "client_was_contacted_0    -0.8277      0.247     -3.345      0.001      -1.313      -0.343\n",
      "poutcome_failure          -0.6032      0.078     -7.762      0.000      -0.756      -0.451\n",
      "poutcome_success           0.5724      0.261      2.189      0.029       0.060       1.085\n",
      "month_aug                  0.3666      0.092      3.971      0.000       0.186       0.548\n",
      "month_jun                 -0.1439      0.088     -1.629      0.103      -0.317       0.029\n",
      "month_mar                  1.6006      0.128     12.513      0.000       1.350       1.851\n",
      "month_may                 -0.6678      0.071     -9.348      0.000      -0.808      -0.528\n",
      "month_nov                 -0.3568      0.093     -3.847      0.000      -0.539      -0.175\n",
      "month_sep                 -0.0188      0.137     -0.137      0.891      -0.287       0.250\n",
      "contact_telephone         -0.6077      0.081     -7.472      0.000      -0.767      -0.448\n",
      "job_admin.                 0.2236      0.063      3.560      0.000       0.100       0.347\n",
      "job_management             0.2564      0.097      2.637      0.008       0.066       0.447\n",
      "job_retired                0.2506      0.103      2.423      0.015       0.048       0.453\n",
      "job_student                0.3464      0.122      2.842      0.004       0.107       0.585\n",
      "job_technician             0.1806      0.075      2.420      0.016       0.034       0.327\n",
      "default_no                 0.3188      0.080      4.001      0.000       0.163       0.475\n",
      "==========================================================================================\n"
     ]
    }
   ],
   "source": [
    "columns_to_drop = ['client_was_contacted_1', 'poutcome_nonexistent', 'month_apr', 'contact_cellular', 'job_self-employed', 'default_unknown', 'default_yes', 'job_unemployed', 'job_services', 'previous', 'pdays', 'job_entrepreneur', 'job_housemaid', 'job_unknown', 'month_oct', 'age', 'month_dec', 'month_jul', 'job_blue-collar', 'nr_employed', 'euribor3m']\n",
    "logistic_model = sm.Logit(y_train, sm.add_constant(x_train.drop(columns_to_drop, axis=1))).fit(maxiter=1000)\n",
    "print(logistic_model.summary())"
   ]
  },
  {
   "cell_type": "code",
   "execution_count": 84,
   "id": "solar-basis",
   "metadata": {},
   "outputs": [
    {
     "output_type": "stream",
     "name": "stdout",
     "text": [
      "        dependent_variable  variance_inflation_factor\n0                 duration                   1.010276\n1             emp_var_rate                   5.836826\n2            cons_conf_idx                   1.867593\n3           cons_price_idx                   2.095633\n4   client_was_contacted_0                  10.997748\n5         poutcome_failure                   1.117586\n6         poutcome_success                   1.051492\n7                month_aug                   1.385424\n8                month_jun                   1.581854\n9                month_mar                   1.019970\n10               month_may                   1.197116\n11               month_nov                   1.050088\n12               month_sep                   1.012863\n13       contact_telephone                   1.029174\n14              job_admin.                   1.201458\n15          job_management                   1.025359\n16             job_retired                   1.009973\n17             job_student                   1.005703\n18          job_technician                   1.004838\n19              default_no                   1.000000\n"
     ]
    }
   ],
   "source": [
    "variance_inflation_list = []\n",
    "variables = pd.Series(x_train.drop(columns_to_drop, axis=1).columns)\n",
    "completed_cols = []\n",
    "variance_inflation_factors = []\n",
    "\n",
    "for variable in variables:\n",
    "    completed_cols.append(variable)\n",
    "    dependent_variable = variable\n",
    "    independent_variables = variables[~variables.isin(completed_cols)]\n",
    "    mod = sm.OLS(x_train.drop(columns_to_drop, axis=1)[dependent_variable], sm.add_constant(x_train.drop(columns_to_drop, axis=1)[independent_variables.to_list()]))\n",
    "    residuals = mod.fit()\n",
    "    variance_inflation_factor = 1 / (1 - residuals.rsquared)\n",
    "    variance_inflation_factors.append({'dependent_variable': dependent_variable, 'variance_inflation_factor': variance_inflation_factor})\n",
    "    \n",
    "print(pd.DataFrame(variance_inflation_factors))"
   ]
  },
  {
   "cell_type": "code",
   "execution_count": 85,
   "id": "about-surfing",
   "metadata": {},
   "outputs": [
    {
     "output_type": "stream",
     "name": "stdout",
     "text": [
      "C-statistic: 0.9372719672994454\n"
     ]
    }
   ],
   "source": [
    "y_prediction = pd.DataFrame(logistic_model.predict(sm.add_constant(x_train.drop(columns_to_drop, axis=1))))\n",
    "y_prediction.columns = [\"probabilities\"]\n",
    "both_df = pd.concat([y_train, y_prediction], axis=1)\n",
    "zeros_df = both_df[['deposit', 'probabilities']][both_df['deposit'] == 0]\n",
    "ones_df = both_df[['deposit', 'probabilities']][both_df['deposit'] == 1]\n",
    "joined_df = df_crossjoin(ones_df, zeros_df)\n",
    "joined_df['concordant_pair'] = 0\n",
    "joined_df.loc[joined_df['probabilities_x'] > joined_df['probabilities_y'], 'concordant_pair'] = 1\n",
    "joined_df['discordant_pair'] = 0\n",
    "joined_df.loc[joined_df['probabilities_x'] < joined_df['probabilities_y'], 'discordant_pair'] = 1\n",
    "joined_df['tied_pair'] = 0\n",
    "joined_df.loc[joined_df['probabilities_x'] == joined_df['probabilities_y'], 'tied_pair'] = 1\n",
    "p_concordant = (sum(joined_df['concordant_pair']) * 1.0 ) / (joined_df.shape[0])\n",
    "p_discordant = (sum(joined_df['discordant_pair']) * 1.0 ) / (joined_df.shape[0])\n",
    "c_statistic = 0.5 + (p_concordant - p_discordant) / 2.0\n",
    "print(\"C-statistic: \" + str(c_statistic))"
   ]
  },
  {
   "cell_type": "markdown",
   "id": "through-burns",
   "metadata": {},
   "source": [
    "We now remove `client_was_contacted_0`"
   ]
  },
  {
   "cell_type": "code",
   "execution_count": 86,
   "id": "engaged-singapore",
   "metadata": {},
   "outputs": [
    {
     "output_type": "stream",
     "name": "stdout",
     "text": [
      "Optimization terminated successfully.\n         Current function value: 0.203606\n         Iterations 8\n                           Logit Regression Results                           \n==============================================================================\nDep. Variable:                deposit   No. Observations:                28831\nModel:                          Logit   Df Residuals:                    28811\nMethod:                           MLE   Df Model:                           19\nDate:                Mon, 08 Feb 2021   Pseudo R-squ.:                  0.4176\nTime:                        20:46:45   Log-Likelihood:                -5870.2\nconverged:                       True   LL-Null:                       -10079.\nCovariance Type:            nonrobust   LLR p-value:                     0.000\n=====================================================================================\n                        coef    std err          z      P>|z|      [0.025      0.975]\n-------------------------------------------------------------------------------------\nconst              -127.1946      6.316    -20.139      0.000    -139.573    -114.816\nduration              0.0049   9.18e-05     53.599      0.000       0.005       0.005\nemp_var_rate         -0.9872      0.028    -35.562      0.000      -1.042      -0.933\ncons_conf_idx         0.0338      0.005      6.355      0.000       0.023       0.044\ncons_price_idx        1.3281      0.068     19.544      0.000       1.195       1.461\npoutcome_failure     -0.5484      0.075     -7.290      0.000      -0.696      -0.401\npoutcome_success      1.3905      0.093     14.987      0.000       1.209       1.572\nmonth_aug             0.3767      0.092      4.085      0.000       0.196       0.557\nmonth_jun            -0.1470      0.088     -1.667      0.096      -0.320       0.026\nmonth_mar             1.6157      0.128     12.647      0.000       1.365       1.866\nmonth_may            -0.6676      0.071     -9.349      0.000      -0.808      -0.528\nmonth_nov            -0.3500      0.093     -3.779      0.000      -0.532      -0.169\nmonth_sep            -0.0191      0.137     -0.139      0.889      -0.287       0.249\ncontact_telephone    -0.6118      0.081     -7.526      0.000      -0.771      -0.452\njob_admin.            0.2247      0.063      3.580      0.000       0.102       0.348\njob_management        0.2594      0.097      2.671      0.008       0.069       0.450\njob_retired           0.2561      0.103      2.480      0.013       0.054       0.459\njob_student           0.3596      0.122      2.955      0.003       0.121       0.598\njob_technician        0.1831      0.075      2.455      0.014       0.037       0.329\ndefault_no            0.3172      0.080      3.982      0.000       0.161       0.473\n=====================================================================================\n"
     ]
    }
   ],
   "source": [
    "columns_to_drop = ['client_was_contacted_1', 'poutcome_nonexistent', 'month_apr', 'contact_cellular', 'job_self-employed', 'default_unknown', 'default_yes', 'job_unemployed', 'job_services', 'previous', 'pdays', 'job_entrepreneur', 'job_housemaid', 'job_unknown', 'month_oct', 'age', 'month_dec', 'month_jul', 'job_blue-collar', 'nr_employed', 'euribor3m', 'client_was_contacted_0']\n",
    "logistic_model = sm.Logit(y_train, sm.add_constant(x_train.drop(columns_to_drop, axis=1))).fit(maxiter=1000)\n",
    "print(logistic_model.summary())"
   ]
  },
  {
   "cell_type": "code",
   "execution_count": 87,
   "id": "laden-joshua",
   "metadata": {},
   "outputs": [
    {
     "output_type": "stream",
     "name": "stdout",
     "text": [
      "   dependent_variable  variance_inflation_factor\n0            duration                   1.010106\n1        emp_var_rate                   5.780307\n2       cons_conf_idx                   1.860163\n3      cons_price_idx                   2.093547\n4    poutcome_failure                   1.117586\n5    poutcome_success                   1.051492\n6           month_aug                   1.385424\n7           month_jun                   1.581854\n8           month_mar                   1.019970\n9           month_may                   1.197116\n10          month_nov                   1.050088\n11          month_sep                   1.012863\n12  contact_telephone                   1.029174\n13         job_admin.                   1.201458\n14     job_management                   1.025359\n15        job_retired                   1.009973\n16        job_student                   1.005703\n17     job_technician                   1.004838\n18         default_no                   1.000000\n"
     ]
    }
   ],
   "source": [
    "variance_inflation_list = []\n",
    "variables = pd.Series(x_train.drop(columns_to_drop, axis=1).columns)\n",
    "completed_cols = []\n",
    "variance_inflation_factors = []\n",
    "\n",
    "for variable in variables:\n",
    "    completed_cols.append(variable)\n",
    "    dependent_variable = variable\n",
    "    independent_variables = variables[~variables.isin(completed_cols)]\n",
    "    mod = sm.OLS(x_train.drop(columns_to_drop, axis=1)[dependent_variable], sm.add_constant(x_train.drop(columns_to_drop, axis=1)[independent_variables.to_list()]))\n",
    "    residuals = mod.fit()\n",
    "    variance_inflation_factor = 1 / (1 - residuals.rsquared)\n",
    "    variance_inflation_factors.append({'dependent_variable': dependent_variable, 'variance_inflation_factor': variance_inflation_factor})\n",
    "    \n",
    "print(pd.DataFrame(variance_inflation_factors))"
   ]
  },
  {
   "cell_type": "code",
   "execution_count": 88,
   "id": "approved-smile",
   "metadata": {},
   "outputs": [
    {
     "output_type": "stream",
     "name": "stdout",
     "text": [
      "C-statistic: 0.9371786268836576\n"
     ]
    }
   ],
   "source": [
    "y_prediction = pd.DataFrame(logistic_model.predict(sm.add_constant(x_train.drop(columns_to_drop, axis=1))))\n",
    "y_prediction.columns = [\"probabilities\"]\n",
    "both_df = pd.concat([y_train, y_prediction], axis=1)\n",
    "zeros_df = both_df[['deposit', 'probabilities']][both_df['deposit'] == 0]\n",
    "ones_df = both_df[['deposit', 'probabilities']][both_df['deposit'] == 1]\n",
    "joined_df = df_crossjoin(ones_df, zeros_df)\n",
    "joined_df['concordant_pair'] = 0\n",
    "joined_df.loc[joined_df['probabilities_x'] > joined_df['probabilities_y'], 'concordant_pair'] = 1\n",
    "joined_df['discordant_pair'] = 0\n",
    "joined_df.loc[joined_df['probabilities_x'] < joined_df['probabilities_y'], 'discordant_pair'] = 1\n",
    "joined_df['tied_pair'] = 0\n",
    "joined_df.loc[joined_df['probabilities_x'] == joined_df['probabilities_y'], 'tied_pair'] = 1\n",
    "p_concordant = (sum(joined_df['concordant_pair']) * 1.0 ) / (joined_df.shape[0])\n",
    "p_discordant = (sum(joined_df['discordant_pair']) * 1.0 ) / (joined_df.shape[0])\n",
    "c_statistic = 0.5 + (p_concordant - p_discordant) / 2.0\n",
    "print(\"C-statistic: \" + str(c_statistic))"
   ]
  },
  {
   "cell_type": "markdown",
   "id": "proof-texas",
   "metadata": {},
   "source": [
    "We now drop `month_sep`"
   ]
  },
  {
   "cell_type": "code",
   "execution_count": 89,
   "id": "coastal-virus",
   "metadata": {},
   "outputs": [
    {
     "output_type": "stream",
     "name": "stdout",
     "text": [
      "Optimization terminated successfully.\n         Current function value: 0.203607\n         Iterations 8\n                           Logit Regression Results                           \n==============================================================================\nDep. Variable:                deposit   No. Observations:                28831\nModel:                          Logit   Df Residuals:                    28812\nMethod:                           MLE   Df Model:                           18\nDate:                Mon, 08 Feb 2021   Pseudo R-squ.:                  0.4176\nTime:                        20:47:28   Log-Likelihood:                -5870.2\nconverged:                       True   LL-Null:                       -10079.\nCovariance Type:            nonrobust   LLR p-value:                     0.000\n=====================================================================================\n                        coef    std err          z      P>|z|      [0.025      0.975]\n-------------------------------------------------------------------------------------\nconst              -127.0892      6.270    -20.269      0.000    -139.378    -114.800\nduration              0.0049   9.18e-05     53.604      0.000       0.005       0.005\nemp_var_rate         -0.9868      0.028    -35.738      0.000      -1.041      -0.933\ncons_conf_idx         0.0336      0.005      6.546      0.000       0.024       0.044\ncons_price_idx        1.3269      0.067     19.694      0.000       1.195       1.459\npoutcome_failure     -0.5486      0.075     -7.294      0.000      -0.696      -0.401\npoutcome_success      1.3900      0.093     14.993      0.000       1.208       1.572\nmonth_aug             0.3793      0.090      4.207      0.000       0.203       0.556\nmonth_jun            -0.1450      0.087     -1.667      0.096      -0.316       0.026\nmonth_mar             1.6172      0.127     12.705      0.000       1.368       1.867\nmonth_may            -0.6664      0.071     -9.403      0.000      -0.805      -0.527\nmonth_nov            -0.3479      0.091     -3.808      0.000      -0.527      -0.169\ncontact_telephone    -0.6111      0.081     -7.531      0.000      -0.770      -0.452\njob_admin.            0.2246      0.063      3.578      0.000       0.102       0.348\njob_management        0.2593      0.097      2.670      0.008       0.069       0.450\njob_retired           0.2560      0.103      2.479      0.013       0.054       0.458\njob_student           0.3595      0.122      2.954      0.003       0.121       0.598\njob_technician        0.1829      0.075      2.453      0.014       0.037       0.329\ndefault_no            0.3171      0.080      3.981      0.000       0.161       0.473\n=====================================================================================\n"
     ]
    }
   ],
   "source": [
    "columns_to_drop = ['client_was_contacted_1', 'poutcome_nonexistent', 'month_apr', 'contact_cellular', 'job_self-employed', 'default_unknown', 'default_yes', 'job_unemployed', 'job_services', 'previous', 'pdays', 'job_entrepreneur', 'job_housemaid', 'job_unknown', 'month_oct', 'age', 'month_dec', 'month_jul', 'job_blue-collar', 'nr_employed', 'euribor3m', 'client_was_contacted_0', 'month_sep']\n",
    "logistic_model = sm.Logit(y_train, sm.add_constant(x_train.drop(columns_to_drop, axis=1))).fit(maxiter=1000)\n",
    "print(logistic_model.summary())"
   ]
  },
  {
   "cell_type": "code",
   "execution_count": 90,
   "id": "needed-exhibit",
   "metadata": {},
   "outputs": [
    {
     "output_type": "stream",
     "name": "stdout",
     "text": [
      "   dependent_variable  variance_inflation_factor\n0            duration                   1.010091\n1        emp_var_rate                   5.595454\n2       cons_conf_idx                   1.744903\n3      cons_price_idx                   2.088726\n4    poutcome_failure                   1.110921\n5    poutcome_success                   1.032184\n6           month_aug                   1.360583\n7           month_jun                   1.571653\n8           month_mar                   1.018829\n9           month_may                   1.190489\n10          month_nov                   1.047445\n11  contact_telephone                   1.029174\n12         job_admin.                   1.201458\n13     job_management                   1.025359\n14        job_retired                   1.009973\n15        job_student                   1.005703\n16     job_technician                   1.004838\n17         default_no                   1.000000\n"
     ]
    }
   ],
   "source": [
    "variance_inflation_list = []\n",
    "variables = pd.Series(x_train.drop(columns_to_drop, axis=1).columns)\n",
    "completed_cols = []\n",
    "variance_inflation_factors = []\n",
    "\n",
    "for variable in variables:\n",
    "    completed_cols.append(variable)\n",
    "    dependent_variable = variable\n",
    "    independent_variables = variables[~variables.isin(completed_cols)]\n",
    "    mod = sm.OLS(x_train.drop(columns_to_drop, axis=1)[dependent_variable], sm.add_constant(x_train.drop(columns_to_drop, axis=1)[independent_variables.to_list()]))\n",
    "    residuals = mod.fit()\n",
    "    variance_inflation_factor = 1 / (1 - residuals.rsquared)\n",
    "    variance_inflation_factors.append({'dependent_variable': dependent_variable, 'variance_inflation_factor': variance_inflation_factor})\n",
    "    \n",
    "print(pd.DataFrame(variance_inflation_factors))"
   ]
  },
  {
   "cell_type": "code",
   "execution_count": 91,
   "id": "premier-period",
   "metadata": {},
   "outputs": [
    {
     "output_type": "stream",
     "name": "stdout",
     "text": [
      "C-statistic: 0.9371737321292577\n"
     ]
    }
   ],
   "source": [
    "y_prediction = pd.DataFrame(logistic_model.predict(sm.add_constant(x_train.drop(columns_to_drop, axis=1))))\n",
    "y_prediction.columns = [\"probabilities\"]\n",
    "both_df = pd.concat([y_train, y_prediction], axis=1)\n",
    "zeros_df = both_df[['deposit', 'probabilities']][both_df['deposit'] == 0]\n",
    "ones_df = both_df[['deposit', 'probabilities']][both_df['deposit'] == 1]\n",
    "joined_df = df_crossjoin(ones_df, zeros_df)\n",
    "joined_df['concordant_pair'] = 0\n",
    "joined_df.loc[joined_df['probabilities_x'] > joined_df['probabilities_y'], 'concordant_pair'] = 1\n",
    "joined_df['discordant_pair'] = 0\n",
    "joined_df.loc[joined_df['probabilities_x'] < joined_df['probabilities_y'], 'discordant_pair'] = 1\n",
    "joined_df['tied_pair'] = 0\n",
    "joined_df.loc[joined_df['probabilities_x'] == joined_df['probabilities_y'], 'tied_pair'] = 1\n",
    "p_concordant = (sum(joined_df['concordant_pair']) * 1.0 ) / (joined_df.shape[0])\n",
    "p_discordant = (sum(joined_df['discordant_pair']) * 1.0 ) / (joined_df.shape[0])\n",
    "c_statistic = 0.5 + (p_concordant - p_discordant) / 2.0\n",
    "print(\"C-statistic: \" + str(c_statistic))"
   ]
  },
  {
   "cell_type": "markdown",
   "id": "classical-oliver",
   "metadata": {},
   "source": [
    "We now drop `emp_var_rate`"
   ]
  },
  {
   "cell_type": "code",
   "execution_count": 92,
   "id": "governmental-budget",
   "metadata": {},
   "outputs": [
    {
     "output_type": "stream",
     "name": "stdout",
     "text": [
      "Optimization terminated successfully.\n         Current function value: 0.226093\n         Iterations 8\n                           Logit Regression Results                           \n==============================================================================\nDep. Variable:                deposit   No. Observations:                28831\nModel:                          Logit   Df Residuals:                    28813\nMethod:                           MLE   Df Model:                           17\nDate:                Mon, 08 Feb 2021   Pseudo R-squ.:                  0.3533\nTime:                        20:48:13   Log-Likelihood:                -6518.5\nconverged:                       True   LL-Null:                       -10079.\nCovariance Type:            nonrobust   LLR p-value:                     0.000\n=====================================================================================\n                        coef    std err          z      P>|z|      [0.025      0.975]\n-------------------------------------------------------------------------------------\nconst                56.8294      4.565     12.449      0.000      47.882      65.777\nduration              0.0045   8.43e-05     53.537      0.000       0.004       0.005\ncons_conf_idx         0.0526      0.005      9.778      0.000       0.042       0.063\ncons_price_idx       -0.6291      0.050    -12.705      0.000      -0.726      -0.532\npoutcome_failure      0.1966      0.071      2.755      0.006       0.057       0.337\npoutcome_success      2.7501      0.087     31.774      0.000       2.580       2.920\nmonth_aug            -0.9828      0.080    -12.282      0.000      -1.140      -0.826\nmonth_jun             0.5965      0.086      6.901      0.000       0.427       0.766\nmonth_mar             1.7394      0.127     13.700      0.000       1.491       1.988\nmonth_may            -0.7230      0.071    -10.118      0.000      -0.863      -0.583\nmonth_nov            -0.8658      0.086    -10.027      0.000      -1.035      -0.697\ncontact_telephone    -0.8971      0.084    -10.658      0.000      -1.062      -0.732\njob_admin.            0.3156      0.060      5.267      0.000       0.198       0.433\njob_management        0.3004      0.093      3.229      0.001       0.118       0.483\njob_retired           0.7690      0.099      7.802      0.000       0.576       0.962\njob_student           1.0178      0.118      8.612      0.000       0.786       1.249\njob_technician        0.1971      0.071      2.775      0.006       0.058       0.336\ndefault_no            0.6742      0.076      8.878      0.000       0.525       0.823\n=====================================================================================\n"
     ]
    }
   ],
   "source": [
    "columns_to_drop = ['client_was_contacted_1', 'poutcome_nonexistent', 'month_apr', 'contact_cellular', 'job_self-employed', 'default_unknown', 'default_yes', 'job_unemployed', 'job_services', 'previous', 'pdays', 'job_entrepreneur', 'job_housemaid', 'job_unknown', 'month_oct', 'age', 'month_dec', 'month_jul', 'job_blue-collar', 'nr_employed', 'euribor3m', 'client_was_contacted_0', 'month_sep', 'emp_var_rate']\n",
    "logistic_model = sm.Logit(y_train, sm.add_constant(x_train.drop(columns_to_drop, axis=1))).fit(maxiter=1000)\n",
    "print(logistic_model.summary())"
   ]
  },
  {
   "cell_type": "code",
   "execution_count": 93,
   "id": "configured-elements",
   "metadata": {},
   "outputs": [
    {
     "output_type": "stream",
     "name": "stdout",
     "text": [
      "   dependent_variable  variance_inflation_factor\n0            duration                   1.008880\n1       cons_conf_idx                   1.744903\n2      cons_price_idx                   2.088726\n3    poutcome_failure                   1.110921\n4    poutcome_success                   1.032184\n5           month_aug                   1.360583\n6           month_jun                   1.571653\n7           month_mar                   1.018829\n8           month_may                   1.190489\n9           month_nov                   1.047445\n10  contact_telephone                   1.029174\n11         job_admin.                   1.201458\n12     job_management                   1.025359\n13        job_retired                   1.009973\n14        job_student                   1.005703\n15     job_technician                   1.004838\n16         default_no                   1.000000\n"
     ]
    }
   ],
   "source": [
    "variance_inflation_list = []\n",
    "variables = pd.Series(x_train.drop(columns_to_drop, axis=1).columns)\n",
    "completed_cols = []\n",
    "variance_inflation_factors = []\n",
    "\n",
    "for variable in variables:\n",
    "    completed_cols.append(variable)\n",
    "    dependent_variable = variable\n",
    "    independent_variables = variables[~variables.isin(completed_cols)]\n",
    "    mod = sm.OLS(x_train.drop(columns_to_drop, axis=1)[dependent_variable], sm.add_constant(x_train.drop(columns_to_drop, axis=1)[independent_variables.to_list()]))\n",
    "    residuals = mod.fit()\n",
    "    variance_inflation_factor = 1 / (1 - residuals.rsquared)\n",
    "    variance_inflation_factors.append({'dependent_variable': dependent_variable, 'variance_inflation_factor': variance_inflation_factor})\n",
    "    \n",
    "print(pd.DataFrame(variance_inflation_factors))"
   ]
  },
  {
   "cell_type": "code",
   "execution_count": 94,
   "id": "approved-pulse",
   "metadata": {},
   "outputs": [
    {
     "output_type": "stream",
     "name": "stdout",
     "text": [
      "C-statistic: 0.9155895049081026\n"
     ]
    }
   ],
   "source": [
    "y_prediction = pd.DataFrame(logistic_model.predict(sm.add_constant(x_train.drop(columns_to_drop, axis=1))))\n",
    "y_prediction.columns = [\"probabilities\"]\n",
    "both_df = pd.concat([y_train, y_prediction], axis=1)\n",
    "zeros_df = both_df[['deposit', 'probabilities']][both_df['deposit'] == 0]\n",
    "ones_df = both_df[['deposit', 'probabilities']][both_df['deposit'] == 1]\n",
    "joined_df = df_crossjoin(ones_df, zeros_df)\n",
    "joined_df['concordant_pair'] = 0\n",
    "joined_df.loc[joined_df['probabilities_x'] > joined_df['probabilities_y'], 'concordant_pair'] = 1\n",
    "joined_df['discordant_pair'] = 0\n",
    "joined_df.loc[joined_df['probabilities_x'] < joined_df['probabilities_y'], 'discordant_pair'] = 1\n",
    "joined_df['tied_pair'] = 0\n",
    "joined_df.loc[joined_df['probabilities_x'] == joined_df['probabilities_y'], 'tied_pair'] = 1\n",
    "p_concordant = (sum(joined_df['concordant_pair']) * 1.0 ) / (joined_df.shape[0])\n",
    "p_discordant = (sum(joined_df['discordant_pair']) * 1.0 ) / (joined_df.shape[0])\n",
    "c_statistic = 0.5 + (p_concordant - p_discordant) / 2.0\n",
    "print(\"C-statistic: \" + str(c_statistic))"
   ]
  },
  {
   "cell_type": "markdown",
   "id": "coated-reminder",
   "metadata": {},
   "source": [
    "At this point we have our final logistic regression model as all variables have a p-value < 0.05, all variance inflation factors are < 5 and out c-statistic is > 0.7."
   ]
  },
  {
   "cell_type": "code",
   "execution_count": 95,
   "id": "silver-watershed",
   "metadata": {},
   "outputs": [
    {
     "output_type": "display_data",
     "data": {
      "text/plain": "<Figure size 432x288 with 1 Axes>",
      "image/svg+xml": "<?xml version=\"1.0\" encoding=\"utf-8\" standalone=\"no\"?>\r\n<!DOCTYPE svg PUBLIC \"-//W3C//DTD SVG 1.1//EN\"\r\n  \"http://www.w3.org/Graphics/SVG/1.1/DTD/svg11.dtd\">\r\n<!-- Created with matplotlib (https://matplotlib.org/) -->\r\n<svg height=\"277.314375pt\" version=\"1.1\" viewBox=\"0 0 393.732813 277.314375\" width=\"393.732813pt\" xmlns=\"http://www.w3.org/2000/svg\" xmlns:xlink=\"http://www.w3.org/1999/xlink\">\r\n <metadata>\r\n  <rdf:RDF xmlns:cc=\"http://creativecommons.org/ns#\" xmlns:dc=\"http://purl.org/dc/elements/1.1/\" xmlns:rdf=\"http://www.w3.org/1999/02/22-rdf-syntax-ns#\">\r\n   <cc:Work>\r\n    <dc:type rdf:resource=\"http://purl.org/dc/dcmitype/StillImage\"/>\r\n    <dc:date>2021-02-08T20:48:56.539541</dc:date>\r\n    <dc:format>image/svg+xml</dc:format>\r\n    <dc:creator>\r\n     <cc:Agent>\r\n      <dc:title>Matplotlib v3.3.2, https://matplotlib.org/</dc:title>\r\n     </cc:Agent>\r\n    </dc:creator>\r\n   </cc:Work>\r\n  </rdf:RDF>\r\n </metadata>\r\n <defs>\r\n  <style type=\"text/css\">*{stroke-linecap:butt;stroke-linejoin:round;}</style>\r\n </defs>\r\n <g id=\"figure_1\">\r\n  <g id=\"patch_1\">\r\n   <path d=\"M 0 277.314375 \r\nL 393.732813 277.314375 \r\nL 393.732813 0 \r\nL 0 0 \r\nz\r\n\" style=\"fill:none;\"/>\r\n  </g>\r\n  <g id=\"axes_1\">\r\n   <g id=\"patch_2\">\r\n    <path d=\"M 43.78125 239.758125 \r\nL 378.58125 239.758125 \r\nL 378.58125 22.318125 \r\nL 43.78125 22.318125 \r\nz\r\n\" style=\"fill:#ffffff;\"/>\r\n   </g>\r\n   <g id=\"matplotlib.axis_1\">\r\n    <g id=\"xtick_1\">\r\n     <g id=\"line2d_1\">\r\n      <defs>\r\n       <path d=\"M 0 0 \r\nL 0 3.5 \r\n\" id=\"m2b8fef0b36\" style=\"stroke:#000000;stroke-width:0.8;\"/>\r\n      </defs>\r\n      <g>\r\n       <use style=\"stroke:#000000;stroke-width:0.8;\" x=\"43.78125\" xlink:href=\"#m2b8fef0b36\" y=\"239.758125\"/>\r\n      </g>\r\n     </g>\r\n     <g id=\"text_1\">\r\n      <!-- 0.0 -->\r\n      <g transform=\"translate(35.829688 254.356562)scale(0.1 -0.1)\">\r\n       <defs>\r\n        <path d=\"M 31.78125 66.40625 \r\nQ 24.171875 66.40625 20.328125 58.90625 \r\nQ 16.5 51.421875 16.5 36.375 \r\nQ 16.5 21.390625 20.328125 13.890625 \r\nQ 24.171875 6.390625 31.78125 6.390625 \r\nQ 39.453125 6.390625 43.28125 13.890625 \r\nQ 47.125 21.390625 47.125 36.375 \r\nQ 47.125 51.421875 43.28125 58.90625 \r\nQ 39.453125 66.40625 31.78125 66.40625 \r\nz\r\nM 31.78125 74.21875 \r\nQ 44.046875 74.21875 50.515625 64.515625 \r\nQ 56.984375 54.828125 56.984375 36.375 \r\nQ 56.984375 17.96875 50.515625 8.265625 \r\nQ 44.046875 -1.421875 31.78125 -1.421875 \r\nQ 19.53125 -1.421875 13.0625 8.265625 \r\nQ 6.59375 17.96875 6.59375 36.375 \r\nQ 6.59375 54.828125 13.0625 64.515625 \r\nQ 19.53125 74.21875 31.78125 74.21875 \r\nz\r\n\" id=\"DejaVuSans-48\"/>\r\n        <path d=\"M 10.6875 12.40625 \r\nL 21 12.40625 \r\nL 21 0 \r\nL 10.6875 0 \r\nz\r\n\" id=\"DejaVuSans-46\"/>\r\n       </defs>\r\n       <use xlink:href=\"#DejaVuSans-48\"/>\r\n       <use x=\"63.623047\" xlink:href=\"#DejaVuSans-46\"/>\r\n       <use x=\"95.410156\" xlink:href=\"#DejaVuSans-48\"/>\r\n      </g>\r\n     </g>\r\n    </g>\r\n    <g id=\"xtick_2\">\r\n     <g id=\"line2d_2\">\r\n      <g>\r\n       <use style=\"stroke:#000000;stroke-width:0.8;\" x=\"110.74125\" xlink:href=\"#m2b8fef0b36\" y=\"239.758125\"/>\r\n      </g>\r\n     </g>\r\n     <g id=\"text_2\">\r\n      <!-- 0.2 -->\r\n      <g transform=\"translate(102.789688 254.356562)scale(0.1 -0.1)\">\r\n       <defs>\r\n        <path d=\"M 19.1875 8.296875 \r\nL 53.609375 8.296875 \r\nL 53.609375 0 \r\nL 7.328125 0 \r\nL 7.328125 8.296875 \r\nQ 12.9375 14.109375 22.625 23.890625 \r\nQ 32.328125 33.6875 34.8125 36.53125 \r\nQ 39.546875 41.84375 41.421875 45.53125 \r\nQ 43.3125 49.21875 43.3125 52.78125 \r\nQ 43.3125 58.59375 39.234375 62.25 \r\nQ 35.15625 65.921875 28.609375 65.921875 \r\nQ 23.96875 65.921875 18.8125 64.3125 \r\nQ 13.671875 62.703125 7.8125 59.421875 \r\nL 7.8125 69.390625 \r\nQ 13.765625 71.78125 18.9375 73 \r\nQ 24.125 74.21875 28.421875 74.21875 \r\nQ 39.75 74.21875 46.484375 68.546875 \r\nQ 53.21875 62.890625 53.21875 53.421875 \r\nQ 53.21875 48.921875 51.53125 44.890625 \r\nQ 49.859375 40.875 45.40625 35.40625 \r\nQ 44.1875 33.984375 37.640625 27.21875 \r\nQ 31.109375 20.453125 19.1875 8.296875 \r\nz\r\n\" id=\"DejaVuSans-50\"/>\r\n       </defs>\r\n       <use xlink:href=\"#DejaVuSans-48\"/>\r\n       <use x=\"63.623047\" xlink:href=\"#DejaVuSans-46\"/>\r\n       <use x=\"95.410156\" xlink:href=\"#DejaVuSans-50\"/>\r\n      </g>\r\n     </g>\r\n    </g>\r\n    <g id=\"xtick_3\">\r\n     <g id=\"line2d_3\">\r\n      <g>\r\n       <use style=\"stroke:#000000;stroke-width:0.8;\" x=\"177.70125\" xlink:href=\"#m2b8fef0b36\" y=\"239.758125\"/>\r\n      </g>\r\n     </g>\r\n     <g id=\"text_3\">\r\n      <!-- 0.4 -->\r\n      <g transform=\"translate(169.749688 254.356562)scale(0.1 -0.1)\">\r\n       <defs>\r\n        <path d=\"M 37.796875 64.3125 \r\nL 12.890625 25.390625 \r\nL 37.796875 25.390625 \r\nz\r\nM 35.203125 72.90625 \r\nL 47.609375 72.90625 \r\nL 47.609375 25.390625 \r\nL 58.015625 25.390625 \r\nL 58.015625 17.1875 \r\nL 47.609375 17.1875 \r\nL 47.609375 0 \r\nL 37.796875 0 \r\nL 37.796875 17.1875 \r\nL 4.890625 17.1875 \r\nL 4.890625 26.703125 \r\nz\r\n\" id=\"DejaVuSans-52\"/>\r\n       </defs>\r\n       <use xlink:href=\"#DejaVuSans-48\"/>\r\n       <use x=\"63.623047\" xlink:href=\"#DejaVuSans-46\"/>\r\n       <use x=\"95.410156\" xlink:href=\"#DejaVuSans-52\"/>\r\n      </g>\r\n     </g>\r\n    </g>\r\n    <g id=\"xtick_4\">\r\n     <g id=\"line2d_4\">\r\n      <g>\r\n       <use style=\"stroke:#000000;stroke-width:0.8;\" x=\"244.66125\" xlink:href=\"#m2b8fef0b36\" y=\"239.758125\"/>\r\n      </g>\r\n     </g>\r\n     <g id=\"text_4\">\r\n      <!-- 0.6 -->\r\n      <g transform=\"translate(236.709688 254.356562)scale(0.1 -0.1)\">\r\n       <defs>\r\n        <path d=\"M 33.015625 40.375 \r\nQ 26.375 40.375 22.484375 35.828125 \r\nQ 18.609375 31.296875 18.609375 23.390625 \r\nQ 18.609375 15.53125 22.484375 10.953125 \r\nQ 26.375 6.390625 33.015625 6.390625 \r\nQ 39.65625 6.390625 43.53125 10.953125 \r\nQ 47.40625 15.53125 47.40625 23.390625 \r\nQ 47.40625 31.296875 43.53125 35.828125 \r\nQ 39.65625 40.375 33.015625 40.375 \r\nz\r\nM 52.59375 71.296875 \r\nL 52.59375 62.3125 \r\nQ 48.875 64.0625 45.09375 64.984375 \r\nQ 41.3125 65.921875 37.59375 65.921875 \r\nQ 27.828125 65.921875 22.671875 59.328125 \r\nQ 17.53125 52.734375 16.796875 39.40625 \r\nQ 19.671875 43.65625 24.015625 45.921875 \r\nQ 28.375 48.1875 33.59375 48.1875 \r\nQ 44.578125 48.1875 50.953125 41.515625 \r\nQ 57.328125 34.859375 57.328125 23.390625 \r\nQ 57.328125 12.15625 50.6875 5.359375 \r\nQ 44.046875 -1.421875 33.015625 -1.421875 \r\nQ 20.359375 -1.421875 13.671875 8.265625 \r\nQ 6.984375 17.96875 6.984375 36.375 \r\nQ 6.984375 53.65625 15.1875 63.9375 \r\nQ 23.390625 74.21875 37.203125 74.21875 \r\nQ 40.921875 74.21875 44.703125 73.484375 \r\nQ 48.484375 72.75 52.59375 71.296875 \r\nz\r\n\" id=\"DejaVuSans-54\"/>\r\n       </defs>\r\n       <use xlink:href=\"#DejaVuSans-48\"/>\r\n       <use x=\"63.623047\" xlink:href=\"#DejaVuSans-46\"/>\r\n       <use x=\"95.410156\" xlink:href=\"#DejaVuSans-54\"/>\r\n      </g>\r\n     </g>\r\n    </g>\r\n    <g id=\"xtick_5\">\r\n     <g id=\"line2d_5\">\r\n      <g>\r\n       <use style=\"stroke:#000000;stroke-width:0.8;\" x=\"311.62125\" xlink:href=\"#m2b8fef0b36\" y=\"239.758125\"/>\r\n      </g>\r\n     </g>\r\n     <g id=\"text_5\">\r\n      <!-- 0.8 -->\r\n      <g transform=\"translate(303.669688 254.356562)scale(0.1 -0.1)\">\r\n       <defs>\r\n        <path d=\"M 31.78125 34.625 \r\nQ 24.75 34.625 20.71875 30.859375 \r\nQ 16.703125 27.09375 16.703125 20.515625 \r\nQ 16.703125 13.921875 20.71875 10.15625 \r\nQ 24.75 6.390625 31.78125 6.390625 \r\nQ 38.8125 6.390625 42.859375 10.171875 \r\nQ 46.921875 13.96875 46.921875 20.515625 \r\nQ 46.921875 27.09375 42.890625 30.859375 \r\nQ 38.875 34.625 31.78125 34.625 \r\nz\r\nM 21.921875 38.8125 \r\nQ 15.578125 40.375 12.03125 44.71875 \r\nQ 8.5 49.078125 8.5 55.328125 \r\nQ 8.5 64.0625 14.71875 69.140625 \r\nQ 20.953125 74.21875 31.78125 74.21875 \r\nQ 42.671875 74.21875 48.875 69.140625 \r\nQ 55.078125 64.0625 55.078125 55.328125 \r\nQ 55.078125 49.078125 51.53125 44.71875 \r\nQ 48 40.375 41.703125 38.8125 \r\nQ 48.828125 37.15625 52.796875 32.3125 \r\nQ 56.78125 27.484375 56.78125 20.515625 \r\nQ 56.78125 9.90625 50.3125 4.234375 \r\nQ 43.84375 -1.421875 31.78125 -1.421875 \r\nQ 19.734375 -1.421875 13.25 4.234375 \r\nQ 6.78125 9.90625 6.78125 20.515625 \r\nQ 6.78125 27.484375 10.78125 32.3125 \r\nQ 14.796875 37.15625 21.921875 38.8125 \r\nz\r\nM 18.3125 54.390625 \r\nQ 18.3125 48.734375 21.84375 45.5625 \r\nQ 25.390625 42.390625 31.78125 42.390625 \r\nQ 38.140625 42.390625 41.71875 45.5625 \r\nQ 45.3125 48.734375 45.3125 54.390625 \r\nQ 45.3125 60.0625 41.71875 63.234375 \r\nQ 38.140625 66.40625 31.78125 66.40625 \r\nQ 25.390625 66.40625 21.84375 63.234375 \r\nQ 18.3125 60.0625 18.3125 54.390625 \r\nz\r\n\" id=\"DejaVuSans-56\"/>\r\n       </defs>\r\n       <use xlink:href=\"#DejaVuSans-48\"/>\r\n       <use x=\"63.623047\" xlink:href=\"#DejaVuSans-46\"/>\r\n       <use x=\"95.410156\" xlink:href=\"#DejaVuSans-56\"/>\r\n      </g>\r\n     </g>\r\n    </g>\r\n    <g id=\"xtick_6\">\r\n     <g id=\"line2d_6\">\r\n      <g>\r\n       <use style=\"stroke:#000000;stroke-width:0.8;\" x=\"378.58125\" xlink:href=\"#m2b8fef0b36\" y=\"239.758125\"/>\r\n      </g>\r\n     </g>\r\n     <g id=\"text_6\">\r\n      <!-- 1.0 -->\r\n      <g transform=\"translate(370.629687 254.356562)scale(0.1 -0.1)\">\r\n       <defs>\r\n        <path d=\"M 12.40625 8.296875 \r\nL 28.515625 8.296875 \r\nL 28.515625 63.921875 \r\nL 10.984375 60.40625 \r\nL 10.984375 69.390625 \r\nL 28.421875 72.90625 \r\nL 38.28125 72.90625 \r\nL 38.28125 8.296875 \r\nL 54.390625 8.296875 \r\nL 54.390625 0 \r\nL 12.40625 0 \r\nz\r\n\" id=\"DejaVuSans-49\"/>\r\n       </defs>\r\n       <use xlink:href=\"#DejaVuSans-49\"/>\r\n       <use x=\"63.623047\" xlink:href=\"#DejaVuSans-46\"/>\r\n       <use x=\"95.410156\" xlink:href=\"#DejaVuSans-48\"/>\r\n      </g>\r\n     </g>\r\n    </g>\r\n    <g id=\"text_7\">\r\n     <!-- False Positive Rate (1-Specificity) -->\r\n     <g transform=\"translate(128.46875 268.034687)scale(0.1 -0.1)\">\r\n      <defs>\r\n       <path d=\"M 9.8125 72.90625 \r\nL 51.703125 72.90625 \r\nL 51.703125 64.59375 \r\nL 19.671875 64.59375 \r\nL 19.671875 43.109375 \r\nL 48.578125 43.109375 \r\nL 48.578125 34.8125 \r\nL 19.671875 34.8125 \r\nL 19.671875 0 \r\nL 9.8125 0 \r\nz\r\n\" id=\"DejaVuSans-70\"/>\r\n       <path d=\"M 34.28125 27.484375 \r\nQ 23.390625 27.484375 19.1875 25 \r\nQ 14.984375 22.515625 14.984375 16.5 \r\nQ 14.984375 11.71875 18.140625 8.90625 \r\nQ 21.296875 6.109375 26.703125 6.109375 \r\nQ 34.1875 6.109375 38.703125 11.40625 \r\nQ 43.21875 16.703125 43.21875 25.484375 \r\nL 43.21875 27.484375 \r\nz\r\nM 52.203125 31.203125 \r\nL 52.203125 0 \r\nL 43.21875 0 \r\nL 43.21875 8.296875 \r\nQ 40.140625 3.328125 35.546875 0.953125 \r\nQ 30.953125 -1.421875 24.3125 -1.421875 \r\nQ 15.921875 -1.421875 10.953125 3.296875 \r\nQ 6 8.015625 6 15.921875 \r\nQ 6 25.140625 12.171875 29.828125 \r\nQ 18.359375 34.515625 30.609375 34.515625 \r\nL 43.21875 34.515625 \r\nL 43.21875 35.40625 \r\nQ 43.21875 41.609375 39.140625 45 \r\nQ 35.0625 48.390625 27.6875 48.390625 \r\nQ 23 48.390625 18.546875 47.265625 \r\nQ 14.109375 46.140625 10.015625 43.890625 \r\nL 10.015625 52.203125 \r\nQ 14.9375 54.109375 19.578125 55.046875 \r\nQ 24.21875 56 28.609375 56 \r\nQ 40.484375 56 46.34375 49.84375 \r\nQ 52.203125 43.703125 52.203125 31.203125 \r\nz\r\n\" id=\"DejaVuSans-97\"/>\r\n       <path d=\"M 9.421875 75.984375 \r\nL 18.40625 75.984375 \r\nL 18.40625 0 \r\nL 9.421875 0 \r\nz\r\n\" id=\"DejaVuSans-108\"/>\r\n       <path d=\"M 44.28125 53.078125 \r\nL 44.28125 44.578125 \r\nQ 40.484375 46.53125 36.375 47.5 \r\nQ 32.28125 48.484375 27.875 48.484375 \r\nQ 21.1875 48.484375 17.84375 46.4375 \r\nQ 14.5 44.390625 14.5 40.28125 \r\nQ 14.5 37.15625 16.890625 35.375 \r\nQ 19.28125 33.59375 26.515625 31.984375 \r\nL 29.59375 31.296875 \r\nQ 39.15625 29.25 43.1875 25.515625 \r\nQ 47.21875 21.78125 47.21875 15.09375 \r\nQ 47.21875 7.46875 41.1875 3.015625 \r\nQ 35.15625 -1.421875 24.609375 -1.421875 \r\nQ 20.21875 -1.421875 15.453125 -0.5625 \r\nQ 10.6875 0.296875 5.421875 2 \r\nL 5.421875 11.28125 \r\nQ 10.40625 8.6875 15.234375 7.390625 \r\nQ 20.0625 6.109375 24.8125 6.109375 \r\nQ 31.15625 6.109375 34.5625 8.28125 \r\nQ 37.984375 10.453125 37.984375 14.40625 \r\nQ 37.984375 18.0625 35.515625 20.015625 \r\nQ 33.0625 21.96875 24.703125 23.78125 \r\nL 21.578125 24.515625 \r\nQ 13.234375 26.265625 9.515625 29.90625 \r\nQ 5.8125 33.546875 5.8125 39.890625 \r\nQ 5.8125 47.609375 11.28125 51.796875 \r\nQ 16.75 56 26.8125 56 \r\nQ 31.78125 56 36.171875 55.265625 \r\nQ 40.578125 54.546875 44.28125 53.078125 \r\nz\r\n\" id=\"DejaVuSans-115\"/>\r\n       <path d=\"M 56.203125 29.59375 \r\nL 56.203125 25.203125 \r\nL 14.890625 25.203125 \r\nQ 15.484375 15.921875 20.484375 11.0625 \r\nQ 25.484375 6.203125 34.421875 6.203125 \r\nQ 39.59375 6.203125 44.453125 7.46875 \r\nQ 49.3125 8.734375 54.109375 11.28125 \r\nL 54.109375 2.78125 \r\nQ 49.265625 0.734375 44.1875 -0.34375 \r\nQ 39.109375 -1.421875 33.890625 -1.421875 \r\nQ 20.796875 -1.421875 13.15625 6.1875 \r\nQ 5.515625 13.8125 5.515625 26.8125 \r\nQ 5.515625 40.234375 12.765625 48.109375 \r\nQ 20.015625 56 32.328125 56 \r\nQ 43.359375 56 49.78125 48.890625 \r\nQ 56.203125 41.796875 56.203125 29.59375 \r\nz\r\nM 47.21875 32.234375 \r\nQ 47.125 39.59375 43.09375 43.984375 \r\nQ 39.0625 48.390625 32.421875 48.390625 \r\nQ 24.90625 48.390625 20.390625 44.140625 \r\nQ 15.875 39.890625 15.1875 32.171875 \r\nz\r\n\" id=\"DejaVuSans-101\"/>\r\n       <path id=\"DejaVuSans-32\"/>\r\n       <path d=\"M 19.671875 64.796875 \r\nL 19.671875 37.40625 \r\nL 32.078125 37.40625 \r\nQ 38.96875 37.40625 42.71875 40.96875 \r\nQ 46.484375 44.53125 46.484375 51.125 \r\nQ 46.484375 57.671875 42.71875 61.234375 \r\nQ 38.96875 64.796875 32.078125 64.796875 \r\nz\r\nM 9.8125 72.90625 \r\nL 32.078125 72.90625 \r\nQ 44.34375 72.90625 50.609375 67.359375 \r\nQ 56.890625 61.8125 56.890625 51.125 \r\nQ 56.890625 40.328125 50.609375 34.8125 \r\nQ 44.34375 29.296875 32.078125 29.296875 \r\nL 19.671875 29.296875 \r\nL 19.671875 0 \r\nL 9.8125 0 \r\nz\r\n\" id=\"DejaVuSans-80\"/>\r\n       <path d=\"M 30.609375 48.390625 \r\nQ 23.390625 48.390625 19.1875 42.75 \r\nQ 14.984375 37.109375 14.984375 27.296875 \r\nQ 14.984375 17.484375 19.15625 11.84375 \r\nQ 23.34375 6.203125 30.609375 6.203125 \r\nQ 37.796875 6.203125 41.984375 11.859375 \r\nQ 46.1875 17.53125 46.1875 27.296875 \r\nQ 46.1875 37.015625 41.984375 42.703125 \r\nQ 37.796875 48.390625 30.609375 48.390625 \r\nz\r\nM 30.609375 56 \r\nQ 42.328125 56 49.015625 48.375 \r\nQ 55.71875 40.765625 55.71875 27.296875 \r\nQ 55.71875 13.875 49.015625 6.21875 \r\nQ 42.328125 -1.421875 30.609375 -1.421875 \r\nQ 18.84375 -1.421875 12.171875 6.21875 \r\nQ 5.515625 13.875 5.515625 27.296875 \r\nQ 5.515625 40.765625 12.171875 48.375 \r\nQ 18.84375 56 30.609375 56 \r\nz\r\n\" id=\"DejaVuSans-111\"/>\r\n       <path d=\"M 9.421875 54.6875 \r\nL 18.40625 54.6875 \r\nL 18.40625 0 \r\nL 9.421875 0 \r\nz\r\nM 9.421875 75.984375 \r\nL 18.40625 75.984375 \r\nL 18.40625 64.59375 \r\nL 9.421875 64.59375 \r\nz\r\n\" id=\"DejaVuSans-105\"/>\r\n       <path d=\"M 18.3125 70.21875 \r\nL 18.3125 54.6875 \r\nL 36.8125 54.6875 \r\nL 36.8125 47.703125 \r\nL 18.3125 47.703125 \r\nL 18.3125 18.015625 \r\nQ 18.3125 11.328125 20.140625 9.421875 \r\nQ 21.96875 7.515625 27.59375 7.515625 \r\nL 36.8125 7.515625 \r\nL 36.8125 0 \r\nL 27.59375 0 \r\nQ 17.1875 0 13.234375 3.875 \r\nQ 9.28125 7.765625 9.28125 18.015625 \r\nL 9.28125 47.703125 \r\nL 2.6875 47.703125 \r\nL 2.6875 54.6875 \r\nL 9.28125 54.6875 \r\nL 9.28125 70.21875 \r\nz\r\n\" id=\"DejaVuSans-116\"/>\r\n       <path d=\"M 2.984375 54.6875 \r\nL 12.5 54.6875 \r\nL 29.59375 8.796875 \r\nL 46.6875 54.6875 \r\nL 56.203125 54.6875 \r\nL 35.6875 0 \r\nL 23.484375 0 \r\nz\r\n\" id=\"DejaVuSans-118\"/>\r\n       <path d=\"M 44.390625 34.1875 \r\nQ 47.5625 33.109375 50.5625 29.59375 \r\nQ 53.5625 26.078125 56.59375 19.921875 \r\nL 66.609375 0 \r\nL 56 0 \r\nL 46.6875 18.703125 \r\nQ 43.0625 26.03125 39.671875 28.421875 \r\nQ 36.28125 30.8125 30.421875 30.8125 \r\nL 19.671875 30.8125 \r\nL 19.671875 0 \r\nL 9.8125 0 \r\nL 9.8125 72.90625 \r\nL 32.078125 72.90625 \r\nQ 44.578125 72.90625 50.734375 67.671875 \r\nQ 56.890625 62.453125 56.890625 51.90625 \r\nQ 56.890625 45.015625 53.6875 40.46875 \r\nQ 50.484375 35.9375 44.390625 34.1875 \r\nz\r\nM 19.671875 64.796875 \r\nL 19.671875 38.921875 \r\nL 32.078125 38.921875 \r\nQ 39.203125 38.921875 42.84375 42.21875 \r\nQ 46.484375 45.515625 46.484375 51.90625 \r\nQ 46.484375 58.296875 42.84375 61.546875 \r\nQ 39.203125 64.796875 32.078125 64.796875 \r\nz\r\n\" id=\"DejaVuSans-82\"/>\r\n       <path d=\"M 31 75.875 \r\nQ 24.46875 64.65625 21.28125 53.65625 \r\nQ 18.109375 42.671875 18.109375 31.390625 \r\nQ 18.109375 20.125 21.3125 9.0625 \r\nQ 24.515625 -2 31 -13.1875 \r\nL 23.1875 -13.1875 \r\nQ 15.875 -1.703125 12.234375 9.375 \r\nQ 8.59375 20.453125 8.59375 31.390625 \r\nQ 8.59375 42.28125 12.203125 53.3125 \r\nQ 15.828125 64.359375 23.1875 75.875 \r\nz\r\n\" id=\"DejaVuSans-40\"/>\r\n       <path d=\"M 4.890625 31.390625 \r\nL 31.203125 31.390625 \r\nL 31.203125 23.390625 \r\nL 4.890625 23.390625 \r\nz\r\n\" id=\"DejaVuSans-45\"/>\r\n       <path d=\"M 53.515625 70.515625 \r\nL 53.515625 60.890625 \r\nQ 47.90625 63.578125 42.921875 64.890625 \r\nQ 37.9375 66.21875 33.296875 66.21875 \r\nQ 25.25 66.21875 20.875 63.09375 \r\nQ 16.5 59.96875 16.5 54.203125 \r\nQ 16.5 49.359375 19.40625 46.890625 \r\nQ 22.3125 44.4375 30.421875 42.921875 \r\nL 36.375 41.703125 \r\nQ 47.40625 39.59375 52.65625 34.296875 \r\nQ 57.90625 29 57.90625 20.125 \r\nQ 57.90625 9.515625 50.796875 4.046875 \r\nQ 43.703125 -1.421875 29.984375 -1.421875 \r\nQ 24.8125 -1.421875 18.96875 -0.25 \r\nQ 13.140625 0.921875 6.890625 3.21875 \r\nL 6.890625 13.375 \r\nQ 12.890625 10.015625 18.65625 8.296875 \r\nQ 24.421875 6.59375 29.984375 6.59375 \r\nQ 38.421875 6.59375 43.015625 9.90625 \r\nQ 47.609375 13.234375 47.609375 19.390625 \r\nQ 47.609375 24.75 44.3125 27.78125 \r\nQ 41.015625 30.8125 33.5 32.328125 \r\nL 27.484375 33.5 \r\nQ 16.453125 35.6875 11.515625 40.375 \r\nQ 6.59375 45.0625 6.59375 53.421875 \r\nQ 6.59375 63.09375 13.40625 68.65625 \r\nQ 20.21875 74.21875 32.171875 74.21875 \r\nQ 37.3125 74.21875 42.625 73.28125 \r\nQ 47.953125 72.359375 53.515625 70.515625 \r\nz\r\n\" id=\"DejaVuSans-83\"/>\r\n       <path d=\"M 18.109375 8.203125 \r\nL 18.109375 -20.796875 \r\nL 9.078125 -20.796875 \r\nL 9.078125 54.6875 \r\nL 18.109375 54.6875 \r\nL 18.109375 46.390625 \r\nQ 20.953125 51.265625 25.265625 53.625 \r\nQ 29.59375 56 35.59375 56 \r\nQ 45.5625 56 51.78125 48.09375 \r\nQ 58.015625 40.1875 58.015625 27.296875 \r\nQ 58.015625 14.40625 51.78125 6.484375 \r\nQ 45.5625 -1.421875 35.59375 -1.421875 \r\nQ 29.59375 -1.421875 25.265625 0.953125 \r\nQ 20.953125 3.328125 18.109375 8.203125 \r\nz\r\nM 48.6875 27.296875 \r\nQ 48.6875 37.203125 44.609375 42.84375 \r\nQ 40.53125 48.484375 33.40625 48.484375 \r\nQ 26.265625 48.484375 22.1875 42.84375 \r\nQ 18.109375 37.203125 18.109375 27.296875 \r\nQ 18.109375 17.390625 22.1875 11.75 \r\nQ 26.265625 6.109375 33.40625 6.109375 \r\nQ 40.53125 6.109375 44.609375 11.75 \r\nQ 48.6875 17.390625 48.6875 27.296875 \r\nz\r\n\" id=\"DejaVuSans-112\"/>\r\n       <path d=\"M 48.78125 52.59375 \r\nL 48.78125 44.1875 \r\nQ 44.96875 46.296875 41.140625 47.34375 \r\nQ 37.3125 48.390625 33.40625 48.390625 \r\nQ 24.65625 48.390625 19.8125 42.84375 \r\nQ 14.984375 37.3125 14.984375 27.296875 \r\nQ 14.984375 17.28125 19.8125 11.734375 \r\nQ 24.65625 6.203125 33.40625 6.203125 \r\nQ 37.3125 6.203125 41.140625 7.25 \r\nQ 44.96875 8.296875 48.78125 10.40625 \r\nL 48.78125 2.09375 \r\nQ 45.015625 0.34375 40.984375 -0.53125 \r\nQ 36.96875 -1.421875 32.421875 -1.421875 \r\nQ 20.0625 -1.421875 12.78125 6.34375 \r\nQ 5.515625 14.109375 5.515625 27.296875 \r\nQ 5.515625 40.671875 12.859375 48.328125 \r\nQ 20.21875 56 33.015625 56 \r\nQ 37.15625 56 41.109375 55.140625 \r\nQ 45.0625 54.296875 48.78125 52.59375 \r\nz\r\n\" id=\"DejaVuSans-99\"/>\r\n       <path d=\"M 37.109375 75.984375 \r\nL 37.109375 68.5 \r\nL 28.515625 68.5 \r\nQ 23.6875 68.5 21.796875 66.546875 \r\nQ 19.921875 64.59375 19.921875 59.515625 \r\nL 19.921875 54.6875 \r\nL 34.71875 54.6875 \r\nL 34.71875 47.703125 \r\nL 19.921875 47.703125 \r\nL 19.921875 0 \r\nL 10.890625 0 \r\nL 10.890625 47.703125 \r\nL 2.296875 47.703125 \r\nL 2.296875 54.6875 \r\nL 10.890625 54.6875 \r\nL 10.890625 58.5 \r\nQ 10.890625 67.625 15.140625 71.796875 \r\nQ 19.390625 75.984375 28.609375 75.984375 \r\nz\r\n\" id=\"DejaVuSans-102\"/>\r\n       <path d=\"M 32.171875 -5.078125 \r\nQ 28.375 -14.84375 24.75 -17.8125 \r\nQ 21.140625 -20.796875 15.09375 -20.796875 \r\nL 7.90625 -20.796875 \r\nL 7.90625 -13.28125 \r\nL 13.1875 -13.28125 \r\nQ 16.890625 -13.28125 18.9375 -11.515625 \r\nQ 21 -9.765625 23.484375 -3.21875 \r\nL 25.09375 0.875 \r\nL 2.984375 54.6875 \r\nL 12.5 54.6875 \r\nL 29.59375 11.921875 \r\nL 46.6875 54.6875 \r\nL 56.203125 54.6875 \r\nz\r\n\" id=\"DejaVuSans-121\"/>\r\n       <path d=\"M 8.015625 75.875 \r\nL 15.828125 75.875 \r\nQ 23.140625 64.359375 26.78125 53.3125 \r\nQ 30.421875 42.28125 30.421875 31.390625 \r\nQ 30.421875 20.453125 26.78125 9.375 \r\nQ 23.140625 -1.703125 15.828125 -13.1875 \r\nL 8.015625 -13.1875 \r\nQ 14.5 -2 17.703125 9.0625 \r\nQ 20.90625 20.125 20.90625 31.390625 \r\nQ 20.90625 42.671875 17.703125 53.65625 \r\nQ 14.5 64.65625 8.015625 75.875 \r\nz\r\n\" id=\"DejaVuSans-41\"/>\r\n      </defs>\r\n      <use xlink:href=\"#DejaVuSans-70\"/>\r\n      <use x=\"48.394531\" xlink:href=\"#DejaVuSans-97\"/>\r\n      <use x=\"109.673828\" xlink:href=\"#DejaVuSans-108\"/>\r\n      <use x=\"137.457031\" xlink:href=\"#DejaVuSans-115\"/>\r\n      <use x=\"189.556641\" xlink:href=\"#DejaVuSans-101\"/>\r\n      <use x=\"251.080078\" xlink:href=\"#DejaVuSans-32\"/>\r\n      <use x=\"282.867188\" xlink:href=\"#DejaVuSans-80\"/>\r\n      <use x=\"339.544922\" xlink:href=\"#DejaVuSans-111\"/>\r\n      <use x=\"400.726562\" xlink:href=\"#DejaVuSans-115\"/>\r\n      <use x=\"452.826172\" xlink:href=\"#DejaVuSans-105\"/>\r\n      <use x=\"480.609375\" xlink:href=\"#DejaVuSans-116\"/>\r\n      <use x=\"519.818359\" xlink:href=\"#DejaVuSans-105\"/>\r\n      <use x=\"547.601562\" xlink:href=\"#DejaVuSans-118\"/>\r\n      <use x=\"606.78125\" xlink:href=\"#DejaVuSans-101\"/>\r\n      <use x=\"668.304688\" xlink:href=\"#DejaVuSans-32\"/>\r\n      <use x=\"700.091797\" xlink:href=\"#DejaVuSans-82\"/>\r\n      <use x=\"767.324219\" xlink:href=\"#DejaVuSans-97\"/>\r\n      <use x=\"828.603516\" xlink:href=\"#DejaVuSans-116\"/>\r\n      <use x=\"867.8125\" xlink:href=\"#DejaVuSans-101\"/>\r\n      <use x=\"929.335938\" xlink:href=\"#DejaVuSans-32\"/>\r\n      <use x=\"961.123047\" xlink:href=\"#DejaVuSans-40\"/>\r\n      <use x=\"1000.136719\" xlink:href=\"#DejaVuSans-49\"/>\r\n      <use x=\"1063.759766\" xlink:href=\"#DejaVuSans-45\"/>\r\n      <use x=\"1099.84375\" xlink:href=\"#DejaVuSans-83\"/>\r\n      <use x=\"1163.320312\" xlink:href=\"#DejaVuSans-112\"/>\r\n      <use x=\"1226.796875\" xlink:href=\"#DejaVuSans-101\"/>\r\n      <use x=\"1288.320312\" xlink:href=\"#DejaVuSans-99\"/>\r\n      <use x=\"1343.300781\" xlink:href=\"#DejaVuSans-105\"/>\r\n      <use x=\"1371.083984\" xlink:href=\"#DejaVuSans-102\"/>\r\n      <use x=\"1406.289062\" xlink:href=\"#DejaVuSans-105\"/>\r\n      <use x=\"1434.072266\" xlink:href=\"#DejaVuSans-99\"/>\r\n      <use x=\"1489.052734\" xlink:href=\"#DejaVuSans-105\"/>\r\n      <use x=\"1516.835938\" xlink:href=\"#DejaVuSans-116\"/>\r\n      <use x=\"1556.044922\" xlink:href=\"#DejaVuSans-121\"/>\r\n      <use x=\"1615.224609\" xlink:href=\"#DejaVuSans-41\"/>\r\n     </g>\r\n    </g>\r\n   </g>\r\n   <g id=\"matplotlib.axis_2\">\r\n    <g id=\"ytick_1\">\r\n     <g id=\"line2d_7\">\r\n      <defs>\r\n       <path d=\"M 0 0 \r\nL -3.5 0 \r\n\" id=\"m64861b0d47\" style=\"stroke:#000000;stroke-width:0.8;\"/>\r\n      </defs>\r\n      <g>\r\n       <use style=\"stroke:#000000;stroke-width:0.8;\" x=\"43.78125\" xlink:href=\"#m64861b0d47\" y=\"239.758125\"/>\r\n      </g>\r\n     </g>\r\n     <g id=\"text_8\">\r\n      <!-- 0.0 -->\r\n      <g transform=\"translate(20.878125 243.557344)scale(0.1 -0.1)\">\r\n       <use xlink:href=\"#DejaVuSans-48\"/>\r\n       <use x=\"63.623047\" xlink:href=\"#DejaVuSans-46\"/>\r\n       <use x=\"95.410156\" xlink:href=\"#DejaVuSans-48\"/>\r\n      </g>\r\n     </g>\r\n    </g>\r\n    <g id=\"ytick_2\">\r\n     <g id=\"line2d_8\">\r\n      <g>\r\n       <use style=\"stroke:#000000;stroke-width:0.8;\" x=\"43.78125\" xlink:href=\"#m64861b0d47\" y=\"198.340982\"/>\r\n      </g>\r\n     </g>\r\n     <g id=\"text_9\">\r\n      <!-- 0.2 -->\r\n      <g transform=\"translate(20.878125 202.140201)scale(0.1 -0.1)\">\r\n       <use xlink:href=\"#DejaVuSans-48\"/>\r\n       <use x=\"63.623047\" xlink:href=\"#DejaVuSans-46\"/>\r\n       <use x=\"95.410156\" xlink:href=\"#DejaVuSans-50\"/>\r\n      </g>\r\n     </g>\r\n    </g>\r\n    <g id=\"ytick_3\">\r\n     <g id=\"line2d_9\">\r\n      <g>\r\n       <use style=\"stroke:#000000;stroke-width:0.8;\" x=\"43.78125\" xlink:href=\"#m64861b0d47\" y=\"156.923839\"/>\r\n      </g>\r\n     </g>\r\n     <g id=\"text_10\">\r\n      <!-- 0.4 -->\r\n      <g transform=\"translate(20.878125 160.723058)scale(0.1 -0.1)\">\r\n       <use xlink:href=\"#DejaVuSans-48\"/>\r\n       <use x=\"63.623047\" xlink:href=\"#DejaVuSans-46\"/>\r\n       <use x=\"95.410156\" xlink:href=\"#DejaVuSans-52\"/>\r\n      </g>\r\n     </g>\r\n    </g>\r\n    <g id=\"ytick_4\">\r\n     <g id=\"line2d_10\">\r\n      <g>\r\n       <use style=\"stroke:#000000;stroke-width:0.8;\" x=\"43.78125\" xlink:href=\"#m64861b0d47\" y=\"115.506696\"/>\r\n      </g>\r\n     </g>\r\n     <g id=\"text_11\">\r\n      <!-- 0.6 -->\r\n      <g transform=\"translate(20.878125 119.305915)scale(0.1 -0.1)\">\r\n       <use xlink:href=\"#DejaVuSans-48\"/>\r\n       <use x=\"63.623047\" xlink:href=\"#DejaVuSans-46\"/>\r\n       <use x=\"95.410156\" xlink:href=\"#DejaVuSans-54\"/>\r\n      </g>\r\n     </g>\r\n    </g>\r\n    <g id=\"ytick_5\">\r\n     <g id=\"line2d_11\">\r\n      <g>\r\n       <use style=\"stroke:#000000;stroke-width:0.8;\" x=\"43.78125\" xlink:href=\"#m64861b0d47\" y=\"74.089554\"/>\r\n      </g>\r\n     </g>\r\n     <g id=\"text_12\">\r\n      <!-- 0.8 -->\r\n      <g transform=\"translate(20.878125 77.888772)scale(0.1 -0.1)\">\r\n       <use xlink:href=\"#DejaVuSans-48\"/>\r\n       <use x=\"63.623047\" xlink:href=\"#DejaVuSans-46\"/>\r\n       <use x=\"95.410156\" xlink:href=\"#DejaVuSans-56\"/>\r\n      </g>\r\n     </g>\r\n    </g>\r\n    <g id=\"ytick_6\">\r\n     <g id=\"line2d_12\">\r\n      <g>\r\n       <use style=\"stroke:#000000;stroke-width:0.8;\" x=\"43.78125\" xlink:href=\"#m64861b0d47\" y=\"32.672411\"/>\r\n      </g>\r\n     </g>\r\n     <g id=\"text_13\">\r\n      <!-- 1.0 -->\r\n      <g transform=\"translate(20.878125 36.471629)scale(0.1 -0.1)\">\r\n       <use xlink:href=\"#DejaVuSans-49\"/>\r\n       <use x=\"63.623047\" xlink:href=\"#DejaVuSans-46\"/>\r\n       <use x=\"95.410156\" xlink:href=\"#DejaVuSans-48\"/>\r\n      </g>\r\n     </g>\r\n    </g>\r\n    <g id=\"text_14\">\r\n     <!-- True Positive Rate -->\r\n     <g transform=\"translate(14.798438 175.567812)rotate(-90)scale(0.1 -0.1)\">\r\n      <defs>\r\n       <path d=\"M -0.296875 72.90625 \r\nL 61.375 72.90625 \r\nL 61.375 64.59375 \r\nL 35.5 64.59375 \r\nL 35.5 0 \r\nL 25.59375 0 \r\nL 25.59375 64.59375 \r\nL -0.296875 64.59375 \r\nz\r\n\" id=\"DejaVuSans-84\"/>\r\n       <path d=\"M 41.109375 46.296875 \r\nQ 39.59375 47.171875 37.8125 47.578125 \r\nQ 36.03125 48 33.890625 48 \r\nQ 26.265625 48 22.1875 43.046875 \r\nQ 18.109375 38.09375 18.109375 28.8125 \r\nL 18.109375 0 \r\nL 9.078125 0 \r\nL 9.078125 54.6875 \r\nL 18.109375 54.6875 \r\nL 18.109375 46.1875 \r\nQ 20.953125 51.171875 25.484375 53.578125 \r\nQ 30.03125 56 36.53125 56 \r\nQ 37.453125 56 38.578125 55.875 \r\nQ 39.703125 55.765625 41.0625 55.515625 \r\nz\r\n\" id=\"DejaVuSans-114\"/>\r\n       <path d=\"M 8.5 21.578125 \r\nL 8.5 54.6875 \r\nL 17.484375 54.6875 \r\nL 17.484375 21.921875 \r\nQ 17.484375 14.15625 20.5 10.265625 \r\nQ 23.53125 6.390625 29.59375 6.390625 \r\nQ 36.859375 6.390625 41.078125 11.03125 \r\nQ 45.3125 15.671875 45.3125 23.6875 \r\nL 45.3125 54.6875 \r\nL 54.296875 54.6875 \r\nL 54.296875 0 \r\nL 45.3125 0 \r\nL 45.3125 8.40625 \r\nQ 42.046875 3.421875 37.71875 1 \r\nQ 33.40625 -1.421875 27.6875 -1.421875 \r\nQ 18.265625 -1.421875 13.375 4.4375 \r\nQ 8.5 10.296875 8.5 21.578125 \r\nz\r\nM 31.109375 56 \r\nz\r\n\" id=\"DejaVuSans-117\"/>\r\n      </defs>\r\n      <use xlink:href=\"#DejaVuSans-84\"/>\r\n      <use x=\"46.333984\" xlink:href=\"#DejaVuSans-114\"/>\r\n      <use x=\"87.447266\" xlink:href=\"#DejaVuSans-117\"/>\r\n      <use x=\"150.826172\" xlink:href=\"#DejaVuSans-101\"/>\r\n      <use x=\"212.349609\" xlink:href=\"#DejaVuSans-32\"/>\r\n      <use x=\"244.136719\" xlink:href=\"#DejaVuSans-80\"/>\r\n      <use x=\"300.814453\" xlink:href=\"#DejaVuSans-111\"/>\r\n      <use x=\"361.996094\" xlink:href=\"#DejaVuSans-115\"/>\r\n      <use x=\"414.095703\" xlink:href=\"#DejaVuSans-105\"/>\r\n      <use x=\"441.878906\" xlink:href=\"#DejaVuSans-116\"/>\r\n      <use x=\"481.087891\" xlink:href=\"#DejaVuSans-105\"/>\r\n      <use x=\"508.871094\" xlink:href=\"#DejaVuSans-118\"/>\r\n      <use x=\"568.050781\" xlink:href=\"#DejaVuSans-101\"/>\r\n      <use x=\"629.574219\" xlink:href=\"#DejaVuSans-32\"/>\r\n      <use x=\"661.361328\" xlink:href=\"#DejaVuSans-82\"/>\r\n      <use x=\"728.59375\" xlink:href=\"#DejaVuSans-97\"/>\r\n      <use x=\"789.873047\" xlink:href=\"#DejaVuSans-116\"/>\r\n      <use x=\"829.082031\" xlink:href=\"#DejaVuSans-101\"/>\r\n     </g>\r\n    </g>\r\n   </g>\r\n   <g id=\"line2d_13\">\r\n    <path clip-path=\"url(#pa2fe34d732)\" d=\"M 43.78125 239.758125 \r\nL 43.807389 239.758125 \r\nL 43.911944 238.340612 \r\nL 43.938083 238.340612 \r\nL 44.042639 237.309694 \r\nL 44.068778 237.309694 \r\nL 44.160264 236.149911 \r\nL 44.186403 236.149911 \r\nL 44.290958 233.830345 \r\nL 44.304028 233.830345 \r\nL 44.408583 231.059752 \r\nL 44.434722 231.059752 \r\nL 44.539278 227.966997 \r\nL 44.565417 227.966997 \r\nL 44.630764 226.678349 \r\nL 44.683042 226.678349 \r\nL 44.787597 224.616512 \r\nL 44.813736 224.55208 \r\nL 44.892153 223.585594 \r\nL 44.931361 223.585594 \r\nL 44.931361 223.521162 \r\nL 45.035917 222.232514 \r\nL 45.048986 222.232514 \r\nL 45.153542 220.621704 \r\nL 45.166611 220.621704 \r\nL 45.271167 218.688732 \r\nL 45.310375 218.6243 \r\nL 45.414931 217.528949 \r\nL 45.480278 217.464517 \r\nL 45.584834 215.595977 \r\nL 45.624042 215.595977 \r\nL 45.728597 214.565059 \r\nL 45.741667 214.565059 \r\nL 45.846222 213.405276 \r\nL 45.885431 213.405276 \r\nL 45.976917 213.018681 \r\nL 46.003056 213.018681 \r\nL 46.029195 212.69652 \r\nL 46.13375 212.69652 \r\nL 46.238306 211.987763 \r\nL 46.290584 211.923331 \r\nL 46.38207 210.763548 \r\nL 46.408209 210.763548 \r\nL 46.512764 209.4749 \r\nL 46.525834 209.4749 \r\nL 46.630389 207.86409 \r\nL 46.643459 207.86409 \r\nL 46.748014 206.059983 \r\nL 46.761084 206.059983 \r\nL 46.865639 203.933714 \r\nL 46.891778 203.933714 \r\nL 46.957125 203.418255 \r\nL 47.048612 203.353822 \r\nL 47.153167 202.322904 \r\nL 47.205445 202.258472 \r\nL 47.296931 201.291986 \r\nL 47.336139 201.291986 \r\nL 47.414556 200.3255 \r\nL 47.466834 200.3255 \r\nL 47.571389 198.45696 \r\nL 47.597528 198.45696 \r\nL 47.702084 196.459556 \r\nL 47.715153 196.459556 \r\nL 47.819709 196.072962 \r\nL 47.832778 196.072962 \r\nL 47.937334 194.913179 \r\nL 47.950403 194.913179 \r\nL 48.054959 193.624531 \r\nL 48.107237 193.560099 \r\nL 48.198723 192.142586 \r\nL 48.224862 192.142586 \r\nL 48.329417 191.047235 \r\nL 48.368626 190.982803 \r\nL 48.473181 189.56529 \r\nL 48.486251 189.56529 \r\nL 48.577737 187.761183 \r\nL 48.603876 187.761183 \r\nL 48.708431 186.794697 \r\nL 48.721501 186.794697 \r\nL 48.826056 185.957076 \r\nL 48.839126 185.957076 \r\nL 48.891403 184.926158 \r\nL 48.956751 184.926158 \r\nL 49.061306 183.250915 \r\nL 49.244278 182.348862 \r\nL 49.348834 179.964863 \r\nL 49.361903 179.964863 \r\nL 49.466459 179.127242 \r\nL 49.518737 179.06281 \r\nL 49.610223 178.031892 \r\nL 49.67557 177.967459 \r\nL 49.767056 177.452 \r\nL 49.793195 177.452 \r\nL 49.897751 176.549946 \r\nL 49.936959 176.549946 \r\nL 50.002306 175.583461 \r\nL 50.054584 175.583461 \r\nL 50.15914 175.068001 \r\nL 50.172209 175.068001 \r\nL 50.263695 174.681407 \r\nL 50.289834 174.681407 \r\nL 50.38132 173.779354 \r\nL 50.420529 173.779354 \r\nL 50.525084 172.8773 \r\nL 50.538154 172.8773 \r\nL 50.61657 171.588652 \r\nL 50.655779 171.588652 \r\nL 50.734195 171.395355 \r\nL 50.799543 171.330923 \r\nL 50.904098 170.493301 \r\nL 50.930237 170.493301 \r\nL 51.034793 169.269086 \r\nL 51.060931 169.269086 \r\nL 51.165487 168.3026 \r\nL 51.217765 168.3026 \r\nL 51.32232 167.400547 \r\nL 51.33539 167.336114 \r\nL 51.466084 166.240763 \r\nL 51.57064 165.274278 \r\nL 51.635987 165.274278 \r\nL 51.740543 164.758818 \r\nL 51.753612 164.758818 \r\nL 51.858168 164.307792 \r\nL 51.897376 164.307792 \r\nL 52.001932 162.632549 \r\nL 52.015001 162.632549 \r\nL 52.119557 161.086172 \r\nL 52.132626 161.086172 \r\nL 52.237182 159.990821 \r\nL 52.250251 159.990821 \r\nL 52.354807 159.475362 \r\nL 52.394015 159.41093 \r\nL 52.498571 158.702173 \r\nL 52.51164 158.702173 \r\nL 52.616196 157.80012 \r\nL 52.668473 157.80012 \r\nL 52.759959 157.284661 \r\nL 52.799168 157.220228 \r\nL 52.890654 156.318175 \r\nL 52.942932 156.318175 \r\nL 53.047487 155.351689 \r\nL 53.073626 155.287256 \r\nL 53.099765 155.093959 \r\nL 53.204321 155.093959 \r\nL 53.308876 154.514068 \r\nL 53.361154 154.449635 \r\nL 53.46571 153.934176 \r\nL 53.557196 153.869744 \r\nL 53.635612 153.547582 \r\nL 53.674821 153.547582 \r\nL 53.766307 152.709961 \r\nL 53.844723 152.645528 \r\nL 53.910071 152.194502 \r\nL 53.962348 152.194502 \r\nL 54.027696 151.936772 \r\nL 54.053835 151.936772 \r\nL 54.079974 151.936772 \r\nL 54.184529 150.970286 \r\nL 54.210668 150.905854 \r\nL 54.302154 150.197097 \r\nL 54.341362 150.132665 \r\nL 54.432849 149.230611 \r\nL 54.458987 149.230611 \r\nL 54.563543 147.813099 \r\nL 54.576612 147.813099 \r\nL 54.681168 146.911045 \r\nL 54.707307 146.846613 \r\nL 54.798793 146.331154 \r\nL 54.838001 146.331154 \r\nL 55.060182 145.042506 \r\nL 55.138599 144.978073 \r\nL 55.217015 144.655911 \r\nL 55.256224 144.655911 \r\nL 55.360779 143.689426 \r\nL 55.373849 143.689426 \r\nL 55.465335 143.173966 \r\nL 55.530682 143.173966 \r\nL 55.635238 142.851804 \r\nL 55.700585 142.787372 \r\nL 55.80514 142.078616 \r\nL 55.81821 142.078616 \r\nL 55.909696 141.692021 \r\nL 55.922765 141.692021 \r\nL 56.367127 139.75905 \r\nL 56.458613 139.694617 \r\nL 56.563168 138.792564 \r\nL 56.615446 138.728131 \r\nL 56.720002 138.534834 \r\nL 56.75921 138.470402 \r\nL 56.850696 137.761645 \r\nL 56.889904 137.697213 \r\nL 56.99446 137.181754 \r\nL 57.007529 137.181754 \r\nL 57.112085 136.795159 \r\nL 57.177432 136.730727 \r\nL 57.22971 136.53743 \r\nL 57.321196 136.53743 \r\nL 57.412682 135.699809 \r\nL 57.425752 135.699809 \r\nL 57.491099 135.635376 \r\nL 57.93546 133.831269 \r\nL 58.079224 133.766837 \r\nL 58.18378 133.122513 \r\nL 58.222988 133.058081 \r\nL 58.327543 132.671486 \r\nL 58.366752 132.671486 \r\nL 58.471307 132.156027 \r\nL 58.497446 132.091595 \r\nL 58.602002 131.833865 \r\nL 58.64121 131.769433 \r\nL 58.745766 131.382838 \r\nL 58.811113 131.318406 \r\nL 58.915669 130.545217 \r\nL 58.928738 130.545217 \r\nL 59.020224 130.158623 \r\nL 59.046363 130.158623 \r\nL 59.12478 129.514299 \r\nL 59.177057 129.449866 \r\nL 59.229335 128.418948 \r\nL 59.386169 128.354516 \r\nL 59.438446 127.774624 \r\nL 59.490724 127.774624 \r\nL 59.543002 127.710192 \r\nL 59.608349 127.38803 \r\nL 59.686766 127.323597 \r\nL 59.778252 127.001436 \r\nL 59.843599 126.937003 \r\nL 59.935085 126.679274 \r\nL 59.974294 126.679274 \r\nL 60.000433 126.421544 \r\nL 60.104988 126.421544 \r\nL 60.157266 125.970517 \r\nL 60.183405 125.970517 \r\nL 60.314099 125.906085 \r\nL 60.418655 125.455058 \r\nL 60.470933 125.390626 \r\nL 60.470933 125.326193 \r\nL 60.588558 125.326193 \r\nL 60.680044 124.681869 \r\nL 60.75846 124.617437 \r\nL 61.385794 121.846844 \r\nL 61.438072 121.846844 \r\nL 61.503419 121.653547 \r\nL 61.542627 121.653547 \r\nL 61.804016 120.751493 \r\nL 61.908572 119.785007 \r\nL 61.94778 119.269548 \r\nL 62.039266 118.625224 \r\nL 62.065405 118.625224 \r\nL 62.156891 118.109765 \r\nL 62.1961 118.045333 \r\nL 62.287586 117.594306 \r\nL 62.352933 117.529874 \r\nL 62.457488 117.143279 \r\nL 62.509766 117.143279 \r\nL 62.601252 116.62782 \r\nL 62.65353 116.563388 \r\nL 62.758086 116.370091 \r\nL 62.88878 116.305658 \r\nL 62.993336 115.661334 \r\nL 63.071752 115.596902 \r\nL 63.150169 115.27474 \r\nL 63.267794 115.210307 \r\nL 63.346211 114.694848 \r\nL 63.385419 114.694848 \r\nL 63.463836 114.179389 \r\nL 63.503044 114.179389 \r\nL 63.516114 113.92166 \r\nL 63.659877 113.92166 \r\nL 63.764433 113.599498 \r\nL 63.816711 113.535065 \r\nL 63.84285 113.341768 \r\nL 63.960475 113.277336 \r\nL 64.012753 113.019606 \r\nL 64.117308 112.955174 \r\nL 64.208794 112.504147 \r\nL 64.31335 112.439714 \r\nL 64.378697 112.117553 \r\nL 64.457114 112.117553 \r\nL 64.561669 111.473229 \r\nL 64.627016 111.408796 \r\nL 64.705433 110.893337 \r\nL 64.78385 110.828905 \r\nL 64.849197 110.571175 \r\nL 65.097517 110.506743 \r\nL 65.202072 110.184581 \r\nL 65.332767 110.120148 \r\nL 65.437322 109.411392 \r\nL 65.528808 109.34696 \r\nL 65.594155 108.895933 \r\nL 65.685642 108.8315 \r\nL 65.790197 108.251609 \r\nL 65.933961 108.251609 \r\nL 65.973169 108.058312 \r\nL 66.012378 108.058312 \r\nL 66.156142 107.993879 \r\nL 66.247628 107.73615 \r\nL 66.312975 107.671717 \r\nL 66.339114 107.47842 \r\nL 66.509017 107.413988 \r\nL 66.574364 107.091826 \r\nL 66.639711 107.091826 \r\nL 66.639711 107.027393 \r\nL 66.822683 106.12534 \r\nL 67.005656 106.060907 \r\nL 67.071003 105.738745 \r\nL 67.123281 105.738745 \r\nL 67.214767 105.481016 \r\nL 67.489225 105.416584 \r\nL 67.593781 105.158854 \r\nL 67.685267 105.094422 \r\nL 67.789822 104.77226 \r\nL 67.920517 104.707827 \r\nL 67.985864 104.321233 \r\nL 68.051211 104.2568 \r\nL 68.116559 103.676909 \r\nL 68.142697 103.676909 \r\nL 68.247253 103.612476 \r\nL 68.338739 103.290315 \r\nL 68.443295 103.225882 \r\nL 68.521711 102.839288 \r\nL 68.54785 102.839288 \r\nL 68.717753 102.388261 \r\nL 68.756961 102.388261 \r\nL 68.756961 102.323829 \r\nL 68.861517 102.130531 \r\nL 69.03142 102.066099 \r\nL 69.279739 101.357343 \r\nL 69.305878 101.357343 \r\nL 69.384295 100.970748 \r\nL 69.449642 100.906316 \r\nL 69.528059 100.519722 \r\nL 69.7241 100.455289 \r\nL 69.815587 100.261992 \r\nL 69.828656 100.261992 \r\nL 69.933212 100.19756 \r\nL 70.011628 99.617668 \r\nL 70.063906 99.553236 \r\nL 70.155392 99.424371 \r\nL 70.181531 99.424371 \r\nL 70.194601 99.166641 \r\nL 70.351434 99.102209 \r\nL 70.455989 98.973344 \r\nL 70.508267 98.973344 \r\nL 70.599753 98.780047 \r\nL 70.704309 98.715615 \r\nL 70.756587 98.457885 \r\nL 70.795795 98.457885 \r\nL 70.835003 98.457885 \r\nL 70.874212 98.264588 \r\nL 70.939559 98.264588 \r\nL 71.044115 98.200155 \r\nL 71.096392 97.877993 \r\nL 71.135601 97.877993 \r\nL 71.39699 96.97594 \r\nL 71.501545 96.653778 \r\nL 71.553823 96.589346 \r\nL 71.658378 96.331616 \r\nL 71.671448 96.267184 \r\nL 71.919767 95.429562 \r\nL 72.037392 95.36513 \r\nL 72.115809 95.171833 \r\nL 72.181156 95.171833 \r\nL 72.272642 94.720806 \r\nL 72.364129 94.720806 \r\nL 72.429476 94.334212 \r\nL 72.455615 94.334212 \r\nL 72.57324 94.269779 \r\nL 72.651656 94.076482 \r\nL 72.690865 94.076482 \r\nL 72.782351 93.75432 \r\nL 72.80849 93.75432 \r\nL 72.913045 93.174429 \r\nL 73.135226 92.530105 \r\nL 73.200573 92.465672 \r\nL 73.305129 92.336808 \r\nL 73.370476 92.336808 \r\nL 73.409684 91.821348 \r\nL 73.50117 91.756916 \r\nL 73.592656 91.241457 \r\nL 73.684143 91.177024 \r\nL 73.762559 90.79043 \r\nL 74.037018 90.725998 \r\nL 74.141573 90.339403 \r\nL 74.272268 90.274971 \r\nL 74.363754 89.888377 \r\nL 74.44217 89.823944 \r\nL 74.520587 89.501782 \r\nL 74.546726 89.501782 \r\nL 74.638212 89.43735 \r\nL 74.729698 89.115188 \r\nL 74.860393 89.050755 \r\nL 74.886532 88.793026 \r\nL 74.951879 88.793026 \r\nL 75.056434 88.793026 \r\nL 75.16099 88.599729 \r\nL 75.265546 88.535296 \r\nL 75.435448 87.890972 \r\nL 75.513865 87.890972 \r\nL 75.605351 87.246648 \r\nL 75.63149 87.246648 \r\nL 75.736046 86.924486 \r\nL 75.801393 86.924486 \r\nL 75.801393 86.795622 \r\nL 76.141198 86.731189 \r\nL 76.245754 86.409027 \r\nL 76.311101 86.344595 \r\nL 76.389518 86.21573 \r\nL 76.402587 86.21573 \r\nL 76.57249 86.151298 \r\nL 76.663976 85.829136 \r\nL 77.095268 85.764703 \r\nL 77.199824 85.571406 \r\nL 77.304379 85.506974 \r\nL 77.369726 85.249244 \r\nL 77.395865 85.249244 \r\nL 77.448143 85.184812 \r\nL 77.51349 84.991515 \r\nL 77.578838 84.927082 \r\nL 77.578838 84.86265 \r\nL 77.670324 84.86265 \r\nL 77.787949 84.798217 \r\nL 77.892504 84.540488 \r\nL 78.023199 84.476055 \r\nL 78.114685 84.089461 \r\nL 78.297657 84.025029 \r\nL 78.363004 83.702867 \r\nL 78.493699 83.702867 \r\nL 78.585185 83.187408 \r\nL 78.624393 83.187408 \r\nL 78.715879 82.99411 \r\nL 78.859643 82.99411 \r\nL 78.859643 82.865246 \r\nL 78.964199 82.865246 \r\nL 79.068754 82.671948 \r\nL 79.186379 82.671948 \r\nL 79.212518 82.478651 \r\nL 79.356282 82.414219 \r\nL 79.40856 82.285354 \r\nL 79.591532 82.220922 \r\nL 79.683018 82.092057 \r\nL 79.787574 82.027625 \r\nL 79.892129 81.834327 \r\nL 79.970546 81.769895 \r\nL 80.022824 81.64103 \r\nL 80.088171 81.64103 \r\nL 80.088171 81.512165 \r\nL 80.179657 81.512165 \r\nL 80.271143 81.512165 \r\nL 80.336491 81.254436 \r\nL 80.388768 81.254436 \r\nL 80.427977 80.867841 \r\nL 80.467185 80.867841 \r\nL 80.545602 80.803409 \r\nL 80.624018 80.545679 \r\nL 80.650157 80.545679 \r\nL 80.846199 79.901356 \r\nL 81.081449 79.836923 \r\nL 81.120657 79.708058 \r\nL 81.186005 79.708058 \r\nL 81.251352 79.708058 \r\nL 81.355907 79.385896 \r\nL 81.551949 79.321464 \r\nL 81.656505 79.063734 \r\nL 81.669574 79.063734 \r\nL 81.721852 78.806005 \r\nL 82.022449 78.741572 \r\nL 82.061658 78.548275 \r\nL 82.270769 78.483843 \r\nL 82.323046 78.354978 \r\nL 82.453741 78.354978 \r\nL 82.453741 78.290546 \r\nL 82.571366 78.161681 \r\nL 82.649783 78.097248 \r\nL 82.989588 77.452925 \r\nL 83.120283 77.452925 \r\nL 83.159491 77.259627 \r\nL 83.18563 77.259627 \r\nL 83.237908 77.259627 \r\nL 83.342463 77.06633 \r\nL 83.447019 77.001898 \r\nL 83.551574 76.744168 \r\nL 83.734547 76.744168 \r\nL 83.734547 76.550871 \r\nL 84.035144 76.486439 \r\nL 84.165838 76.293141 \r\nL 84.191977 76.293141 \r\nL 84.205047 75.906547 \r\nL 84.296533 75.906547 \r\nL 84.335741 75.906547 \r\nL 84.401088 75.648818 \r\nL 84.544852 75.648818 \r\nL 84.649408 75.391088 \r\nL 84.767033 75.391088 \r\nL 84.767033 75.326656 \r\nL 84.989213 74.682332 \r\nL 85.132977 74.682332 \r\nL 85.224463 74.489034 \r\nL 85.381297 74.424602 \r\nL 85.446644 74.10244 \r\nL 85.53813 74.038008 \r\nL 85.53813 73.973575 \r\nL 85.708033 73.909143 \r\nL 85.760311 73.651413 \r\nL 85.956352 73.586981 \r\nL 86.060908 73.458116 \r\nL 86.413783 73.393684 \r\nL 86.518339 73.007089 \r\nL 86.544478 72.942657 \r\nL 86.622894 72.620495 \r\nL 86.649033 72.620495 \r\nL 86.688241 72.620495 \r\nL 86.792797 72.362765 \r\nL 86.832005 72.298333 \r\nL 86.923491 71.911739 \r\nL 86.94963 71.911739 \r\nL 87.014978 71.525144 \r\nL 87.054186 71.525144 \r\nL 87.106464 71.460712 \r\nL 87.132603 71.39628 \r\nL 87.289436 71.331847 \r\nL 87.393992 71.13855 \r\nL 87.446269 71.074118 \r\nL 87.498547 70.816388 \r\nL 87.537755 70.816388 \r\nL 87.642311 70.751956 \r\nL 87.642311 70.687523 \r\nL 87.720728 70.687523 \r\nL 87.825283 70.623091 \r\nL 87.916769 70.429794 \r\nL 87.969047 70.365361 \r\nL 88.112811 70.107632 \r\nL 88.178158 70.043199 \r\nL 88.282714 69.78547 \r\nL 88.3742 69.52774 \r\nL 88.504894 69.463308 \r\nL 88.596381 69.141146 \r\nL 88.648658 69.076713 \r\nL 88.661728 68.883416 \r\nL 88.687867 68.883416 \r\nL 88.896978 68.818984 \r\nL 88.936186 68.625687 \r\nL 89.210645 68.561254 \r\nL 89.210645 68.496822 \r\nL 89.367478 68.432389 \r\nL 89.458964 67.91693 \r\nL 89.655006 67.852498 \r\nL 89.668075 67.723633 \r\nL 89.968672 67.659201 \r\nL 90.03402 67.465903 \r\nL 90.086297 67.465903 \r\nL 90.190853 67.143741 \r\nL 90.413034 67.079309 \r\nL 90.452242 66.56385 \r\nL 90.50452 66.56385 \r\nL 90.73977 66.499418 \r\nL 90.765909 66.370553 \r\nL 90.831256 66.370553 \r\nL 91.092645 66.30612 \r\nL 91.118784 66.112823 \r\nL 91.184131 66.112823 \r\nL 91.523936 66.048391 \r\nL 91.589284 65.790661 \r\nL 91.641562 65.790661 \r\nL 91.6677 65.597364 \r\nL 91.785325 65.597364 \r\nL 91.837603 65.275202 \r\nL 91.889881 65.275202 \r\nL 91.955228 65.21077 \r\nL 91.994437 64.888608 \r\nL 92.464937 64.824175 \r\nL 92.464937 64.630878 \r\nL 92.687117 64.566446 \r\nL 92.713256 64.437581 \r\nL 92.85702 64.373149 \r\nL 92.85702 64.308716 \r\nL 93.066131 64.308716 \r\nL 93.144548 64.050987 \r\nL 93.32752 63.986554 \r\nL 93.419006 63.728825 \r\nL 93.510492 63.728825 \r\nL 93.510492 63.59996 \r\nL 93.601978 63.59996 \r\nL 93.915645 63.535527 \r\nL 94.020201 63.213365 \r\nL 94.098617 63.148933 \r\nL 94.098617 63.084501 \r\nL 94.203173 63.084501 \r\nL 94.28159 63.020068 \r\nL 94.373076 62.826771 \r\nL 94.386145 62.826771 \r\nL 94.791298 62.762339 \r\nL 94.869715 62.633474 \r\nL 95.366354 62.569042 \r\nL 95.44477 62.375744 \r\nL 95.562395 62.311312 \r\nL 95.666951 62.182447 \r\nL 95.771506 62.118015 \r\nL 95.862993 61.98915 \r\nL 96.059034 61.924718 \r\nL 96.085173 61.795853 \r\nL 96.438048 61.73142 \r\nL 96.438048 61.666988 \r\nL 96.529534 61.666988 \r\nL 96.882409 61.602556 \r\nL 96.882409 61.538123 \r\nL 96.947757 61.538123 \r\nL 97.326771 61.473691 \r\nL 97.405187 61.344826 \r\nL 97.418257 61.344826 \r\nL 97.679646 60.958232 \r\nL 97.849548 60.893799 \r\nL 97.941035 60.63607 \r\nL 98.04559 60.571637 \r\nL 98.124007 60.37834 \r\nL 98.411535 60.313908 \r\nL 98.52916 60.185043 \r\nL 98.725201 60.120611 \r\nL 98.738271 60.056178 \r\nL 99.117285 59.991746 \r\nL 99.156493 59.862881 \r\nL 99.22184 59.862881 \r\nL 99.274118 59.862881 \r\nL 99.274118 59.734016 \r\nL 99.365604 59.734016 \r\nL 99.613924 59.669584 \r\nL 99.613924 59.605151 \r\nL 99.70541 59.605151 \r\nL 99.836104 59.540719 \r\nL 99.966799 59.476287 \r\nL 100.019076 59.411854 \r\nL 100.019076 59.218557 \r\nL 100.084424 59.218557 \r\nL 100.371951 59.154125 \r\nL 100.476507 58.896395 \r\nL 100.489577 58.896395 \r\nL 100.489577 58.76753 \r\nL 100.581063 58.76753 \r\nL 100.920868 58.703098 \r\nL 101.064632 58.380936 \r\nL 101.156118 58.316504 \r\nL 101.169188 58.252071 \r\nL 101.535132 58.187639 \r\nL 101.652757 58.123206 \r\nL 101.992563 58.058774 \r\nL 102.097118 57.994342 \r\nL 102.52841 57.929909 \r\nL 102.606827 57.865477 \r\nL 103.24723 57.801044 \r\nL 103.24723 57.736612 \r\nL 103.338716 57.736612 \r\nL 103.508619 57.67218 \r\nL 103.600105 57.478882 \r\nL 103.796146 57.41445 \r\nL 103.900702 57.221153 \r\nL 104.044466 57.221153 \r\nL 104.044466 57.092288 \r\nL 104.135952 57.092288 \r\nL 104.331994 57.027856 \r\nL 104.41041 56.898991 \r\nL 104.42348 56.898991 \r\nL 104.920119 56.834558 \r\nL 105.076952 56.576829 \r\nL 105.299133 56.512396 \r\nL 105.35141 56.447964 \r\nL 106.004883 56.383532 \r\nL 106.004883 56.319099 \r\nL 106.109438 56.319099 \r\nL 106.396966 56.254667 \r\nL 106.488452 56.06137 \r\nL 107.01123 55.996937 \r\nL 107.128855 55.932505 \r\nL 107.285688 55.868073 \r\nL 107.311827 55.739208 \r\nL 107.351036 55.739208 \r\nL 107.651633 55.674775 \r\nL 107.756189 55.481478 \r\nL 108.42273 55.417046 \r\nL 108.501147 55.288181 \r\nL 108.527286 55.288181 \r\nL 108.736397 55.223749 \r\nL 108.736397 55.159316 \r\nL 108.801744 55.159316 \r\nL 109.076203 55.094884 \r\nL 109.102341 54.901587 \r\nL 109.167689 54.901587 \r\nL 109.233036 54.901587 \r\nL 109.311453 54.772722 \r\nL 109.703536 54.708289 \r\nL 109.703536 54.643857 \r\nL 110.095619 54.579425 \r\nL 110.095619 54.514992 \r\nL 110.200175 54.514992 \r\nL 110.396217 54.45056 \r\nL 110.487703 54.386127 \r\nL 110.814439 54.321695 \r\nL 110.918994 54.19283 \r\nL 111.154244 54.128398 \r\nL 111.245731 54.063966 \r\nL 111.311078 54.063966 \r\nL 111.311078 53.999533 \r\nL 111.324147 53.935101 \r\nL 111.794647 53.870668 \r\nL 111.846925 53.677371 \r\nL 111.990689 53.612939 \r\nL 111.990689 53.548506 \r\nL 112.069106 53.548506 \r\nL 112.134453 53.484074 \r\nL 112.134453 53.419642 \r\nL 112.239009 53.419642 \r\nL 112.500397 53.419642 \r\nL 112.565745 53.226344 \r\nL 112.591884 53.226344 \r\nL 112.644161 53.226344 \r\nL 112.774856 53.033047 \r\nL 113.049314 52.968615 \r\nL 113.049314 52.904182 \r\nL 113.127731 52.904182 \r\nL 113.911898 52.83975 \r\nL 113.911898 52.775318 \r\nL 113.977245 52.775318 \r\nL 114.33012 52.710885 \r\nL 114.33012 52.58202 \r\nL 114.395467 52.58202 \r\nL 114.460814 52.58202 \r\nL 114.460814 52.453156 \r\nL 114.56537 52.453156 \r\nL 114.617648 52.388723 \r\nL 114.630717 52.259858 \r\nL 114.709134 52.259858 \r\nL 114.957453 52.195426 \r\nL 115.048939 51.937697 \r\nL 115.375676 51.873264 \r\nL 115.375676 51.808832 \r\nL 115.441023 51.808832 \r\nL 115.885384 51.744399 \r\nL 115.911523 51.615535 \r\nL 115.97687 51.615535 \r\nL 116.094495 51.551102 \r\nL 116.107565 51.422237 \r\nL 116.172912 51.422237 \r\nL 116.787176 51.357805 \r\nL 116.787176 51.22894 \r\nL 117.15312 51.164508 \r\nL 117.231537 50.971211 \r\nL 117.244606 50.971211 \r\nL 118.185606 50.906778 \r\nL 118.277093 50.713481 \r\nL 118.290162 50.713481 \r\nL 118.616898 50.649049 \r\nL 118.695315 50.520184 \r\nL 118.708384 50.520184 \r\nL 119.205023 50.455751 \r\nL 119.309579 50.391319 \r\nL 119.479482 50.391319 \r\nL 119.479482 50.326887 \r\nL 119.557898 50.133589 \r\nL 119.75394 50.133589 \r\nL 119.75394 50.004725 \r\nL 119.806218 50.004725 \r\nL 120.328996 49.940292 \r\nL 120.342065 49.87586 \r\nL 120.734148 49.811428 \r\nL 120.734148 49.746995 \r\nL 120.825635 49.746995 \r\nL 121.766635 49.682563 \r\nL 121.858121 49.553698 \r\nL 122.367829 49.489266 \r\nL 122.472385 49.424833 \r\nL 122.82526 49.360401 \r\nL 122.969024 49.102671 \r\nL 123.217343 49.038239 \r\nL 123.217343 48.973806 \r\nL 123.256552 48.973806 \r\nL 123.805468 48.909374 \r\nL 123.805468 48.844942 \r\nL 123.910024 48.844942 \r\nL 125.151621 48.780509 \r\nL 125.230038 48.651644 \r\nL 126.223316 48.587212 \r\nL 126.288663 48.52278 \r\nL 126.746094 48.458347 \r\nL 126.798371 48.329482 \r\nL 126.83758 48.329482 \r\nL 127.190455 48.26505 \r\nL 127.334219 47.942888 \r\nL 127.700163 47.878456 \r\nL 127.77858 47.814023 \r\nL 128.405913 47.749591 \r\nL 128.405913 47.685159 \r\nL 128.497399 47.685159 \r\nL 129.42533 47.620726 \r\nL 129.42533 47.556294 \r\nL 129.529886 47.556294 \r\nL 130.13108 47.491861 \r\nL 130.235636 47.362997 \r\nL 130.536233 47.298564 \r\nL 130.536233 47.234132 \r\nL 130.640789 47.234132 \r\nL 130.706136 47.169699 \r\nL 130.706136 47.105267 \r\nL 130.784552 47.105267 \r\nL 131.019803 47.040835 \r\nL 131.019803 46.976402 \r\nL 131.124358 46.976402 \r\nL 132.418233 46.91197 \r\nL 132.588136 46.783105 \r\nL 132.927942 46.718673 \r\nL 132.927942 46.65424 \r\nL 133.032497 46.65424 \r\nL 133.790525 46.589808 \r\nL 133.790525 46.525375 \r\nL 133.816664 46.525375 \r\nL 134.417859 46.460943 \r\nL 134.417859 46.396511 \r\nL 134.470136 46.396511 \r\nL 135.162817 46.332078 \r\nL 135.293511 46.074349 \r\nL 135.80322 46.009916 \r\nL 135.80322 45.945484 \r\nL 135.907775 45.945484 \r\nL 136.548178 45.881051 \r\nL 136.574317 45.752187 \r\nL 136.613525 45.752187 \r\nL 136.927192 45.687754 \r\nL 137.005609 45.55889 \r\nL 137.776706 45.494457 \r\nL 137.868192 45.172295 \r\nL 137.881262 45.172295 \r\nL 138.077303 45.107863 \r\nL 138.16879 44.914566 \r\nL 139.005234 44.850133 \r\nL 139.10979 44.785701 \r\nL 139.972373 44.721268 \r\nL 140.142276 44.592404 \r\nL 140.560498 44.527971 \r\nL 140.625845 44.399106 \r\nL 141.148623 44.334674 \r\nL 141.148623 44.270242 \r\nL 141.22704 44.270242 \r\nL 141.436151 44.205809 \r\nL 141.436151 44.141377 \r\nL 141.527637 44.141377 \r\nL 141.906651 44.076944 \r\nL 142.037346 43.94808 \r\nL 142.494776 43.883647 \r\nL 142.494776 43.819215 \r\nL 142.547054 43.819215 \r\nL 143.161318 43.754782 \r\nL 143.161318 43.69035 \r\nL 143.265873 43.69035 \r\nL 145.343915 43.625918 \r\nL 145.343915 43.561485 \r\nL 145.448471 43.561485 \r\nL 145.788277 43.497053 \r\nL 145.788277 43.432621 \r\nL 145.866693 43.432621 \r\nL 146.663929 43.368188 \r\nL 146.663929 43.303756 \r\nL 146.703138 43.303756 \r\nL 147.056013 43.239323 \r\nL 147.056013 43.174891 \r\nL 147.147499 43.174891 \r\nL 148.193055 43.110459 \r\nL 148.271471 42.981594 \r\nL 148.29761 42.981594 \r\nL 148.820388 42.917161 \r\nL 148.898805 42.788297 \r\nL 148.911874 42.788297 \r\nL 149.447721 42.788297 \r\nL 149.447721 42.659432 \r\nL 149.539208 42.659432 \r\nL 151.316652 42.594999 \r\nL 151.36893 42.466135 \r\nL 151.421208 42.466135 \r\nL 154.231139 42.401702 \r\nL 154.231139 42.33727 \r\nL 154.335694 42.33727 \r\nL 154.479458 42.272837 \r\nL 154.479458 42.208405 \r\nL 154.584014 42.208405 \r\nL 155.551153 42.143973 \r\nL 155.642639 42.07954 \r\nL 158.112764 42.015108 \r\nL 158.112764 41.950675 \r\nL 158.191181 41.950675 \r\nL 159.027625 41.886243 \r\nL 159.119112 41.692946 \r\nL 160.007834 41.628513 \r\nL 160.007834 41.564081 \r\nL 160.09932 41.564081 \r\nL 162.856973 41.499649 \r\nL 162.987668 41.370784 \r\nL 164.804321 41.306352 \r\nL 164.804321 41.241919 \r\nL 164.908876 41.241919 \r\nL 164.961154 41.177487 \r\nL 165.862946 41.113054 \r\nL 165.862946 41.048622 \r\nL 165.967501 41.048622 \r\nL 166.594835 40.98419 \r\nL 166.777807 40.919757 \r\nL 168.398418 40.855325 \r\nL 168.398418 40.790892 \r\nL 168.476835 40.790892 \r\nL 169.182585 40.72646 \r\nL 169.287141 40.597595 \r\nL 171.704988 40.533163 \r\nL 171.757266 40.46873 \r\nL 172.645988 40.404298 \r\nL 172.645988 40.339866 \r\nL 172.711335 40.339866 \r\nL 173.260252 40.275433 \r\nL 173.260252 40.211001 \r\nL 173.299461 40.211001 \r\nL 173.652336 40.146568 \r\nL 173.652336 40.082136 \r\nL 173.743822 40.082136 \r\nL 176.514544 40.017704 \r\nL 176.632169 39.888839 \r\nL 178.671003 39.888839 \r\nL 178.671003 39.759974 \r\nL 178.762489 39.759974 \r\nL 180.984295 39.695542 \r\nL 181.062712 39.566677 \r\nL 181.08885 39.566677 \r\nL 182.134406 39.502244 \r\nL 182.134406 39.437812 \r\nL 182.225892 39.437812 \r\nL 182.670253 39.37338 \r\nL 182.774809 39.244515 \r\nL 184.682948 39.180083 \r\nL 184.682948 39.11565 \r\nL 184.709087 39.11565 \r\nL 185.192656 39.051218 \r\nL 185.192656 38.922353 \r\nL 185.297212 38.922353 \r\nL 188.081004 38.857921 \r\nL 188.081004 38.793488 \r\nL 188.17249 38.793488 \r\nL 190.028352 38.729056 \r\nL 190.119838 38.664623 \r\nL 192.65531 38.600191 \r\nL 192.65531 38.535759 \r\nL 192.746796 38.535759 \r\nL 194.994741 38.471326 \r\nL 194.994741 38.406894 \r\nL 195.060088 38.406894 \r\nL 195.517519 38.342461 \r\nL 195.517519 38.278029 \r\nL 195.530588 38.278029 \r\nL 198.31438 38.213597 \r\nL 198.31438 38.149164 \r\nL 198.418936 38.149164 \r\nL 201.986895 38.084732 \r\nL 201.986895 38.020299 \r\nL 202.09145 38.020299 \r\nL 203.607506 37.955867 \r\nL 203.607506 37.891435 \r\nL 203.685923 37.891435 \r\nL 208.090326 37.827002 \r\nL 208.090326 37.76257 \r\nL 208.194882 37.76257 \r\nL 210.246785 37.698137 \r\nL 210.246785 37.633705 \r\nL 210.35134 37.633705 \r\nL 210.743424 37.569273 \r\nL 210.769562 37.440408 \r\nL 210.83491 37.440408 \r\nL 212.024229 37.375975 \r\nL 212.141854 37.311543 \r\nL 216.520119 37.247111 \r\nL 216.520119 37.182678 \r\nL 216.624674 37.182678 \r\nL 223.656036 37.118246 \r\nL 223.656036 37.053814 \r\nL 223.734453 37.053814 \r\nL 224.793078 36.989381 \r\nL 224.793078 36.924949 \r\nL 224.858425 36.924949 \r\nL 225.877842 36.924949 \r\nL 225.877842 36.796084 \r\nL 225.982398 36.796084 \r\nL 227.367759 36.731652 \r\nL 227.367759 36.667219 \r\nL 227.459245 36.667219 \r\nL 230.543634 36.602787 \r\nL 230.543634 36.538354 \r\nL 230.64819 36.538354 \r\nL 230.778884 36.473922 \r\nL 230.778884 36.40949 \r\nL 230.857301 36.40949 \r\nL 236.098149 36.345057 \r\nL 236.098149 36.280625 \r\nL 236.137357 36.280625 \r\nL 236.869246 36.216192 \r\nL 236.869246 36.15176 \r\nL 236.973802 36.15176 \r\nL 238.921149 36.087328 \r\nL 238.921149 35.958463 \r\nL 239.012635 35.958463 \r\nL 243.926747 35.89403 \r\nL 243.926747 35.765166 \r\nL 244.005164 35.765166 \r\nL 248.736303 35.700733 \r\nL 248.736303 35.636301 \r\nL 248.788581 35.636301 \r\nL 250.017109 35.571868 \r\nL 250.017109 35.507436 \r\nL 250.108595 35.507436 \r\nL 252.265054 35.443004 \r\nL 252.265054 35.378571 \r\nL 252.317332 35.378571 \r\nL 253.480512 35.314139 \r\nL 253.480512 35.249706 \r\nL 253.585068 35.249706 \r\nL 257.911054 35.185274 \r\nL 257.911054 35.120842 \r\nL 258.01561 35.120842 \r\nL 261.230694 35.056409 \r\nL 261.230694 34.991977 \r\nL 261.30911 34.991977 \r\nL 265.465194 34.927545 \r\nL 265.465194 34.863112 \r\nL 265.56975 34.863112 \r\nL 265.857278 34.79868 \r\nL 265.883417 34.669815 \r\nL 265.948764 34.669815 \r\nL 268.327403 34.605383 \r\nL 268.327403 34.54095 \r\nL 268.40582 34.54095 \r\nL 268.87632 34.476518 \r\nL 268.87632 34.412085 \r\nL 268.980875 34.412085 \r\nL 276.482737 34.347653 \r\nL 276.482737 34.283221 \r\nL 276.587293 34.283221 \r\nL 280.651891 34.218788 \r\nL 280.651891 34.154356 \r\nL 280.704168 34.154356 \r\nL 288.872572 34.089923 \r\nL 288.872572 34.025491 \r\nL 288.937919 34.025491 \r\nL 294.544712 33.961059 \r\nL 294.544712 33.896626 \r\nL 294.636198 33.896626 \r\nL 301.406171 33.832194 \r\nL 301.549935 33.767761 \r\nL 305.614533 33.703329 \r\nL 305.614533 33.638897 \r\nL 305.66681 33.638897 \r\nL 311.469644 33.574464 \r\nL 311.469644 33.510032 \r\nL 311.548061 33.510032 \r\nL 313.116395 33.445599 \r\nL 313.116395 33.381167 \r\nL 313.181742 33.381167 \r\nL 321.611535 33.316735 \r\nL 321.611535 33.252302 \r\nL 321.689951 33.252302 \r\nL 329.087258 33.18787 \r\nL 329.087258 33.123437 \r\nL 329.191813 33.123437 \r\nL 337.347148 33.059005 \r\nL 337.347148 32.994573 \r\nL 337.386356 32.994573 \r\nL 345.999121 32.93014 \r\nL 345.999121 32.865708 \r\nL 346.077538 32.865708 \r\nL 362.283651 32.801276 \r\nL 362.283651 32.736843 \r\nL 362.362067 32.736843 \r\nL 378.58125 32.672411 \r\nL 378.58125 32.672411 \r\n\" style=\"fill:none;stroke:#ff8c00;stroke-linecap:square;stroke-width:2;\"/>\r\n   </g>\r\n   <g id=\"line2d_14\">\r\n    <path clip-path=\"url(#pa2fe34d732)\" d=\"M 43.78125 239.758125 \r\nL 378.58125 32.672411 \r\n\" style=\"fill:none;stroke:#000080;stroke-linecap:square;stroke-width:2;\"/>\r\n   </g>\r\n   <g id=\"patch_3\">\r\n    <path d=\"M 43.78125 239.758125 \r\nL 43.78125 22.318125 \r\n\" style=\"fill:none;stroke:#000000;stroke-linecap:square;stroke-linejoin:miter;stroke-width:0.8;\"/>\r\n   </g>\r\n   <g id=\"patch_4\">\r\n    <path d=\"M 378.58125 239.758125 \r\nL 378.58125 22.318125 \r\n\" style=\"fill:none;stroke:#000000;stroke-linecap:square;stroke-linejoin:miter;stroke-width:0.8;\"/>\r\n   </g>\r\n   <g id=\"patch_5\">\r\n    <path d=\"M 43.78125 239.758125 \r\nL 378.58125 239.758125 \r\n\" style=\"fill:none;stroke:#000000;stroke-linecap:square;stroke-linejoin:miter;stroke-width:0.8;\"/>\r\n   </g>\r\n   <g id=\"patch_6\">\r\n    <path d=\"M 43.78125 22.318125 \r\nL 378.58125 22.318125 \r\n\" style=\"fill:none;stroke:#000000;stroke-linecap:square;stroke-linejoin:miter;stroke-width:0.8;\"/>\r\n   </g>\r\n   <g id=\"text_15\">\r\n    <!-- ROC Curve -->\r\n    <g transform=\"translate(178.490625 16.318125)scale(0.12 -0.12)\">\r\n     <defs>\r\n      <path d=\"M 39.40625 66.21875 \r\nQ 28.65625 66.21875 22.328125 58.203125 \r\nQ 16.015625 50.203125 16.015625 36.375 \r\nQ 16.015625 22.609375 22.328125 14.59375 \r\nQ 28.65625 6.59375 39.40625 6.59375 \r\nQ 50.140625 6.59375 56.421875 14.59375 \r\nQ 62.703125 22.609375 62.703125 36.375 \r\nQ 62.703125 50.203125 56.421875 58.203125 \r\nQ 50.140625 66.21875 39.40625 66.21875 \r\nz\r\nM 39.40625 74.21875 \r\nQ 54.734375 74.21875 63.90625 63.9375 \r\nQ 73.09375 53.65625 73.09375 36.375 \r\nQ 73.09375 19.140625 63.90625 8.859375 \r\nQ 54.734375 -1.421875 39.40625 -1.421875 \r\nQ 24.03125 -1.421875 14.8125 8.828125 \r\nQ 5.609375 19.09375 5.609375 36.375 \r\nQ 5.609375 53.65625 14.8125 63.9375 \r\nQ 24.03125 74.21875 39.40625 74.21875 \r\nz\r\n\" id=\"DejaVuSans-79\"/>\r\n      <path d=\"M 64.40625 67.28125 \r\nL 64.40625 56.890625 \r\nQ 59.421875 61.53125 53.78125 63.8125 \r\nQ 48.140625 66.109375 41.796875 66.109375 \r\nQ 29.296875 66.109375 22.65625 58.46875 \r\nQ 16.015625 50.828125 16.015625 36.375 \r\nQ 16.015625 21.96875 22.65625 14.328125 \r\nQ 29.296875 6.6875 41.796875 6.6875 \r\nQ 48.140625 6.6875 53.78125 8.984375 \r\nQ 59.421875 11.28125 64.40625 15.921875 \r\nL 64.40625 5.609375 \r\nQ 59.234375 2.09375 53.4375 0.328125 \r\nQ 47.65625 -1.421875 41.21875 -1.421875 \r\nQ 24.65625 -1.421875 15.125 8.703125 \r\nQ 5.609375 18.84375 5.609375 36.375 \r\nQ 5.609375 53.953125 15.125 64.078125 \r\nQ 24.65625 74.21875 41.21875 74.21875 \r\nQ 47.75 74.21875 53.53125 72.484375 \r\nQ 59.328125 70.75 64.40625 67.28125 \r\nz\r\n\" id=\"DejaVuSans-67\"/>\r\n     </defs>\r\n     <use xlink:href=\"#DejaVuSans-82\"/>\r\n     <use x=\"69.482422\" xlink:href=\"#DejaVuSans-79\"/>\r\n     <use x=\"148.193359\" xlink:href=\"#DejaVuSans-67\"/>\r\n     <use x=\"218.017578\" xlink:href=\"#DejaVuSans-32\"/>\r\n     <use x=\"249.804688\" xlink:href=\"#DejaVuSans-67\"/>\r\n     <use x=\"319.628906\" xlink:href=\"#DejaVuSans-117\"/>\r\n     <use x=\"383.007812\" xlink:href=\"#DejaVuSans-114\"/>\r\n     <use x=\"424.121094\" xlink:href=\"#DejaVuSans-118\"/>\r\n     <use x=\"483.300781\" xlink:href=\"#DejaVuSans-101\"/>\r\n    </g>\r\n   </g>\r\n   <g id=\"legend_1\">\r\n    <g id=\"patch_7\">\r\n     <path d=\"M 216.303125 234.758125 \r\nL 371.58125 234.758125 \r\nQ 373.58125 234.758125 373.58125 232.758125 \r\nL 373.58125 219.08 \r\nQ 373.58125 217.08 371.58125 217.08 \r\nL 216.303125 217.08 \r\nQ 214.303125 217.08 214.303125 219.08 \r\nL 214.303125 232.758125 \r\nQ 214.303125 234.758125 216.303125 234.758125 \r\nz\r\n\" style=\"fill:#ffffff;opacity:0.8;stroke:#cccccc;stroke-linejoin:miter;\"/>\r\n    </g>\r\n    <g id=\"line2d_15\">\r\n     <path d=\"M 218.303125 225.178437 \r\nL 238.303125 225.178437 \r\n\" style=\"fill:none;stroke:#ff8c00;stroke-linecap:square;stroke-width:2;\"/>\r\n    </g>\r\n    <g id=\"line2d_16\"/>\r\n    <g id=\"text_16\">\r\n     <!-- ROC curve (area = 0.92) -->\r\n     <g transform=\"translate(246.303125 228.678437)scale(0.1 -0.1)\">\r\n      <defs>\r\n       <path d=\"M 10.59375 45.40625 \r\nL 73.1875 45.40625 \r\nL 73.1875 37.203125 \r\nL 10.59375 37.203125 \r\nz\r\nM 10.59375 25.484375 \r\nL 73.1875 25.484375 \r\nL 73.1875 17.1875 \r\nL 10.59375 17.1875 \r\nz\r\n\" id=\"DejaVuSans-61\"/>\r\n       <path d=\"M 10.984375 1.515625 \r\nL 10.984375 10.5 \r\nQ 14.703125 8.734375 18.5 7.8125 \r\nQ 22.3125 6.890625 25.984375 6.890625 \r\nQ 35.75 6.890625 40.890625 13.453125 \r\nQ 46.046875 20.015625 46.78125 33.40625 \r\nQ 43.953125 29.203125 39.59375 26.953125 \r\nQ 35.25 24.703125 29.984375 24.703125 \r\nQ 19.046875 24.703125 12.671875 31.3125 \r\nQ 6.296875 37.9375 6.296875 49.421875 \r\nQ 6.296875 60.640625 12.9375 67.421875 \r\nQ 19.578125 74.21875 30.609375 74.21875 \r\nQ 43.265625 74.21875 49.921875 64.515625 \r\nQ 56.59375 54.828125 56.59375 36.375 \r\nQ 56.59375 19.140625 48.40625 8.859375 \r\nQ 40.234375 -1.421875 26.421875 -1.421875 \r\nQ 22.703125 -1.421875 18.890625 -0.6875 \r\nQ 15.09375 0.046875 10.984375 1.515625 \r\nz\r\nM 30.609375 32.421875 \r\nQ 37.25 32.421875 41.125 36.953125 \r\nQ 45.015625 41.5 45.015625 49.421875 \r\nQ 45.015625 57.28125 41.125 61.84375 \r\nQ 37.25 66.40625 30.609375 66.40625 \r\nQ 23.96875 66.40625 20.09375 61.84375 \r\nQ 16.21875 57.28125 16.21875 49.421875 \r\nQ 16.21875 41.5 20.09375 36.953125 \r\nQ 23.96875 32.421875 30.609375 32.421875 \r\nz\r\n\" id=\"DejaVuSans-57\"/>\r\n      </defs>\r\n      <use xlink:href=\"#DejaVuSans-82\"/>\r\n      <use x=\"69.482422\" xlink:href=\"#DejaVuSans-79\"/>\r\n      <use x=\"148.193359\" xlink:href=\"#DejaVuSans-67\"/>\r\n      <use x=\"218.017578\" xlink:href=\"#DejaVuSans-32\"/>\r\n      <use x=\"249.804688\" xlink:href=\"#DejaVuSans-99\"/>\r\n      <use x=\"304.785156\" xlink:href=\"#DejaVuSans-117\"/>\r\n      <use x=\"368.164062\" xlink:href=\"#DejaVuSans-114\"/>\r\n      <use x=\"409.277344\" xlink:href=\"#DejaVuSans-118\"/>\r\n      <use x=\"468.457031\" xlink:href=\"#DejaVuSans-101\"/>\r\n      <use x=\"529.980469\" xlink:href=\"#DejaVuSans-32\"/>\r\n      <use x=\"561.767578\" xlink:href=\"#DejaVuSans-40\"/>\r\n      <use x=\"600.78125\" xlink:href=\"#DejaVuSans-97\"/>\r\n      <use x=\"662.060547\" xlink:href=\"#DejaVuSans-114\"/>\r\n      <use x=\"700.923828\" xlink:href=\"#DejaVuSans-101\"/>\r\n      <use x=\"762.447266\" xlink:href=\"#DejaVuSans-97\"/>\r\n      <use x=\"823.726562\" xlink:href=\"#DejaVuSans-32\"/>\r\n      <use x=\"855.513672\" xlink:href=\"#DejaVuSans-61\"/>\r\n      <use x=\"939.302734\" xlink:href=\"#DejaVuSans-32\"/>\r\n      <use x=\"971.089844\" xlink:href=\"#DejaVuSans-48\"/>\r\n      <use x=\"1034.712891\" xlink:href=\"#DejaVuSans-46\"/>\r\n      <use x=\"1066.5\" xlink:href=\"#DejaVuSans-57\"/>\r\n      <use x=\"1130.123047\" xlink:href=\"#DejaVuSans-50\"/>\r\n      <use x=\"1193.746094\" xlink:href=\"#DejaVuSans-41\"/>\r\n     </g>\r\n    </g>\r\n   </g>\r\n  </g>\r\n </g>\r\n <defs>\r\n  <clipPath id=\"pa2fe34d732\">\r\n   <rect height=\"217.44\" width=\"334.8\" x=\"43.78125\" y=\"22.318125\"/>\r\n  </clipPath>\r\n </defs>\r\n</svg>\r\n",
      "image/png": "[encoded data removed]"
     },
     "metadata": {
      "needs_background": "light"
     }
    }
   ],
   "source": [
    "fpr, tpr, thresholds = metrics.roc_curve(both_df['deposit'], both_df['probabilities'], pos_label=1)\n",
    "roc_auc = auc(fpr, tpr)\n",
    "\n",
    "%matplotlib inline\n",
    "plt.figure()\n",
    "lw = 2\n",
    "plt.plot(fpr, tpr, color='darkorange', lw=lw, label='ROC curve (area = %0.2f)' % roc_auc)\n",
    "plt.plot([0, 1], [0, 1], color='navy', lw=lw)\n",
    "plt.xlim([0.0, 1.0])\n",
    "plt.ylim([0.0, 1.05])\n",
    "plt.xlabel('False Positive Rate (1-Specificity)')\n",
    "plt.ylabel('True Positive Rate')\n",
    "plt.title('ROC Curve')\n",
    "plt.legend(loc=\"lower right\")\n",
    "plt.show()"
   ]
  },
  {
   "cell_type": "markdown",
   "id": "polar-syndrome",
   "metadata": {},
   "source": [
    "We now need to predict the category from the probability to default value. We will use grid search to determine the best probability threshold cut-off."
   ]
  },
  {
   "cell_type": "code",
   "execution_count": 96,
   "id": "still-interference",
   "metadata": {},
   "outputs": [
    {
     "output_type": "stream",
     "name": "stdout",
     "text": [
      "Threshold 0.0 Train Accuracy: 0.1115\nThreshold 0.1 Train Accuracy: 0.8393\nThreshold 0.2 Train Accuracy: 0.894\nThreshold 0.3 Train Accuracy: 0.9066\nThreshold 0.4 Train Accuracy: 0.9096\nThreshold 0.5 Train Accuracy: 0.9076\nThreshold 0.6 Train Accuracy: 0.9057\nThreshold 0.7 Train Accuracy: 0.9019\nThreshold 0.8 Train Accuracy: 0.898\nThreshold 0.9 Train Accuracy: 0.8949\n"
     ]
    }
   ],
   "source": [
    "for i in list(np.arange(0, 1, 0.1)):\n",
    "    both_df[\"y_predictor\"] = 0\n",
    "    both_df.loc[both_df[\"probabilities\"] > i, 'y_predictor'] = 1\n",
    "    print (\"Threshold\", round(i, 2), \"Train Accuracy:\", round(accuracy_score(both_df['deposit'], both_df['y_predictor']), 4))"
   ]
  },
  {
   "cell_type": "markdown",
   "id": "handled-marketing",
   "metadata": {},
   "source": [
    "We can see that at a threshold of `0.4` we have the highest training accuracy. We will set the threshold at `0.4` for classifying the data."
   ]
  },
  {
   "cell_type": "code",
   "execution_count": 97,
   "id": "devoted-harvest",
   "metadata": {},
   "outputs": [
    {
     "output_type": "stream",
     "name": "stdout",
     "text": [
      "Test Confusion Matrix\n Predicted      0    1\nActual               \n0          10605  326\n1            902  524\nTest Accuracy: 0.9006\n"
     ]
    }
   ],
   "source": [
    "y_prediction_test_df = pd.DataFrame(logistic_model.predict(sm.add_constant(x_test.drop(columns_to_drop, axis=1))))\n",
    "y_prediction_test_df.columns = [\"probabilities\"]\n",
    "both_test_df = pd.concat([y_test, y_prediction_test_df], axis=1)\n",
    "both_test_df[\"y_predictor\"] = 0\n",
    "both_test_df.loc[both_test_df[\"probabilities\"] > 0.5, 'y_predictor'] = 1\n",
    "print (\"Test Confusion Matrix\\n\", pd.crosstab(both_test_df['deposit'], both_test_df['y_predictor'], rownames=[\"Actual\"], colnames=[\"Predicted\"]))\n",
    "print (\"Test Accuracy:\", round(accuracy_score(both_test_df['deposit'], both_test_df['y_predictor']), 4))"
   ]
  },
  {
   "cell_type": "markdown",
   "id": "immediate-indication",
   "metadata": {},
   "source": [
    "## Random Forest"
   ]
  },
  {
   "cell_type": "markdown",
   "id": "bottom-supervision",
   "metadata": {},
   "source": [
    "We will reuse the dummies we constructed for the logistic regression as well as constructing new dummies for the independent variables that we excluded from our previous model."
   ]
  },
  {
   "cell_type": "code",
   "execution_count": 98,
   "id": "burning-detector",
   "metadata": {},
   "outputs": [
    {
     "output_type": "execute_result",
     "data": {
      "text/plain": [
       "   age  duration  campaign  pdays  previous  emp_var_rate  cons_price_idx  \\\n",
       "0   44       210         1      0         0           1.4          93.444   \n",
       "1   53       138         1      0         0          -0.1          93.200   \n",
       "2   28       339         3      6         2          -1.7          94.055   \n",
       "3   39       185         2      0         0          -1.8          93.075   \n",
       "4   55       137         1      3         1          -2.9          92.201   \n",
       "\n",
       "   cons_conf_idx  euribor3m  nr_employed  deposit  job_admin.  \\\n",
       "0          -36.1      4.963       5228.1        0           0   \n",
       "1          -42.0      4.021       5195.8        0           0   \n",
       "2          -39.8      0.729       4991.6        1           0   \n",
       "3          -47.1      1.405       5099.1        0           0   \n",
       "4          -31.4      0.869       5076.2        1           0   \n",
       "\n",
       "   job_blue-collar  job_entrepreneur  job_housemaid  job_management  \\\n",
       "0                1                 0              0               0   \n",
       "1                0                 0              0               0   \n",
       "2                0                 0              0               1   \n",
       "3                0                 0              0               0   \n",
       "4                0                 0              0               0   \n",
       "\n",
       "   job_retired  job_self-employed  job_services  job_student  job_technician  \\\n",
       "0            0                  0             0            0               0   \n",
       "1            0                  0             0            0               1   \n",
       "2            0                  0             0            0               0   \n",
       "3            0                  0             1            0               0   \n",
       "4            1                  0             0            0               0   \n",
       "\n",
       "   job_unemployed  job_unknown  marital_divorced  marital_married  \\\n",
       "0               0            0                 0                1   \n",
       "1               0            0                 0                1   \n",
       "2               0            0                 0                0   \n",
       "3               0            0                 0                1   \n",
       "4               0            0                 0                1   \n",
       "\n",
       "   marital_single  marital_unknown  education_basic.4y  education_basic.6y  \\\n",
       "0               0                0                   1                   0   \n",
       "1               0                0                   0                   0   \n",
       "2               1                0                   0                   0   \n",
       "3               0                0                   0                   0   \n",
       "4               0                0                   1                   0   \n",
       "\n",
       "   education_basic.9y  education_high.school  education_illiterate  \\\n",
       "0                   0                      0                     0   \n",
       "1                   0                      0                     0   \n",
       "2                   0                      0                     0   \n",
       "3                   0                      1                     0   \n",
       "4                   0                      0                     0   \n",
       "\n",
       "   education_professional.course  education_university.degree  \\\n",
       "0                              0                            0   \n",
       "1                              0                            0   \n",
       "2                              0                            1   \n",
       "3                              0                            0   \n",
       "4                              0                            0   \n",
       "\n",
       "   education_unknown  default_no  default_unknown  default_yes  housing_no  \\\n",
       "0                  0           0                1            0           0   \n",
       "1                  1           1                0            0           1   \n",
       "2                  0           1                0            0           0   \n",
       "3                  0           1                0            0           1   \n",
       "4                  0           1                0            0           0   \n",
       "\n",
       "   housing_unknown  housing_yes  loan_no  loan_unknown  loan_yes  \\\n",
       "0                0            1        1             0         0   \n",
       "1                0            0        1             0         0   \n",
       "2                0            1        1             0         0   \n",
       "3                0            0        1             0         0   \n",
       "4                0            1        1             0         0   \n",
       "\n",
       "   contact_cellular  contact_telephone  month_apr  month_aug  month_dec  \\\n",
       "0                 1                  0          0          1          0   \n",
       "1                 1                  0          0          0          0   \n",
       "2                 1                  0          0          0          0   \n",
       "3                 1                  0          1          0          0   \n",
       "4                 1                  0          0          1          0   \n",
       "\n",
       "   month_jul  month_jun  month_mar  month_may  month_nov  month_oct  \\\n",
       "0          0          0          0          0          0          0   \n",
       "1          0          0          0          0          1          0   \n",
       "2          0          1          0          0          0          0   \n",
       "3          0          0          0          0          0          0   \n",
       "4          0          0          0          0          0          0   \n",
       "\n",
       "   month_sep  day_of_week_fri  day_of_week_mon  day_of_week_thu  \\\n",
       "0          0                0                0                1   \n",
       "1          0                1                0                0   \n",
       "2          0                0                0                1   \n",
       "3          0                1                0                0   \n",
       "4          0                1                0                0   \n",
       "\n",
       "   day_of_week_tue  day_of_week_wed  poutcome_failure  poutcome_nonexistent  \\\n",
       "0                0                0                 0                     1   \n",
       "1                0                0                 0                     1   \n",
       "2                0                0                 0                     0   \n",
       "3                0                0                 0                     1   \n",
       "4                0                0                 0                     0   \n",
       "\n",
       "   poutcome_success  \n",
       "0                 0  \n",
       "1                 0  \n",
       "2                 1  \n",
       "3                 0  \n",
       "4                 1  "
      ],
      "text/html": "<div>\n<style scoped>\n    .dataframe tbody tr th:only-of-type {\n        vertical-align: middle;\n    }\n\n    .dataframe tbody tr th {\n        vertical-align: top;\n    }\n\n    .dataframe thead th {\n        text-align: right;\n    }\n</style>\n<table border=\"1\" class=\"dataframe\">\n  <thead>\n    <tr style=\"text-align: right;\">\n      <th></th>\n      <th>age</th>\n      <th>duration</th>\n      <th>campaign</th>\n      <th>pdays</th>\n      <th>previous</th>\n      <th>emp_var_rate</th>\n      <th>cons_price_idx</th>\n      <th>cons_conf_idx</th>\n      <th>euribor3m</th>\n      <th>nr_employed</th>\n      <th>deposit</th>\n      <th>job_admin.</th>\n      <th>job_blue-collar</th>\n      <th>job_entrepreneur</th>\n      <th>job_housemaid</th>\n      <th>job_management</th>\n      <th>job_retired</th>\n      <th>job_self-employed</th>\n      <th>job_services</th>\n      <th>job_student</th>\n      <th>job_technician</th>\n      <th>job_unemployed</th>\n      <th>job_unknown</th>\n      <th>marital_divorced</th>\n      <th>marital_married</th>\n      <th>marital_single</th>\n      <th>marital_unknown</th>\n      <th>education_basic.4y</th>\n      <th>education_basic.6y</th>\n      <th>education_basic.9y</th>\n      <th>education_high.school</th>\n      <th>education_illiterate</th>\n      <th>education_professional.course</th>\n      <th>education_university.degree</th>\n      <th>education_unknown</th>\n      <th>default_no</th>\n      <th>default_unknown</th>\n      <th>default_yes</th>\n      <th>housing_no</th>\n      <th>housing_unknown</th>\n      <th>housing_yes</th>\n      <th>loan_no</th>\n      <th>loan_unknown</th>\n      <th>loan_yes</th>\n      <th>contact_cellular</th>\n      <th>contact_telephone</th>\n      <th>month_apr</th>\n      <th>month_aug</th>\n      <th>month_dec</th>\n      <th>month_jul</th>\n      <th>month_jun</th>\n      <th>month_mar</th>\n      <th>month_may</th>\n      <th>month_nov</th>\n      <th>month_oct</th>\n      <th>month_sep</th>\n      <th>day_of_week_fri</th>\n      <th>day_of_week_mon</th>\n      <th>day_of_week_thu</th>\n      <th>day_of_week_tue</th>\n      <th>day_of_week_wed</th>\n      <th>poutcome_failure</th>\n      <th>poutcome_nonexistent</th>\n      <th>poutcome_success</th>\n    </tr>\n  </thead>\n  <tbody>\n    <tr>\n      <th>0</th>\n      <td>44</td>\n      <td>210</td>\n      <td>1</td>\n      <td>0</td>\n      <td>0</td>\n      <td>1.4</td>\n      <td>93.444</td>\n      <td>-36.1</td>\n      <td>4.963</td>\n      <td>5228.1</td>\n      <td>0</td>\n      <td>0</td>\n      <td>1</td>\n      <td>0</td>\n      <td>0</td>\n      <td>0</td>\n      <td>0</td>\n      <td>0</td>\n      <td>0</td>\n      <td>0</td>\n      <td>0</td>\n      <td>0</td>\n      <td>0</td>\n      <td>0</td>\n      <td>1</td>\n      <td>0</td>\n      <td>0</td>\n      <td>1</td>\n      <td>0</td>\n      <td>0</td>\n      <td>0</td>\n      <td>0</td>\n      <td>0</td>\n      <td>0</td>\n      <td>0</td>\n      <td>0</td>\n      <td>1</td>\n      <td>0</td>\n      <td>0</td>\n      <td>0</td>\n      <td>1</td>\n      <td>1</td>\n      <td>0</td>\n      <td>0</td>\n      <td>1</td>\n      <td>0</td>\n      <td>0</td>\n      <td>1</td>\n      <td>0</td>\n      <td>0</td>\n      <td>0</td>\n      <td>0</td>\n      <td>0</td>\n      <td>0</td>\n      <td>0</td>\n      <td>0</td>\n      <td>0</td>\n      <td>0</td>\n      <td>1</td>\n      <td>0</td>\n      <td>0</td>\n      <td>0</td>\n      <td>1</td>\n      <td>0</td>\n    </tr>\n    <tr>\n      <th>1</th>\n      <td>53</td>\n      <td>138</td>\n      <td>1</td>\n      <td>0</td>\n      <td>0</td>\n      <td>-0.1</td>\n      <td>93.200</td>\n      <td>-42.0</td>\n      <td>4.021</td>\n      <td>5195.8</td>\n      <td>0</td>\n      <td>0</td>\n      <td>0</td>\n      <td>0</td>\n      <td>0</td>\n      <td>0</td>\n      <td>0</td>\n      <td>0</td>\n      <td>0</td>\n      <td>0</td>\n      <td>1</td>\n      <td>0</td>\n      <td>0</td>\n      <td>0</td>\n      <td>1</td>\n      <td>0</td>\n      <td>0</td>\n      <td>0</td>\n      <td>0</td>\n      <td>0</td>\n      <td>0</td>\n      <td>0</td>\n      <td>0</td>\n      <td>0</td>\n      <td>1</td>\n      <td>1</td>\n      <td>0</td>\n      <td>0</td>\n      <td>1</td>\n      <td>0</td>\n      <td>0</td>\n      <td>1</td>\n      <td>0</td>\n      <td>0</td>\n      <td>1</td>\n      <td>0</td>\n      <td>0</td>\n      <td>0</td>\n      <td>0</td>\n      <td>0</td>\n      <td>0</td>\n      <td>0</td>\n      <td>0</td>\n      <td>1</td>\n      <td>0</td>\n      <td>0</td>\n      <td>1</td>\n      <td>0</td>\n      <td>0</td>\n      <td>0</td>\n      <td>0</td>\n      <td>0</td>\n      <td>1</td>\n      <td>0</td>\n    </tr>\n    <tr>\n      <th>2</th>\n      <td>28</td>\n      <td>339</td>\n      <td>3</td>\n      <td>6</td>\n      <td>2</td>\n      <td>-1.7</td>\n      <td>94.055</td>\n      <td>-39.8</td>\n      <td>0.729</td>\n      <td>4991.6</td>\n      <td>1</td>\n      <td>0</td>\n      <td>0</td>\n      <td>0</td>\n      <td>0</td>\n      <td>1</td>\n      <td>0</td>\n      <td>0</td>\n      <td>0</td>\n      <td>0</td>\n      <td>0</td>\n      <td>0</td>\n      <td>0</td>\n      <td>0</td>\n      <td>0</td>\n      <td>1</td>\n      <td>0</td>\n      <td>0</td>\n      <td>0</td>\n      <td>0</td>\n      <td>0</td>\n      <td>0</td>\n      <td>0</td>\n      <td>1</td>\n      <td>0</td>\n      <td>1</td>\n      <td>0</td>\n      <td>0</td>\n      <td>0</td>\n      <td>0</td>\n      <td>1</td>\n      <td>1</td>\n      <td>0</td>\n      <td>0</td>\n      <td>1</td>\n      <td>0</td>\n      <td>0</td>\n      <td>0</td>\n      <td>0</td>\n      <td>0</td>\n      <td>1</td>\n      <td>0</td>\n      <td>0</td>\n      <td>0</td>\n      <td>0</td>\n      <td>0</td>\n      <td>0</td>\n      <td>0</td>\n      <td>1</td>\n      <td>0</td>\n      <td>0</td>\n      <td>0</td>\n      <td>0</td>\n      <td>1</td>\n    </tr>\n    <tr>\n      <th>3</th>\n      <td>39</td>\n      <td>185</td>\n      <td>2</td>\n      <td>0</td>\n      <td>0</td>\n      <td>-1.8</td>\n      <td>93.075</td>\n      <td>-47.1</td>\n      <td>1.405</td>\n      <td>5099.1</td>\n      <td>0</td>\n      <td>0</td>\n      <td>0</td>\n      <td>0</td>\n      <td>0</td>\n      <td>0</td>\n      <td>0</td>\n      <td>0</td>\n      <td>1</td>\n      <td>0</td>\n      <td>0</td>\n      <td>0</td>\n      <td>0</td>\n      <td>0</td>\n      <td>1</td>\n      <td>0</td>\n      <td>0</td>\n      <td>0</td>\n      <td>0</td>\n      <td>0</td>\n      <td>1</td>\n      <td>0</td>\n      <td>0</td>\n      <td>0</td>\n      <td>0</td>\n      <td>1</td>\n      <td>0</td>\n      <td>0</td>\n      <td>1</td>\n      <td>0</td>\n      <td>0</td>\n      <td>1</td>\n      <td>0</td>\n      <td>0</td>\n      <td>1</td>\n      <td>0</td>\n      <td>1</td>\n      <td>0</td>\n      <td>0</td>\n      <td>0</td>\n      <td>0</td>\n      <td>0</td>\n      <td>0</td>\n      <td>0</td>\n      <td>0</td>\n      <td>0</td>\n      <td>1</td>\n      <td>0</td>\n      <td>0</td>\n      <td>0</td>\n      <td>0</td>\n      <td>0</td>\n      <td>1</td>\n      <td>0</td>\n    </tr>\n    <tr>\n      <th>4</th>\n      <td>55</td>\n      <td>137</td>\n      <td>1</td>\n      <td>3</td>\n      <td>1</td>\n      <td>-2.9</td>\n      <td>92.201</td>\n      <td>-31.4</td>\n      <td>0.869</td>\n      <td>5076.2</td>\n      <td>1</td>\n      <td>0</td>\n      <td>0</td>\n      <td>0</td>\n      <td>0</td>\n      <td>0</td>\n      <td>1</td>\n      <td>0</td>\n      <td>0</td>\n      <td>0</td>\n      <td>0</td>\n      <td>0</td>\n      <td>0</td>\n      <td>0</td>\n      <td>1</td>\n      <td>0</td>\n      <td>0</td>\n      <td>1</td>\n      <td>0</td>\n      <td>0</td>\n      <td>0</td>\n      <td>0</td>\n      <td>0</td>\n      <td>0</td>\n      <td>0</td>\n      <td>1</td>\n      <td>0</td>\n      <td>0</td>\n      <td>0</td>\n      <td>0</td>\n      <td>1</td>\n      <td>1</td>\n      <td>0</td>\n      <td>0</td>\n      <td>1</td>\n      <td>0</td>\n      <td>0</td>\n      <td>1</td>\n      <td>0</td>\n      <td>0</td>\n      <td>0</td>\n      <td>0</td>\n      <td>0</td>\n      <td>0</td>\n      <td>0</td>\n      <td>0</td>\n      <td>1</td>\n      <td>0</td>\n      <td>0</td>\n      <td>0</td>\n      <td>0</td>\n      <td>0</td>\n      <td>0</td>\n      <td>1</td>\n    </tr>\n  </tbody>\n</table>\n</div>"
     },
     "metadata": {},
     "execution_count": 98
    }
   ],
   "source": [
    "marital_dummies = pd.get_dummies(bank_df['marital'], prefix='marital')\n",
    "education_dummies = pd.get_dummies(bank_df['education'], prefix='education')\n",
    "housing_dummies = pd.get_dummies(bank_df['housing'], prefix='housing')\n",
    "loan_dummies = pd.get_dummies(bank_df['loan'], prefix='loan')\n",
    "day_of_week_dummies = pd.get_dummies(bank_df['day_of_week'], prefix='day_of_week')\n",
    "# dummies not constructed here were already constructed as part of the logistic regression\n",
    "bank_rand_forest_df = pd.concat([bank_df[['age', 'duration', 'campaign', 'pdays', 'previous', 'emp_var_rate', 'cons_price_idx', \n",
    "                                         'cons_conf_idx', 'euribor3m', 'nr_employed', 'deposit']], \n",
    "                                job_dummies, marital_dummies, education_dummies, default_dummies, housing_dummies, loan_dummies, \n",
    "                                contact_dummies, month_dummies, day_of_week_dummies, poutcome_dummies], axis=1)\n",
    "bank_rand_forest_df.head()"
   ]
  },
  {
   "cell_type": "code",
   "execution_count": 99,
   "id": "centered-stanford",
   "metadata": {},
   "outputs": [
    {
     "output_type": "stream",
     "name": "stdout",
     "text": [
      "Random Forest - Train Confusion Matrix\n",
      " Predicted      0     1\n",
      "Actual                \n",
      "0          25542    75\n",
      "1            626  2588\n",
      "Random Forest - Train accuracy 0.976\n",
      "Random Forest - Test Confusion Matrix Predicted      0    1\n",
      "Actual               \n",
      "0          10630  301\n",
      "1            769  657\n",
      "Random Forest - Test accuracy 0.913\n"
     ]
    }
   ],
   "source": [
    "x_train, x_test, y_train, y_test = train_test_split(bank_rand_forest_df.drop(['deposit'], axis=1), \n",
    "                                                    bank_rand_forest_df['deposit'], \n",
    "                                                    train_size=0.7,\n",
    "                                                    random_state=42) # random state set for reproducable results\n",
    "rand_forest_fit = RandomForestClassifier(n_estimators=1000, \n",
    "                                         criterion=\"gini\", \n",
    "                                         max_depth=100, \n",
    "                                         min_samples_split=3, \n",
    "                                         min_samples_leaf=2) # these hyperparameters will need to be tuned\n",
    "rand_forest_fit.fit(x_train, y_train)\n",
    "print(\"Random Forest - Train Confusion Matrix\\n\", pd.crosstab(y_train, \n",
    "                                                              rand_forest_fit.predict(x_train), \n",
    "                                                              rownames=[\"Actual\"], \n",
    "                                                              colnames=[\"Predicted\"]))\n",
    "print(\"Random Forest - Train accuracy\", round(accuracy_score(y_train, rand_forest_fit.predict(x_train)), 3))\n",
    "print(\"Random Forest - Test Confusion Matrix\", pd.crosstab(y_test, \n",
    "                                                           rand_forest_fit.predict(x_test), \n",
    "                                                           rownames=[\"Actual\"], \n",
    "                                                           colnames=[\"Predicted\"]))\n",
    "print(\"Random Forest - Test accuracy\", round(accuracy_score(y_test, rand_forest_fit.predict(x_test)), 3))"
   ]
  },
  {
   "cell_type": "markdown",
   "id": "exterior-making",
   "metadata": {},
   "source": [
    "We can see here that the test accuracy of random forest is higher than that of logistic regression. This applies even after removing removing insignificant and multi-colinear variables. We now preform a grid search to tune hyperparameters."
   ]
  },
  {
   "cell_type": "code",
   "execution_count": 100,
   "id": "conceptual-letters",
   "metadata": {},
   "outputs": [
    {
     "output_type": "stream",
     "name": "stdout",
     "text": [
      "Fitting 5 folds for each of 36 candidates, totalling 180 fits\n",
      "[Parallel(n_jobs=-1)]: Using backend LokyBackend with 8 concurrent workers.\n",
      "[Parallel(n_jobs=-1)]: Done  34 tasks      | elapsed:  2.0min\n",
      "[Parallel(n_jobs=-1)]: Done 180 out of 180 | elapsed:  9.9min finished\n",
      "Best Training score: 0.9158891226355703\n",
      "Best parameters set:\n",
      "clf__max_depth: 50\n",
      "clf__min_samples_leaf: 2\n",
      "clf__min_samples_split: 2\n",
      "clf__n_estimators: 200\n",
      "Testing accuracy: 0.9122764425022255\n",
      "Complete report of Testing data               precision    recall  f1-score   support\n",
      "\n",
      "           0       0.93      0.97      0.95     10931\n",
      "           1       0.68      0.46      0.55      1426\n",
      "\n",
      "    accuracy                           0.91     12357\n",
      "   macro avg       0.81      0.71      0.75     12357\n",
      "weighted avg       0.90      0.91      0.90     12357\n",
      "\n",
      "Random Forest Grid Search - Test Confusion Matrix Predicted      0    1\n",
      "Actual               \n",
      "0          10623  308\n",
      "1            776  650\n"
     ]
    }
   ],
   "source": [
    "pipeline = Pipeline([('clf', RandomForestClassifier(criterion='gini'))])\n",
    "parameters = {\n",
    "    'clf__n_estimators': (200, 300, 500),\n",
    "    'clf__max_depth': (20, 30, 50),\n",
    "    'clf__min_samples_split': (2, 3),\n",
    "    'clf__min_samples_leaf': (1, 2)}\n",
    "grid_search = GridSearchCV(pipeline, parameters, n_jobs=-1, cv=5, verbose=1, scoring='accuracy')\n",
    "grid_search.fit(x_train, y_train)\n",
    "print('Best Training score: ' + str(grid_search.best_score_))\n",
    "print('Best parameters set:')\n",
    "best_parameters = grid_search.best_estimator_.get_params()\n",
    "\n",
    "for param_name in sorted(parameters.keys()):\n",
    "    print(str(param_name) + ': ' + str(best_parameters[param_name]))\n",
    "    \n",
    "predictions = grid_search.predict(x_test)\n",
    "print(\"Testing accuracy: \" + str(accuracy_score(y_test, predictions)))\n",
    "print(\"Complete report of Testing data\", classification_report(y_test, predictions))\n",
    "print(\"Random Forest Grid Search - Test Confusion Matrix\", pd.crosstab(y_test, predictions, rownames=[\"Actual\"], colnames=[\"Predicted\"]))"
   ]
  },
  {
   "cell_type": "markdown",
   "id": "official-evidence",
   "metadata": {},
   "source": [
    "We see here that the random forest model provides better testing accuracy than the logistic regression model however the hyperparameter tuning did not noticably improve the model (test accuracy remains at 0.913)."
   ]
  },
  {
   "cell_type": "markdown",
   "id": "typical-southeast",
   "metadata": {},
   "source": [
    "### Variable Importance"
   ]
  },
  {
   "cell_type": "code",
   "execution_count": 101,
   "id": "editorial-evanescence",
   "metadata": {},
   "outputs": [
    {
     "output_type": "stream",
     "name": "stdout",
     "text": [
      "Feature ranking:\nFeature 1 , duration 0.32092548702824797\nFeature 8 , euribor3m 0.09271316122332557\nFeature 9 , nr_employed 0.06812866729371993\nFeature 0 , age 0.06124829423857072\nFeature 3 , pdays 0.03699636265919962\nFeature 7 , cons_conf_idx 0.03230953834601997\nFeature 62 , poutcome_success 0.0320787354542844\nFeature 5 , emp_var_rate 0.029872041843717417\nFeature 6 , cons_price_idx 0.029750686535092954\nFeature 2 , campaign 0.027575764948433033\nFeature 4 , previous 0.01294145405405634\nFeature 39 , housing_yes 0.009874071654798313\nFeature 32 , education_university.degree 0.009799017356300021\nFeature 37 , housing_no 0.009624017935105386\nFeature 10 , job_admin. 0.009308429204449811\nFeature 57 , day_of_week_thu 0.00889394360434654\nFeature 23 , marital_married 0.008752270325957138\nFeature 56 , day_of_week_mon 0.008721648550648296\nFeature 24 , marital_single 0.008419068995938937\nFeature 29 , education_high.school 0.008221479464026377\nFeature 58 , day_of_week_tue 0.008194754192960113\nFeature 61 , poutcome_nonexistent 0.007976493717129945\nFeature 59 , day_of_week_wed 0.007944481662795419\nFeature 55 , day_of_week_fri 0.007712401837167356\nFeature 60 , poutcome_failure 0.007275363326372933\nFeature 19 , job_technician 0.007067405177516018\nFeature 43 , contact_cellular 0.0068384134367181215\nFeature 44 , contact_telephone 0.006510508646985821\nFeature 40 , loan_no 0.006277434574591034\nFeature 31 , education_professional.course 0.0059843231261518595\nFeature 11 , job_blue-collar 0.00597743906854968\nFeature 42 , loan_yes 0.005958184962257907\nFeature 50 , month_mar 0.0059253658223146965\nFeature 53 , month_oct 0.005652751491456158\nFeature 51 , month_may 0.00526660233270993\nFeature 28 , education_basic.9y 0.005132869482551648\nFeature 22 , marital_divorced 0.0047704370069774\nFeature 26 , education_basic.4y 0.004214435991101954\nFeature 15 , job_retired 0.004084714422744921\nFeature 14 , job_management 0.004083844032640319\nFeature 34 , default_no 0.004007343817775063\nFeature 17 , job_services 0.003886839104786431\nFeature 35 , default_unknown 0.0038716020624697547\nFeature 45 , month_apr 0.003810655894835789\nFeature 18 , job_student 0.0036434064615136776\nFeature 49 , month_jun 0.003624189505702484\nFeature 33 , education_unknown 0.003311779014385204\nFeature 48 , month_jul 0.0027585560543386517\nFeature 54 , month_sep 0.0027055511916845828\nFeature 27 , education_basic.6y 0.0026546603928664625\nFeature 46 , month_aug 0.002644837682981697\nFeature 16 , job_self-employed 0.0025868445363817424\nFeature 52 , month_nov 0.0022688083061009282\nFeature 20 , job_unemployed 0.0022678600312537557\nFeature 12 , job_entrepreneur 0.0019367921448469327\nFeature 13 , job_housemaid 0.0015999834156930882\nFeature 38 , housing_unknown 0.0009224625919443875\nFeature 41 , loan_unknown 0.0009087154619781768\nFeature 47 , month_dec 0.0007558156792878458\nFeature 21 , job_unknown 0.0005185380107033095\nFeature 25 , marital_unknown 0.00023347628159865172\nFeature 30 , education_illiterate 7.89173289393342e-05\nFeature 36 , default_yes 0.0\n"
     ]
    },
    {
     "output_type": "display_data",
     "data": {
      "text/plain": "<Figure size 432x288 with 1 Axes>",
      "image/svg+xml": "<?xml version=\"1.0\" encoding=\"utf-8\" standalone=\"no\"?>\r\n<!DOCTYPE svg PUBLIC \"-//W3C//DTD SVG 1.1//EN\"\r\n  \"http://www.w3.org/Graphics/SVG/1.1/DTD/svg11.dtd\">\r\n<!-- Created with matplotlib (https://matplotlib.org/) -->\r\n<svg height=\"248.518125pt\" version=\"1.1\" viewBox=\"0 0 379.596875 248.518125\" width=\"379.596875pt\" xmlns=\"http://www.w3.org/2000/svg\" xmlns:xlink=\"http://www.w3.org/1999/xlink\">\r\n <metadata>\r\n  <rdf:RDF xmlns:cc=\"http://creativecommons.org/ns#\" xmlns:dc=\"http://purl.org/dc/elements/1.1/\" xmlns:rdf=\"http://www.w3.org/1999/02/22-rdf-syntax-ns#\">\r\n   <cc:Work>\r\n    <dc:type rdf:resource=\"http://purl.org/dc/dcmitype/StillImage\"/>\r\n    <dc:date>2021-02-08T21:00:11.969012</dc:date>\r\n    <dc:format>image/svg+xml</dc:format>\r\n    <dc:creator>\r\n     <cc:Agent>\r\n      <dc:title>Matplotlib v3.3.2, https://matplotlib.org/</dc:title>\r\n     </cc:Agent>\r\n    </dc:creator>\r\n   </cc:Work>\r\n  </rdf:RDF>\r\n </metadata>\r\n <defs>\r\n  <style type=\"text/css\">*{stroke-linecap:butt;stroke-linejoin:round;}</style>\r\n </defs>\r\n <g id=\"figure_1\">\r\n  <g id=\"patch_1\">\r\n   <path d=\"M 0 248.518125 \r\nL 379.596875 248.518125 \r\nL 379.596875 0 \r\nL 0 0 \r\nz\r\n\" style=\"fill:none;\"/>\r\n  </g>\r\n  <g id=\"axes_1\">\r\n   <g id=\"patch_2\">\r\n    <path d=\"M 36.465625 224.64 \r\nL 371.265625 224.64 \r\nL 371.265625 7.2 \r\nL 36.465625 7.2 \r\nz\r\n\" style=\"fill:#ffffff;\"/>\r\n   </g>\r\n   <g id=\"patch_3\">\r\n    <path clip-path=\"url(#pb0e61773cc)\" d=\"M 39.604375 207.988897 \r\nL 43.789375 207.988897 \r\nL 43.789375 27.778842 \r\nL 39.604375 27.778842 \r\nz\r\n\" style=\"fill:#ff0000;\"/>\r\n   </g>\r\n   <g id=\"patch_4\">\r\n    <path clip-path=\"url(#pb0e61773cc)\" d=\"M 44.835625 207.988897 \r\nL 49.020625 207.988897 \r\nL 49.020625 155.927454 \r\nL 44.835625 155.927454 \r\nz\r\n\" style=\"fill:#ff0000;\"/>\r\n   </g>\r\n   <g id=\"patch_5\">\r\n    <path clip-path=\"url(#pb0e61773cc)\" d=\"M 50.066875 207.988897 \r\nL 54.251875 207.988897 \r\nL 54.251875 169.732444 \r\nL 50.066875 169.732444 \r\nz\r\n\" style=\"fill:#ff0000;\"/>\r\n   </g>\r\n   <g id=\"patch_6\">\r\n    <path clip-path=\"url(#pb0e61773cc)\" d=\"M 55.298125 207.988897 \r\nL 59.483125 207.988897 \r\nL 59.483125 173.595996 \r\nL 55.298125 173.595996 \r\nz\r\n\" style=\"fill:#ff0000;\"/>\r\n   </g>\r\n   <g id=\"patch_7\">\r\n    <path clip-path=\"url(#pb0e61773cc)\" d=\"M 60.529375 207.988897 \r\nL 64.714375 207.988897 \r\nL 64.714375 187.214241 \r\nL 60.529375 187.214241 \r\nz\r\n\" style=\"fill:#ff0000;\"/>\r\n   </g>\r\n   <g id=\"patch_8\">\r\n    <path clip-path=\"url(#pb0e61773cc)\" d=\"M 65.760625 207.988897 \r\nL 69.945625 207.988897 \r\nL 69.945625 189.846045 \r\nL 65.760625 189.846045 \r\nz\r\n\" style=\"fill:#ff0000;\"/>\r\n   </g>\r\n   <g id=\"patch_9\">\r\n    <path clip-path=\"url(#pb0e61773cc)\" d=\"M 70.991875 207.988897 \r\nL 75.176875 207.988897 \r\nL 75.176875 189.975648 \r\nL 70.991875 189.975648 \r\nz\r\n\" style=\"fill:#ff0000;\"/>\r\n   </g>\r\n   <g id=\"patch_10\">\r\n    <path clip-path=\"url(#pb0e61773cc)\" d=\"M 76.223125 207.988897 \r\nL 80.408125 207.988897 \r\nL 80.408125 191.214778 \r\nL 76.223125 191.214778 \r\nz\r\n\" style=\"fill:#ff0000;\"/>\r\n   </g>\r\n   <g id=\"patch_11\">\r\n    <path clip-path=\"url(#pb0e61773cc)\" d=\"M 81.454375 207.988897 \r\nL 85.639375 207.988897 \r\nL 85.639375 191.282923 \r\nL 81.454375 191.282923 \r\nz\r\n\" style=\"fill:#ff0000;\"/>\r\n   </g>\r\n   <g id=\"patch_12\">\r\n    <path clip-path=\"url(#pb0e61773cc)\" d=\"M 86.685625 207.988897 \r\nL 90.870625 207.988897 \r\nL 90.870625 192.504212 \r\nL 86.685625 192.504212 \r\nz\r\n\" style=\"fill:#ff0000;\"/>\r\n   </g>\r\n   <g id=\"patch_13\">\r\n    <path clip-path=\"url(#pb0e61773cc)\" d=\"M 91.916875 207.988897 \r\nL 96.101875 207.988897 \r\nL 96.101875 200.721851 \r\nL 91.916875 200.721851 \r\nz\r\n\" style=\"fill:#ff0000;\"/>\r\n   </g>\r\n   <g id=\"patch_14\">\r\n    <path clip-path=\"url(#pb0e61773cc)\" d=\"M 97.148125 207.988897 \r\nL 101.333125 207.988897 \r\nL 101.333125 202.444286 \r\nL 97.148125 202.444286 \r\nz\r\n\" style=\"fill:#ff0000;\"/>\r\n   </g>\r\n   <g id=\"patch_15\">\r\n    <path clip-path=\"url(#pb0e61773cc)\" d=\"M 102.379375 207.988897 \r\nL 106.564375 207.988897 \r\nL 106.564375 202.486431 \r\nL 102.379375 202.486431 \r\nz\r\n\" style=\"fill:#ff0000;\"/>\r\n   </g>\r\n   <g id=\"patch_16\">\r\n    <path clip-path=\"url(#pb0e61773cc)\" d=\"M 107.610625 207.988897 \r\nL 111.795625 207.988897 \r\nL 111.795625 202.584699 \r\nL 107.610625 202.584699 \r\nz\r\n\" style=\"fill:#ff0000;\"/>\r\n   </g>\r\n   <g id=\"patch_17\">\r\n    <path clip-path=\"url(#pb0e61773cc)\" d=\"M 112.841875 207.988897 \r\nL 117.026875 207.988897 \r\nL 117.026875 202.761913 \r\nL 112.841875 202.761913 \r\nz\r\n\" style=\"fill:#ff0000;\"/>\r\n   </g>\r\n   <g id=\"patch_18\">\r\n    <path clip-path=\"url(#pb0e61773cc)\" d=\"M 118.073125 207.988897 \r\nL 122.258125 207.988897 \r\nL 122.258125 202.99466 \r\nL 118.073125 202.99466 \r\nz\r\n\" style=\"fill:#ff0000;\"/>\r\n   </g>\r\n   <g id=\"patch_19\">\r\n    <path clip-path=\"url(#pb0e61773cc)\" d=\"M 123.304375 207.988897 \r\nL 127.489375 207.988897 \r\nL 127.489375 203.074214 \r\nL 123.304375 203.074214 \r\nz\r\n\" style=\"fill:#ff0000;\"/>\r\n   </g>\r\n   <g id=\"patch_20\">\r\n    <path clip-path=\"url(#pb0e61773cc)\" d=\"M 128.535625 207.988897 \r\nL 132.720625 207.988897 \r\nL 132.720625 203.091409 \r\nL 128.535625 203.091409 \r\nz\r\n\" style=\"fill:#ff0000;\"/>\r\n   </g>\r\n   <g id=\"patch_21\">\r\n    <path clip-path=\"url(#pb0e61773cc)\" d=\"M 133.766875 207.988897 \r\nL 137.951875 207.988897 \r\nL 137.951875 203.261317 \r\nL 133.766875 203.261317 \r\nz\r\n\" style=\"fill:#ff0000;\"/>\r\n   </g>\r\n   <g id=\"patch_22\">\r\n    <path clip-path=\"url(#pb0e61773cc)\" d=\"M 138.998125 207.988897 \r\nL 143.183125 207.988897 \r\nL 143.183125 203.37227 \r\nL 138.998125 203.37227 \r\nz\r\n\" style=\"fill:#ff0000;\"/>\r\n   </g>\r\n   <g id=\"patch_23\">\r\n    <path clip-path=\"url(#pb0e61773cc)\" d=\"M 144.229375 207.988897 \r\nL 148.414375 207.988897 \r\nL 148.414375 203.387277 \r\nL 144.229375 203.387277 \r\nz\r\n\" style=\"fill:#ff0000;\"/>\r\n   </g>\r\n   <g id=\"patch_24\">\r\n    <path clip-path=\"url(#pb0e61773cc)\" d=\"M 149.460625 207.988897 \r\nL 153.645625 207.988897 \r\nL 153.645625 203.509837 \r\nL 149.460625 203.509837 \r\nz\r\n\" style=\"fill:#ff0000;\"/>\r\n   </g>\r\n   <g id=\"patch_25\">\r\n    <path clip-path=\"url(#pb0e61773cc)\" d=\"M 154.691875 207.988897 \r\nL 158.876875 207.988897 \r\nL 158.876875 203.527813 \r\nL 154.691875 203.527813 \r\nz\r\n\" style=\"fill:#ff0000;\"/>\r\n   </g>\r\n   <g id=\"patch_26\">\r\n    <path clip-path=\"url(#pb0e61773cc)\" d=\"M 159.923125 207.988897 \r\nL 164.108125 207.988897 \r\nL 164.108125 203.658134 \r\nL 159.923125 203.658134 \r\nz\r\n\" style=\"fill:#ff0000;\"/>\r\n   </g>\r\n   <g id=\"patch_27\">\r\n    <path clip-path=\"url(#pb0e61773cc)\" d=\"M 165.154375 207.988897 \r\nL 169.339375 207.988897 \r\nL 169.339375 203.903545 \r\nL 165.154375 203.903545 \r\nz\r\n\" style=\"fill:#ff0000;\"/>\r\n   </g>\r\n   <g id=\"patch_28\">\r\n    <path clip-path=\"url(#pb0e61773cc)\" d=\"M 170.385625 207.988897 \r\nL 174.570625 207.988897 \r\nL 174.570625 204.02032 \r\nL 170.385625 204.02032 \r\nz\r\n\" style=\"fill:#ff0000;\"/>\r\n   </g>\r\n   <g id=\"patch_29\">\r\n    <path clip-path=\"url(#pb0e61773cc)\" d=\"M 175.616875 207.988897 \r\nL 179.801875 207.988897 \r\nL 179.801875 204.148906 \r\nL 175.616875 204.148906 \r\nz\r\n\" style=\"fill:#ff0000;\"/>\r\n   </g>\r\n   <g id=\"patch_30\">\r\n    <path clip-path=\"url(#pb0e61773cc)\" d=\"M 180.848125 207.988897 \r\nL 185.033125 207.988897 \r\nL 185.033125 204.333036 \r\nL 180.848125 204.333036 \r\nz\r\n\" style=\"fill:#ff0000;\"/>\r\n   </g>\r\n   <g id=\"patch_31\">\r\n    <path clip-path=\"url(#pb0e61773cc)\" d=\"M 186.079375 207.988897 \r\nL 190.264375 207.988897 \r\nL 190.264375 204.463914 \r\nL 186.079375 204.463914 \r\nz\r\n\" style=\"fill:#ff0000;\"/>\r\n   </g>\r\n   <g id=\"patch_32\">\r\n    <path clip-path=\"url(#pb0e61773cc)\" d=\"M 191.310625 207.988897 \r\nL 195.495625 207.988897 \r\nL 195.495625 204.628506 \r\nL 191.310625 204.628506 \r\nz\r\n\" style=\"fill:#ff0000;\"/>\r\n   </g>\r\n   <g id=\"patch_33\">\r\n    <path clip-path=\"url(#pb0e61773cc)\" d=\"M 196.541875 207.988897 \r\nL 200.726875 207.988897 \r\nL 200.726875 204.632371 \r\nL 196.541875 204.632371 \r\nz\r\n\" style=\"fill:#ff0000;\"/>\r\n   </g>\r\n   <g id=\"patch_34\">\r\n    <path clip-path=\"url(#pb0e61773cc)\" d=\"M 201.773125 207.988897 \r\nL 205.958125 207.988897 \r\nL 205.958125 204.643183 \r\nL 201.773125 204.643183 \r\nz\r\n\" style=\"fill:#ff0000;\"/>\r\n   </g>\r\n   <g id=\"patch_35\">\r\n    <path clip-path=\"url(#pb0e61773cc)\" d=\"M 207.004375 207.988897 \r\nL 211.189375 207.988897 \r\nL 211.189375 204.661612 \r\nL 207.004375 204.661612 \r\nz\r\n\" style=\"fill:#ff0000;\"/>\r\n   </g>\r\n   <g id=\"patch_36\">\r\n    <path clip-path=\"url(#pb0e61773cc)\" d=\"M 212.235625 207.988897 \r\nL 216.420625 207.988897 \r\nL 216.420625 204.814694 \r\nL 212.235625 204.814694 \r\nz\r\n\" style=\"fill:#ff0000;\"/>\r\n   </g>\r\n   <g id=\"patch_37\">\r\n    <path clip-path=\"url(#pb0e61773cc)\" d=\"M 217.466875 207.988897 \r\nL 221.651875 207.988897 \r\nL 221.651875 205.031529 \r\nL 217.466875 205.031529 \r\nz\r\n\" style=\"fill:#ff0000;\"/>\r\n   </g>\r\n   <g id=\"patch_38\">\r\n    <path clip-path=\"url(#pb0e61773cc)\" d=\"M 222.698125 207.988897 \r\nL 226.883125 207.988897 \r\nL 226.883125 205.106625 \r\nL 222.698125 205.106625 \r\nz\r\n\" style=\"fill:#ff0000;\"/>\r\n   </g>\r\n   <g id=\"patch_39\">\r\n    <path clip-path=\"url(#pb0e61773cc)\" d=\"M 227.929375 207.988897 \r\nL 232.114375 207.988897 \r\nL 232.114375 205.310142 \r\nL 227.929375 205.310142 \r\nz\r\n\" style=\"fill:#ff0000;\"/>\r\n   </g>\r\n   <g id=\"patch_40\">\r\n    <path clip-path=\"url(#pb0e61773cc)\" d=\"M 233.160625 207.988897 \r\nL 237.345625 207.988897 \r\nL 237.345625 205.622355 \r\nL 233.160625 205.622355 \r\nz\r\n\" style=\"fill:#ff0000;\"/>\r\n   </g>\r\n   <g id=\"patch_41\">\r\n    <path clip-path=\"url(#pb0e61773cc)\" d=\"M 238.391875 207.988897 \r\nL 242.576875 207.988897 \r\nL 242.576875 205.695198 \r\nL 238.391875 205.695198 \r\nz\r\n\" style=\"fill:#ff0000;\"/>\r\n   </g>\r\n   <g id=\"patch_42\">\r\n    <path clip-path=\"url(#pb0e61773cc)\" d=\"M 243.623125 207.988897 \r\nL 247.808125 207.988897 \r\nL 247.808125 205.695686 \r\nL 243.623125 205.695686 \r\nz\r\n\" style=\"fill:#ff0000;\"/>\r\n   </g>\r\n   <g id=\"patch_43\">\r\n    <path clip-path=\"url(#pb0e61773cc)\" d=\"M 248.854375 207.988897 \r\nL 253.039375 207.988897 \r\nL 253.039375 205.738644 \r\nL 248.854375 205.738644 \r\nz\r\n\" style=\"fill:#ff0000;\"/>\r\n   </g>\r\n   <g id=\"patch_44\">\r\n    <path clip-path=\"url(#pb0e61773cc)\" d=\"M 254.085625 207.988897 \r\nL 258.270625 207.988897 \r\nL 258.270625 205.806311 \r\nL 254.085625 205.806311 \r\nz\r\n\" style=\"fill:#ff0000;\"/>\r\n   </g>\r\n   <g id=\"patch_45\">\r\n    <path clip-path=\"url(#pb0e61773cc)\" d=\"M 259.316875 207.988897 \r\nL 263.501875 207.988897 \r\nL 263.501875 205.814867 \r\nL 259.316875 205.814867 \r\nz\r\n\" style=\"fill:#ff0000;\"/>\r\n   </g>\r\n   <g id=\"patch_46\">\r\n    <path clip-path=\"url(#pb0e61773cc)\" d=\"M 264.548125 207.988897 \r\nL 268.733125 207.988897 \r\nL 268.733125 205.84909 \r\nL 264.548125 205.84909 \r\nz\r\n\" style=\"fill:#ff0000;\"/>\r\n   </g>\r\n   <g id=\"patch_47\">\r\n    <path clip-path=\"url(#pb0e61773cc)\" d=\"M 269.779375 207.988897 \r\nL 273.964375 207.988897 \r\nL 273.964375 205.943006 \r\nL 269.779375 205.943006 \r\nz\r\n\" style=\"fill:#ff0000;\"/>\r\n   </g>\r\n   <g id=\"patch_48\">\r\n    <path clip-path=\"url(#pb0e61773cc)\" d=\"M 275.010625 207.988897 \r\nL 279.195625 207.988897 \r\nL 279.195625 205.953797 \r\nL 275.010625 205.953797 \r\nz\r\n\" style=\"fill:#ff0000;\"/>\r\n   </g>\r\n   <g id=\"patch_49\">\r\n    <path clip-path=\"url(#pb0e61773cc)\" d=\"M 280.241875 207.988897 \r\nL 284.426875 207.988897 \r\nL 284.426875 206.129226 \r\nL 280.241875 206.129226 \r\nz\r\n\" style=\"fill:#ff0000;\"/>\r\n   </g>\r\n   <g id=\"patch_50\">\r\n    <path clip-path=\"url(#pb0e61773cc)\" d=\"M 285.473125 207.988897 \r\nL 289.658125 207.988897 \r\nL 289.658125 206.439878 \r\nL 285.473125 206.439878 \r\nz\r\n\" style=\"fill:#ff0000;\"/>\r\n   </g>\r\n   <g id=\"patch_51\">\r\n    <path clip-path=\"url(#pb0e61773cc)\" d=\"M 290.704375 207.988897 \r\nL 294.889375 207.988897 \r\nL 294.889375 206.469642 \r\nL 290.704375 206.469642 \r\nz\r\n\" style=\"fill:#ff0000;\"/>\r\n   </g>\r\n   <g id=\"patch_52\">\r\n    <path clip-path=\"url(#pb0e61773cc)\" d=\"M 295.935625 207.988897 \r\nL 300.120625 207.988897 \r\nL 300.120625 206.498219 \r\nL 295.935625 206.498219 \r\nz\r\n\" style=\"fill:#ff0000;\"/>\r\n   </g>\r\n   <g id=\"patch_53\">\r\n    <path clip-path=\"url(#pb0e61773cc)\" d=\"M 301.166875 207.988897 \r\nL 305.351875 207.988897 \r\nL 305.351875 206.503735 \r\nL 301.166875 206.503735 \r\nz\r\n\" style=\"fill:#ff0000;\"/>\r\n   </g>\r\n   <g id=\"patch_54\">\r\n    <path clip-path=\"url(#pb0e61773cc)\" d=\"M 306.398125 207.988897 \r\nL 310.583125 207.988897 \r\nL 310.583125 206.5363 \r\nL 306.398125 206.5363 \r\nz\r\n\" style=\"fill:#ff0000;\"/>\r\n   </g>\r\n   <g id=\"patch_55\">\r\n    <path clip-path=\"url(#pb0e61773cc)\" d=\"M 311.629375 207.988897 \r\nL 315.814375 207.988897 \r\nL 315.814375 206.714888 \r\nL 311.629375 206.714888 \r\nz\r\n\" style=\"fill:#ff0000;\"/>\r\n   </g>\r\n   <g id=\"patch_56\">\r\n    <path clip-path=\"url(#pb0e61773cc)\" d=\"M 316.860625 207.988897 \r\nL 321.045625 207.988897 \r\nL 321.045625 206.71542 \r\nL 316.860625 206.71542 \r\nz\r\n\" style=\"fill:#ff0000;\"/>\r\n   </g>\r\n   <g id=\"patch_57\">\r\n    <path clip-path=\"url(#pb0e61773cc)\" d=\"M 322.091875 207.988897 \r\nL 326.276875 207.988897 \r\nL 326.276875 206.901325 \r\nL 322.091875 206.901325 \r\nz\r\n\" style=\"fill:#ff0000;\"/>\r\n   </g>\r\n   <g id=\"patch_58\">\r\n    <path clip-path=\"url(#pb0e61773cc)\" d=\"M 327.323125 207.988897 \r\nL 331.508125 207.988897 \r\nL 331.508125 207.090454 \r\nL 327.323125 207.090454 \r\nz\r\n\" style=\"fill:#ff0000;\"/>\r\n   </g>\r\n   <g id=\"patch_59\">\r\n    <path clip-path=\"url(#pb0e61773cc)\" d=\"M 332.554375 207.988897 \r\nL 336.739375 207.988897 \r\nL 336.739375 207.470904 \r\nL 332.554375 207.470904 \r\nz\r\n\" style=\"fill:#ff0000;\"/>\r\n   </g>\r\n   <g id=\"patch_60\">\r\n    <path clip-path=\"url(#pb0e61773cc)\" d=\"M 337.785625 207.988897 \r\nL 341.970625 207.988897 \r\nL 341.970625 207.478624 \r\nL 337.785625 207.478624 \r\nz\r\n\" style=\"fill:#ff0000;\"/>\r\n   </g>\r\n   <g id=\"patch_61\">\r\n    <path clip-path=\"url(#pb0e61773cc)\" d=\"M 343.016875 207.988897 \r\nL 347.201875 207.988897 \r\nL 347.201875 207.564482 \r\nL 343.016875 207.564482 \r\nz\r\n\" style=\"fill:#ff0000;\"/>\r\n   </g>\r\n   <g id=\"patch_62\">\r\n    <path clip-path=\"url(#pb0e61773cc)\" d=\"M 348.248125 207.988897 \r\nL 352.433125 207.988897 \r\nL 352.433125 207.697721 \r\nL 348.248125 207.697721 \r\nz\r\n\" style=\"fill:#ff0000;\"/>\r\n   </g>\r\n   <g id=\"patch_63\">\r\n    <path clip-path=\"url(#pb0e61773cc)\" d=\"M 353.479375 207.988897 \r\nL 357.664375 207.988897 \r\nL 357.664375 207.857793 \r\nL 353.479375 207.857793 \r\nz\r\n\" style=\"fill:#ff0000;\"/>\r\n   </g>\r\n   <g id=\"patch_64\">\r\n    <path clip-path=\"url(#pb0e61773cc)\" d=\"M 358.710625 207.988897 \r\nL 362.895625 207.988897 \r\nL 362.895625 207.944582 \r\nL 358.710625 207.944582 \r\nz\r\n\" style=\"fill:#ff0000;\"/>\r\n   </g>\r\n   <g id=\"patch_65\">\r\n    <path clip-path=\"url(#pb0e61773cc)\" d=\"M 363.941875 207.988897 \r\nL 368.126875 207.988897 \r\nL 368.126875 207.988897 \r\nL 363.941875 207.988897 \r\nz\r\n\" style=\"fill:#ff0000;\"/>\r\n   </g>\r\n   <g id=\"matplotlib.axis_1\">\r\n    <g id=\"xtick_1\">\r\n     <g id=\"line2d_1\">\r\n      <defs>\r\n       <path d=\"M 0 0 \r\nL 0 3.5 \r\n\" id=\"m34006741bc\" style=\"stroke:#000000;stroke-width:0.8;\"/>\r\n      </defs>\r\n      <g>\r\n       <use style=\"stroke:#000000;stroke-width:0.8;\" x=\"41.696875\" xlink:href=\"#m34006741bc\" y=\"224.64\"/>\r\n      </g>\r\n     </g>\r\n     <g id=\"text_1\">\r\n      <!-- 1 -->\r\n      <g transform=\"translate(38.515625 239.238437)scale(0.1 -0.1)\">\r\n       <defs>\r\n        <path d=\"M 12.40625 8.296875 \r\nL 28.515625 8.296875 \r\nL 28.515625 63.921875 \r\nL 10.984375 60.40625 \r\nL 10.984375 69.390625 \r\nL 28.421875 72.90625 \r\nL 38.28125 72.90625 \r\nL 38.28125 8.296875 \r\nL 54.390625 8.296875 \r\nL 54.390625 0 \r\nL 12.40625 0 \r\nz\r\n\" id=\"DejaVuSans-49\"/>\r\n       </defs>\r\n       <use xlink:href=\"#DejaVuSans-49\"/>\r\n      </g>\r\n     </g>\r\n    </g>\r\n    <g id=\"xtick_2\">\r\n     <g id=\"line2d_2\">\r\n      <g>\r\n       <use style=\"stroke:#000000;stroke-width:0.8;\" x=\"46.928125\" xlink:href=\"#m34006741bc\" y=\"224.64\"/>\r\n      </g>\r\n     </g>\r\n     <g id=\"text_2\">\r\n      <!-- 8 -->\r\n      <g transform=\"translate(43.746875 239.238437)scale(0.1 -0.1)\">\r\n       <defs>\r\n        <path d=\"M 31.78125 34.625 \r\nQ 24.75 34.625 20.71875 30.859375 \r\nQ 16.703125 27.09375 16.703125 20.515625 \r\nQ 16.703125 13.921875 20.71875 10.15625 \r\nQ 24.75 6.390625 31.78125 6.390625 \r\nQ 38.8125 6.390625 42.859375 10.171875 \r\nQ 46.921875 13.96875 46.921875 20.515625 \r\nQ 46.921875 27.09375 42.890625 30.859375 \r\nQ 38.875 34.625 31.78125 34.625 \r\nz\r\nM 21.921875 38.8125 \r\nQ 15.578125 40.375 12.03125 44.71875 \r\nQ 8.5 49.078125 8.5 55.328125 \r\nQ 8.5 64.0625 14.71875 69.140625 \r\nQ 20.953125 74.21875 31.78125 74.21875 \r\nQ 42.671875 74.21875 48.875 69.140625 \r\nQ 55.078125 64.0625 55.078125 55.328125 \r\nQ 55.078125 49.078125 51.53125 44.71875 \r\nQ 48 40.375 41.703125 38.8125 \r\nQ 48.828125 37.15625 52.796875 32.3125 \r\nQ 56.78125 27.484375 56.78125 20.515625 \r\nQ 56.78125 9.90625 50.3125 4.234375 \r\nQ 43.84375 -1.421875 31.78125 -1.421875 \r\nQ 19.734375 -1.421875 13.25 4.234375 \r\nQ 6.78125 9.90625 6.78125 20.515625 \r\nQ 6.78125 27.484375 10.78125 32.3125 \r\nQ 14.796875 37.15625 21.921875 38.8125 \r\nz\r\nM 18.3125 54.390625 \r\nQ 18.3125 48.734375 21.84375 45.5625 \r\nQ 25.390625 42.390625 31.78125 42.390625 \r\nQ 38.140625 42.390625 41.71875 45.5625 \r\nQ 45.3125 48.734375 45.3125 54.390625 \r\nQ 45.3125 60.0625 41.71875 63.234375 \r\nQ 38.140625 66.40625 31.78125 66.40625 \r\nQ 25.390625 66.40625 21.84375 63.234375 \r\nQ 18.3125 60.0625 18.3125 54.390625 \r\nz\r\n\" id=\"DejaVuSans-56\"/>\r\n       </defs>\r\n       <use xlink:href=\"#DejaVuSans-56\"/>\r\n      </g>\r\n     </g>\r\n    </g>\r\n    <g id=\"xtick_3\">\r\n     <g id=\"line2d_3\">\r\n      <g>\r\n       <use style=\"stroke:#000000;stroke-width:0.8;\" x=\"52.159375\" xlink:href=\"#m34006741bc\" y=\"224.64\"/>\r\n      </g>\r\n     </g>\r\n     <g id=\"text_3\">\r\n      <!-- 9 -->\r\n      <g transform=\"translate(48.978125 239.238437)scale(0.1 -0.1)\">\r\n       <defs>\r\n        <path d=\"M 10.984375 1.515625 \r\nL 10.984375 10.5 \r\nQ 14.703125 8.734375 18.5 7.8125 \r\nQ 22.3125 6.890625 25.984375 6.890625 \r\nQ 35.75 6.890625 40.890625 13.453125 \r\nQ 46.046875 20.015625 46.78125 33.40625 \r\nQ 43.953125 29.203125 39.59375 26.953125 \r\nQ 35.25 24.703125 29.984375 24.703125 \r\nQ 19.046875 24.703125 12.671875 31.3125 \r\nQ 6.296875 37.9375 6.296875 49.421875 \r\nQ 6.296875 60.640625 12.9375 67.421875 \r\nQ 19.578125 74.21875 30.609375 74.21875 \r\nQ 43.265625 74.21875 49.921875 64.515625 \r\nQ 56.59375 54.828125 56.59375 36.375 \r\nQ 56.59375 19.140625 48.40625 8.859375 \r\nQ 40.234375 -1.421875 26.421875 -1.421875 \r\nQ 22.703125 -1.421875 18.890625 -0.6875 \r\nQ 15.09375 0.046875 10.984375 1.515625 \r\nz\r\nM 30.609375 32.421875 \r\nQ 37.25 32.421875 41.125 36.953125 \r\nQ 45.015625 41.5 45.015625 49.421875 \r\nQ 45.015625 57.28125 41.125 61.84375 \r\nQ 37.25 66.40625 30.609375 66.40625 \r\nQ 23.96875 66.40625 20.09375 61.84375 \r\nQ 16.21875 57.28125 16.21875 49.421875 \r\nQ 16.21875 41.5 20.09375 36.953125 \r\nQ 23.96875 32.421875 30.609375 32.421875 \r\nz\r\n\" id=\"DejaVuSans-57\"/>\r\n       </defs>\r\n       <use xlink:href=\"#DejaVuSans-57\"/>\r\n      </g>\r\n     </g>\r\n    </g>\r\n    <g id=\"xtick_4\">\r\n     <g id=\"line2d_4\">\r\n      <g>\r\n       <use style=\"stroke:#000000;stroke-width:0.8;\" x=\"57.390625\" xlink:href=\"#m34006741bc\" y=\"224.64\"/>\r\n      </g>\r\n     </g>\r\n     <g id=\"text_4\">\r\n      <!-- 0 -->\r\n      <g transform=\"translate(54.209375 239.238437)scale(0.1 -0.1)\">\r\n       <defs>\r\n        <path d=\"M 31.78125 66.40625 \r\nQ 24.171875 66.40625 20.328125 58.90625 \r\nQ 16.5 51.421875 16.5 36.375 \r\nQ 16.5 21.390625 20.328125 13.890625 \r\nQ 24.171875 6.390625 31.78125 6.390625 \r\nQ 39.453125 6.390625 43.28125 13.890625 \r\nQ 47.125 21.390625 47.125 36.375 \r\nQ 47.125 51.421875 43.28125 58.90625 \r\nQ 39.453125 66.40625 31.78125 66.40625 \r\nz\r\nM 31.78125 74.21875 \r\nQ 44.046875 74.21875 50.515625 64.515625 \r\nQ 56.984375 54.828125 56.984375 36.375 \r\nQ 56.984375 17.96875 50.515625 8.265625 \r\nQ 44.046875 -1.421875 31.78125 -1.421875 \r\nQ 19.53125 -1.421875 13.0625 8.265625 \r\nQ 6.59375 17.96875 6.59375 36.375 \r\nQ 6.59375 54.828125 13.0625 64.515625 \r\nQ 19.53125 74.21875 31.78125 74.21875 \r\nz\r\n\" id=\"DejaVuSans-48\"/>\r\n       </defs>\r\n       <use xlink:href=\"#DejaVuSans-48\"/>\r\n      </g>\r\n     </g>\r\n    </g>\r\n    <g id=\"xtick_5\">\r\n     <g id=\"line2d_5\">\r\n      <g>\r\n       <use style=\"stroke:#000000;stroke-width:0.8;\" x=\"62.621875\" xlink:href=\"#m34006741bc\" y=\"224.64\"/>\r\n      </g>\r\n     </g>\r\n     <g id=\"text_5\">\r\n      <!-- 3 -->\r\n      <g transform=\"translate(59.440625 239.238437)scale(0.1 -0.1)\">\r\n       <defs>\r\n        <path d=\"M 40.578125 39.3125 \r\nQ 47.65625 37.796875 51.625 33 \r\nQ 55.609375 28.21875 55.609375 21.1875 \r\nQ 55.609375 10.40625 48.1875 4.484375 \r\nQ 40.765625 -1.421875 27.09375 -1.421875 \r\nQ 22.515625 -1.421875 17.65625 -0.515625 \r\nQ 12.796875 0.390625 7.625 2.203125 \r\nL 7.625 11.71875 \r\nQ 11.71875 9.328125 16.59375 8.109375 \r\nQ 21.484375 6.890625 26.8125 6.890625 \r\nQ 36.078125 6.890625 40.9375 10.546875 \r\nQ 45.796875 14.203125 45.796875 21.1875 \r\nQ 45.796875 27.640625 41.28125 31.265625 \r\nQ 36.765625 34.90625 28.71875 34.90625 \r\nL 20.21875 34.90625 \r\nL 20.21875 43.015625 \r\nL 29.109375 43.015625 \r\nQ 36.375 43.015625 40.234375 45.921875 \r\nQ 44.09375 48.828125 44.09375 54.296875 \r\nQ 44.09375 59.90625 40.109375 62.90625 \r\nQ 36.140625 65.921875 28.71875 65.921875 \r\nQ 24.65625 65.921875 20.015625 65.03125 \r\nQ 15.375 64.15625 9.8125 62.3125 \r\nL 9.8125 71.09375 \r\nQ 15.4375 72.65625 20.34375 73.4375 \r\nQ 25.25 74.21875 29.59375 74.21875 \r\nQ 40.828125 74.21875 47.359375 69.109375 \r\nQ 53.90625 64.015625 53.90625 55.328125 \r\nQ 53.90625 49.265625 50.4375 45.09375 \r\nQ 46.96875 40.921875 40.578125 39.3125 \r\nz\r\n\" id=\"DejaVuSans-51\"/>\r\n       </defs>\r\n       <use xlink:href=\"#DejaVuSans-51\"/>\r\n      </g>\r\n     </g>\r\n    </g>\r\n    <g id=\"xtick_6\">\r\n     <g id=\"line2d_6\">\r\n      <g>\r\n       <use style=\"stroke:#000000;stroke-width:0.8;\" x=\"67.853125\" xlink:href=\"#m34006741bc\" y=\"224.64\"/>\r\n      </g>\r\n     </g>\r\n     <g id=\"text_6\">\r\n      <!-- 7 -->\r\n      <g transform=\"translate(64.671875 239.238437)scale(0.1 -0.1)\">\r\n       <defs>\r\n        <path d=\"M 8.203125 72.90625 \r\nL 55.078125 72.90625 \r\nL 55.078125 68.703125 \r\nL 28.609375 0 \r\nL 18.3125 0 \r\nL 43.21875 64.59375 \r\nL 8.203125 64.59375 \r\nz\r\n\" id=\"DejaVuSans-55\"/>\r\n       </defs>\r\n       <use xlink:href=\"#DejaVuSans-55\"/>\r\n      </g>\r\n     </g>\r\n    </g>\r\n    <g id=\"xtick_7\">\r\n     <g id=\"line2d_7\">\r\n      <g>\r\n       <use style=\"stroke:#000000;stroke-width:0.8;\" x=\"73.084375\" xlink:href=\"#m34006741bc\" y=\"224.64\"/>\r\n      </g>\r\n     </g>\r\n     <g id=\"text_7\">\r\n      <!-- 62 -->\r\n      <g transform=\"translate(66.721875 239.238437)scale(0.1 -0.1)\">\r\n       <defs>\r\n        <path d=\"M 33.015625 40.375 \r\nQ 26.375 40.375 22.484375 35.828125 \r\nQ 18.609375 31.296875 18.609375 23.390625 \r\nQ 18.609375 15.53125 22.484375 10.953125 \r\nQ 26.375 6.390625 33.015625 6.390625 \r\nQ 39.65625 6.390625 43.53125 10.953125 \r\nQ 47.40625 15.53125 47.40625 23.390625 \r\nQ 47.40625 31.296875 43.53125 35.828125 \r\nQ 39.65625 40.375 33.015625 40.375 \r\nz\r\nM 52.59375 71.296875 \r\nL 52.59375 62.3125 \r\nQ 48.875 64.0625 45.09375 64.984375 \r\nQ 41.3125 65.921875 37.59375 65.921875 \r\nQ 27.828125 65.921875 22.671875 59.328125 \r\nQ 17.53125 52.734375 16.796875 39.40625 \r\nQ 19.671875 43.65625 24.015625 45.921875 \r\nQ 28.375 48.1875 33.59375 48.1875 \r\nQ 44.578125 48.1875 50.953125 41.515625 \r\nQ 57.328125 34.859375 57.328125 23.390625 \r\nQ 57.328125 12.15625 50.6875 5.359375 \r\nQ 44.046875 -1.421875 33.015625 -1.421875 \r\nQ 20.359375 -1.421875 13.671875 8.265625 \r\nQ 6.984375 17.96875 6.984375 36.375 \r\nQ 6.984375 53.65625 15.1875 63.9375 \r\nQ 23.390625 74.21875 37.203125 74.21875 \r\nQ 40.921875 74.21875 44.703125 73.484375 \r\nQ 48.484375 72.75 52.59375 71.296875 \r\nz\r\n\" id=\"DejaVuSans-54\"/>\r\n        <path d=\"M 19.1875 8.296875 \r\nL 53.609375 8.296875 \r\nL 53.609375 0 \r\nL 7.328125 0 \r\nL 7.328125 8.296875 \r\nQ 12.9375 14.109375 22.625 23.890625 \r\nQ 32.328125 33.6875 34.8125 36.53125 \r\nQ 39.546875 41.84375 41.421875 45.53125 \r\nQ 43.3125 49.21875 43.3125 52.78125 \r\nQ 43.3125 58.59375 39.234375 62.25 \r\nQ 35.15625 65.921875 28.609375 65.921875 \r\nQ 23.96875 65.921875 18.8125 64.3125 \r\nQ 13.671875 62.703125 7.8125 59.421875 \r\nL 7.8125 69.390625 \r\nQ 13.765625 71.78125 18.9375 73 \r\nQ 24.125 74.21875 28.421875 74.21875 \r\nQ 39.75 74.21875 46.484375 68.546875 \r\nQ 53.21875 62.890625 53.21875 53.421875 \r\nQ 53.21875 48.921875 51.53125 44.890625 \r\nQ 49.859375 40.875 45.40625 35.40625 \r\nQ 44.1875 33.984375 37.640625 27.21875 \r\nQ 31.109375 20.453125 19.1875 8.296875 \r\nz\r\n\" id=\"DejaVuSans-50\"/>\r\n       </defs>\r\n       <use xlink:href=\"#DejaVuSans-54\"/>\r\n       <use x=\"63.623047\" xlink:href=\"#DejaVuSans-50\"/>\r\n      </g>\r\n     </g>\r\n    </g>\r\n    <g id=\"xtick_8\">\r\n     <g id=\"line2d_8\">\r\n      <g>\r\n       <use style=\"stroke:#000000;stroke-width:0.8;\" x=\"78.315625\" xlink:href=\"#m34006741bc\" y=\"224.64\"/>\r\n      </g>\r\n     </g>\r\n     <g id=\"text_8\">\r\n      <!-- 5 -->\r\n      <g transform=\"translate(75.134375 239.238437)scale(0.1 -0.1)\">\r\n       <defs>\r\n        <path d=\"M 10.796875 72.90625 \r\nL 49.515625 72.90625 \r\nL 49.515625 64.59375 \r\nL 19.828125 64.59375 \r\nL 19.828125 46.734375 \r\nQ 21.96875 47.46875 24.109375 47.828125 \r\nQ 26.265625 48.1875 28.421875 48.1875 \r\nQ 40.625 48.1875 47.75 41.5 \r\nQ 54.890625 34.8125 54.890625 23.390625 \r\nQ 54.890625 11.625 47.5625 5.09375 \r\nQ 40.234375 -1.421875 26.90625 -1.421875 \r\nQ 22.3125 -1.421875 17.546875 -0.640625 \r\nQ 12.796875 0.140625 7.71875 1.703125 \r\nL 7.71875 11.625 \r\nQ 12.109375 9.234375 16.796875 8.0625 \r\nQ 21.484375 6.890625 26.703125 6.890625 \r\nQ 35.15625 6.890625 40.078125 11.328125 \r\nQ 45.015625 15.765625 45.015625 23.390625 \r\nQ 45.015625 31 40.078125 35.4375 \r\nQ 35.15625 39.890625 26.703125 39.890625 \r\nQ 22.75 39.890625 18.8125 39.015625 \r\nQ 14.890625 38.140625 10.796875 36.28125 \r\nz\r\n\" id=\"DejaVuSans-53\"/>\r\n       </defs>\r\n       <use xlink:href=\"#DejaVuSans-53\"/>\r\n      </g>\r\n     </g>\r\n    </g>\r\n    <g id=\"xtick_9\">\r\n     <g id=\"line2d_9\">\r\n      <g>\r\n       <use style=\"stroke:#000000;stroke-width:0.8;\" x=\"83.546875\" xlink:href=\"#m34006741bc\" y=\"224.64\"/>\r\n      </g>\r\n     </g>\r\n     <g id=\"text_9\">\r\n      <!-- 6 -->\r\n      <g transform=\"translate(80.365625 239.238437)scale(0.1 -0.1)\">\r\n       <use xlink:href=\"#DejaVuSans-54\"/>\r\n      </g>\r\n     </g>\r\n    </g>\r\n    <g id=\"xtick_10\">\r\n     <g id=\"line2d_10\">\r\n      <g>\r\n       <use style=\"stroke:#000000;stroke-width:0.8;\" x=\"88.778125\" xlink:href=\"#m34006741bc\" y=\"224.64\"/>\r\n      </g>\r\n     </g>\r\n     <g id=\"text_10\">\r\n      <!-- 2 -->\r\n      <g transform=\"translate(85.596875 239.238437)scale(0.1 -0.1)\">\r\n       <use xlink:href=\"#DejaVuSans-50\"/>\r\n      </g>\r\n     </g>\r\n    </g>\r\n    <g id=\"xtick_11\">\r\n     <g id=\"line2d_11\">\r\n      <g>\r\n       <use style=\"stroke:#000000;stroke-width:0.8;\" x=\"94.009375\" xlink:href=\"#m34006741bc\" y=\"224.64\"/>\r\n      </g>\r\n     </g>\r\n     <g id=\"text_11\">\r\n      <!-- 4 -->\r\n      <g transform=\"translate(90.828125 239.238437)scale(0.1 -0.1)\">\r\n       <defs>\r\n        <path d=\"M 37.796875 64.3125 \r\nL 12.890625 25.390625 \r\nL 37.796875 25.390625 \r\nz\r\nM 35.203125 72.90625 \r\nL 47.609375 72.90625 \r\nL 47.609375 25.390625 \r\nL 58.015625 25.390625 \r\nL 58.015625 17.1875 \r\nL 47.609375 17.1875 \r\nL 47.609375 0 \r\nL 37.796875 0 \r\nL 37.796875 17.1875 \r\nL 4.890625 17.1875 \r\nL 4.890625 26.703125 \r\nz\r\n\" id=\"DejaVuSans-52\"/>\r\n       </defs>\r\n       <use xlink:href=\"#DejaVuSans-52\"/>\r\n      </g>\r\n     </g>\r\n    </g>\r\n    <g id=\"xtick_12\">\r\n     <g id=\"line2d_12\">\r\n      <g>\r\n       <use style=\"stroke:#000000;stroke-width:0.8;\" x=\"99.240625\" xlink:href=\"#m34006741bc\" y=\"224.64\"/>\r\n      </g>\r\n     </g>\r\n     <g id=\"text_12\">\r\n      <!-- 39 -->\r\n      <g transform=\"translate(92.878125 239.238437)scale(0.1 -0.1)\">\r\n       <use xlink:href=\"#DejaVuSans-51\"/>\r\n       <use x=\"63.623047\" xlink:href=\"#DejaVuSans-57\"/>\r\n      </g>\r\n     </g>\r\n    </g>\r\n    <g id=\"xtick_13\">\r\n     <g id=\"line2d_13\">\r\n      <g>\r\n       <use style=\"stroke:#000000;stroke-width:0.8;\" x=\"104.471875\" xlink:href=\"#m34006741bc\" y=\"224.64\"/>\r\n      </g>\r\n     </g>\r\n     <g id=\"text_13\">\r\n      <!-- 32 -->\r\n      <g transform=\"translate(98.109375 239.238437)scale(0.1 -0.1)\">\r\n       <use xlink:href=\"#DejaVuSans-51\"/>\r\n       <use x=\"63.623047\" xlink:href=\"#DejaVuSans-50\"/>\r\n      </g>\r\n     </g>\r\n    </g>\r\n    <g id=\"xtick_14\">\r\n     <g id=\"line2d_14\">\r\n      <g>\r\n       <use style=\"stroke:#000000;stroke-width:0.8;\" x=\"109.703125\" xlink:href=\"#m34006741bc\" y=\"224.64\"/>\r\n      </g>\r\n     </g>\r\n     <g id=\"text_14\">\r\n      <!-- 37 -->\r\n      <g transform=\"translate(103.340625 239.238437)scale(0.1 -0.1)\">\r\n       <use xlink:href=\"#DejaVuSans-51\"/>\r\n       <use x=\"63.623047\" xlink:href=\"#DejaVuSans-55\"/>\r\n      </g>\r\n     </g>\r\n    </g>\r\n    <g id=\"xtick_15\">\r\n     <g id=\"line2d_15\">\r\n      <g>\r\n       <use style=\"stroke:#000000;stroke-width:0.8;\" x=\"114.934375\" xlink:href=\"#m34006741bc\" y=\"224.64\"/>\r\n      </g>\r\n     </g>\r\n     <g id=\"text_15\">\r\n      <!-- 10 -->\r\n      <g transform=\"translate(108.571875 239.238437)scale(0.1 -0.1)\">\r\n       <use xlink:href=\"#DejaVuSans-49\"/>\r\n       <use x=\"63.623047\" xlink:href=\"#DejaVuSans-48\"/>\r\n      </g>\r\n     </g>\r\n    </g>\r\n    <g id=\"xtick_16\">\r\n     <g id=\"line2d_16\">\r\n      <g>\r\n       <use style=\"stroke:#000000;stroke-width:0.8;\" x=\"120.165625\" xlink:href=\"#m34006741bc\" y=\"224.64\"/>\r\n      </g>\r\n     </g>\r\n     <g id=\"text_16\">\r\n      <!-- 57 -->\r\n      <g transform=\"translate(113.803125 239.238437)scale(0.1 -0.1)\">\r\n       <use xlink:href=\"#DejaVuSans-53\"/>\r\n       <use x=\"63.623047\" xlink:href=\"#DejaVuSans-55\"/>\r\n      </g>\r\n     </g>\r\n    </g>\r\n    <g id=\"xtick_17\">\r\n     <g id=\"line2d_17\">\r\n      <g>\r\n       <use style=\"stroke:#000000;stroke-width:0.8;\" x=\"125.396875\" xlink:href=\"#m34006741bc\" y=\"224.64\"/>\r\n      </g>\r\n     </g>\r\n     <g id=\"text_17\">\r\n      <!-- 23 -->\r\n      <g transform=\"translate(119.034375 239.238437)scale(0.1 -0.1)\">\r\n       <use xlink:href=\"#DejaVuSans-50\"/>\r\n       <use x=\"63.623047\" xlink:href=\"#DejaVuSans-51\"/>\r\n      </g>\r\n     </g>\r\n    </g>\r\n    <g id=\"xtick_18\">\r\n     <g id=\"line2d_18\">\r\n      <g>\r\n       <use style=\"stroke:#000000;stroke-width:0.8;\" x=\"130.628125\" xlink:href=\"#m34006741bc\" y=\"224.64\"/>\r\n      </g>\r\n     </g>\r\n     <g id=\"text_18\">\r\n      <!-- 56 -->\r\n      <g transform=\"translate(124.265625 239.238437)scale(0.1 -0.1)\">\r\n       <use xlink:href=\"#DejaVuSans-53\"/>\r\n       <use x=\"63.623047\" xlink:href=\"#DejaVuSans-54\"/>\r\n      </g>\r\n     </g>\r\n    </g>\r\n    <g id=\"xtick_19\">\r\n     <g id=\"line2d_19\">\r\n      <g>\r\n       <use style=\"stroke:#000000;stroke-width:0.8;\" x=\"135.859375\" xlink:href=\"#m34006741bc\" y=\"224.64\"/>\r\n      </g>\r\n     </g>\r\n     <g id=\"text_19\">\r\n      <!-- 24 -->\r\n      <g transform=\"translate(129.496875 239.238437)scale(0.1 -0.1)\">\r\n       <use xlink:href=\"#DejaVuSans-50\"/>\r\n       <use x=\"63.623047\" xlink:href=\"#DejaVuSans-52\"/>\r\n      </g>\r\n     </g>\r\n    </g>\r\n    <g id=\"xtick_20\">\r\n     <g id=\"line2d_20\">\r\n      <g>\r\n       <use style=\"stroke:#000000;stroke-width:0.8;\" x=\"141.090625\" xlink:href=\"#m34006741bc\" y=\"224.64\"/>\r\n      </g>\r\n     </g>\r\n     <g id=\"text_20\">\r\n      <!-- 29 -->\r\n      <g transform=\"translate(134.728125 239.238437)scale(0.1 -0.1)\">\r\n       <use xlink:href=\"#DejaVuSans-50\"/>\r\n       <use x=\"63.623047\" xlink:href=\"#DejaVuSans-57\"/>\r\n      </g>\r\n     </g>\r\n    </g>\r\n    <g id=\"xtick_21\">\r\n     <g id=\"line2d_21\">\r\n      <g>\r\n       <use style=\"stroke:#000000;stroke-width:0.8;\" x=\"146.321875\" xlink:href=\"#m34006741bc\" y=\"224.64\"/>\r\n      </g>\r\n     </g>\r\n     <g id=\"text_21\">\r\n      <!-- 58 -->\r\n      <g transform=\"translate(139.959375 239.238437)scale(0.1 -0.1)\">\r\n       <use xlink:href=\"#DejaVuSans-53\"/>\r\n       <use x=\"63.623047\" xlink:href=\"#DejaVuSans-56\"/>\r\n      </g>\r\n     </g>\r\n    </g>\r\n    <g id=\"xtick_22\">\r\n     <g id=\"line2d_22\">\r\n      <g>\r\n       <use style=\"stroke:#000000;stroke-width:0.8;\" x=\"151.553125\" xlink:href=\"#m34006741bc\" y=\"224.64\"/>\r\n      </g>\r\n     </g>\r\n     <g id=\"text_22\">\r\n      <!-- 61 -->\r\n      <g transform=\"translate(145.190625 239.238437)scale(0.1 -0.1)\">\r\n       <use xlink:href=\"#DejaVuSans-54\"/>\r\n       <use x=\"63.623047\" xlink:href=\"#DejaVuSans-49\"/>\r\n      </g>\r\n     </g>\r\n    </g>\r\n    <g id=\"xtick_23\">\r\n     <g id=\"line2d_23\">\r\n      <g>\r\n       <use style=\"stroke:#000000;stroke-width:0.8;\" x=\"156.784375\" xlink:href=\"#m34006741bc\" y=\"224.64\"/>\r\n      </g>\r\n     </g>\r\n     <g id=\"text_23\">\r\n      <!-- 59 -->\r\n      <g transform=\"translate(150.421875 239.238437)scale(0.1 -0.1)\">\r\n       <use xlink:href=\"#DejaVuSans-53\"/>\r\n       <use x=\"63.623047\" xlink:href=\"#DejaVuSans-57\"/>\r\n      </g>\r\n     </g>\r\n    </g>\r\n    <g id=\"xtick_24\">\r\n     <g id=\"line2d_24\">\r\n      <g>\r\n       <use style=\"stroke:#000000;stroke-width:0.8;\" x=\"162.015625\" xlink:href=\"#m34006741bc\" y=\"224.64\"/>\r\n      </g>\r\n     </g>\r\n     <g id=\"text_24\">\r\n      <!-- 55 -->\r\n      <g transform=\"translate(155.653125 239.238437)scale(0.1 -0.1)\">\r\n       <use xlink:href=\"#DejaVuSans-53\"/>\r\n       <use x=\"63.623047\" xlink:href=\"#DejaVuSans-53\"/>\r\n      </g>\r\n     </g>\r\n    </g>\r\n    <g id=\"xtick_25\">\r\n     <g id=\"line2d_25\">\r\n      <g>\r\n       <use style=\"stroke:#000000;stroke-width:0.8;\" x=\"167.246875\" xlink:href=\"#m34006741bc\" y=\"224.64\"/>\r\n      </g>\r\n     </g>\r\n     <g id=\"text_25\">\r\n      <!-- 60 -->\r\n      <g transform=\"translate(160.884375 239.238437)scale(0.1 -0.1)\">\r\n       <use xlink:href=\"#DejaVuSans-54\"/>\r\n       <use x=\"63.623047\" xlink:href=\"#DejaVuSans-48\"/>\r\n      </g>\r\n     </g>\r\n    </g>\r\n    <g id=\"xtick_26\">\r\n     <g id=\"line2d_26\">\r\n      <g>\r\n       <use style=\"stroke:#000000;stroke-width:0.8;\" x=\"172.478125\" xlink:href=\"#m34006741bc\" y=\"224.64\"/>\r\n      </g>\r\n     </g>\r\n     <g id=\"text_26\">\r\n      <!-- 19 -->\r\n      <g transform=\"translate(166.115625 239.238437)scale(0.1 -0.1)\">\r\n       <use xlink:href=\"#DejaVuSans-49\"/>\r\n       <use x=\"63.623047\" xlink:href=\"#DejaVuSans-57\"/>\r\n      </g>\r\n     </g>\r\n    </g>\r\n    <g id=\"xtick_27\">\r\n     <g id=\"line2d_27\">\r\n      <g>\r\n       <use style=\"stroke:#000000;stroke-width:0.8;\" x=\"177.709375\" xlink:href=\"#m34006741bc\" y=\"224.64\"/>\r\n      </g>\r\n     </g>\r\n     <g id=\"text_27\">\r\n      <!-- 43 -->\r\n      <g transform=\"translate(171.346875 239.238437)scale(0.1 -0.1)\">\r\n       <use xlink:href=\"#DejaVuSans-52\"/>\r\n       <use x=\"63.623047\" xlink:href=\"#DejaVuSans-51\"/>\r\n      </g>\r\n     </g>\r\n    </g>\r\n    <g id=\"xtick_28\">\r\n     <g id=\"line2d_28\">\r\n      <g>\r\n       <use style=\"stroke:#000000;stroke-width:0.8;\" x=\"182.940625\" xlink:href=\"#m34006741bc\" y=\"224.64\"/>\r\n      </g>\r\n     </g>\r\n     <g id=\"text_28\">\r\n      <!-- 44 -->\r\n      <g transform=\"translate(176.578125 239.238437)scale(0.1 -0.1)\">\r\n       <use xlink:href=\"#DejaVuSans-52\"/>\r\n       <use x=\"63.623047\" xlink:href=\"#DejaVuSans-52\"/>\r\n      </g>\r\n     </g>\r\n    </g>\r\n    <g id=\"xtick_29\">\r\n     <g id=\"line2d_29\">\r\n      <g>\r\n       <use style=\"stroke:#000000;stroke-width:0.8;\" x=\"188.171875\" xlink:href=\"#m34006741bc\" y=\"224.64\"/>\r\n      </g>\r\n     </g>\r\n     <g id=\"text_29\">\r\n      <!-- 40 -->\r\n      <g transform=\"translate(181.809375 239.238437)scale(0.1 -0.1)\">\r\n       <use xlink:href=\"#DejaVuSans-52\"/>\r\n       <use x=\"63.623047\" xlink:href=\"#DejaVuSans-48\"/>\r\n      </g>\r\n     </g>\r\n    </g>\r\n    <g id=\"xtick_30\">\r\n     <g id=\"line2d_30\">\r\n      <g>\r\n       <use style=\"stroke:#000000;stroke-width:0.8;\" x=\"193.403125\" xlink:href=\"#m34006741bc\" y=\"224.64\"/>\r\n      </g>\r\n     </g>\r\n     <g id=\"text_30\">\r\n      <!-- 31 -->\r\n      <g transform=\"translate(187.040625 239.238437)scale(0.1 -0.1)\">\r\n       <use xlink:href=\"#DejaVuSans-51\"/>\r\n       <use x=\"63.623047\" xlink:href=\"#DejaVuSans-49\"/>\r\n      </g>\r\n     </g>\r\n    </g>\r\n    <g id=\"xtick_31\">\r\n     <g id=\"line2d_31\">\r\n      <g>\r\n       <use style=\"stroke:#000000;stroke-width:0.8;\" x=\"198.634375\" xlink:href=\"#m34006741bc\" y=\"224.64\"/>\r\n      </g>\r\n     </g>\r\n     <g id=\"text_31\">\r\n      <!-- 11 -->\r\n      <g transform=\"translate(192.271875 239.238437)scale(0.1 -0.1)\">\r\n       <use xlink:href=\"#DejaVuSans-49\"/>\r\n       <use x=\"63.623047\" xlink:href=\"#DejaVuSans-49\"/>\r\n      </g>\r\n     </g>\r\n    </g>\r\n    <g id=\"xtick_32\">\r\n     <g id=\"line2d_32\">\r\n      <g>\r\n       <use style=\"stroke:#000000;stroke-width:0.8;\" x=\"203.865625\" xlink:href=\"#m34006741bc\" y=\"224.64\"/>\r\n      </g>\r\n     </g>\r\n     <g id=\"text_32\">\r\n      <!-- 42 -->\r\n      <g transform=\"translate(197.503125 239.238437)scale(0.1 -0.1)\">\r\n       <use xlink:href=\"#DejaVuSans-52\"/>\r\n       <use x=\"63.623047\" xlink:href=\"#DejaVuSans-50\"/>\r\n      </g>\r\n     </g>\r\n    </g>\r\n    <g id=\"xtick_33\">\r\n     <g id=\"line2d_33\">\r\n      <g>\r\n       <use style=\"stroke:#000000;stroke-width:0.8;\" x=\"209.096875\" xlink:href=\"#m34006741bc\" y=\"224.64\"/>\r\n      </g>\r\n     </g>\r\n     <g id=\"text_33\">\r\n      <!-- 50 -->\r\n      <g transform=\"translate(202.734375 239.238437)scale(0.1 -0.1)\">\r\n       <use xlink:href=\"#DejaVuSans-53\"/>\r\n       <use x=\"63.623047\" xlink:href=\"#DejaVuSans-48\"/>\r\n      </g>\r\n     </g>\r\n    </g>\r\n    <g id=\"xtick_34\">\r\n     <g id=\"line2d_34\">\r\n      <g>\r\n       <use style=\"stroke:#000000;stroke-width:0.8;\" x=\"214.328125\" xlink:href=\"#m34006741bc\" y=\"224.64\"/>\r\n      </g>\r\n     </g>\r\n     <g id=\"text_34\">\r\n      <!-- 53 -->\r\n      <g transform=\"translate(207.965625 239.238437)scale(0.1 -0.1)\">\r\n       <use xlink:href=\"#DejaVuSans-53\"/>\r\n       <use x=\"63.623047\" xlink:href=\"#DejaVuSans-51\"/>\r\n      </g>\r\n     </g>\r\n    </g>\r\n    <g id=\"xtick_35\">\r\n     <g id=\"line2d_35\">\r\n      <g>\r\n       <use style=\"stroke:#000000;stroke-width:0.8;\" x=\"219.559375\" xlink:href=\"#m34006741bc\" y=\"224.64\"/>\r\n      </g>\r\n     </g>\r\n     <g id=\"text_35\">\r\n      <!-- 51 -->\r\n      <g transform=\"translate(213.196875 239.238437)scale(0.1 -0.1)\">\r\n       <use xlink:href=\"#DejaVuSans-53\"/>\r\n       <use x=\"63.623047\" xlink:href=\"#DejaVuSans-49\"/>\r\n      </g>\r\n     </g>\r\n    </g>\r\n    <g id=\"xtick_36\">\r\n     <g id=\"line2d_36\">\r\n      <g>\r\n       <use style=\"stroke:#000000;stroke-width:0.8;\" x=\"224.790625\" xlink:href=\"#m34006741bc\" y=\"224.64\"/>\r\n      </g>\r\n     </g>\r\n     <g id=\"text_36\">\r\n      <!-- 28 -->\r\n      <g transform=\"translate(218.428125 239.238437)scale(0.1 -0.1)\">\r\n       <use xlink:href=\"#DejaVuSans-50\"/>\r\n       <use x=\"63.623047\" xlink:href=\"#DejaVuSans-56\"/>\r\n      </g>\r\n     </g>\r\n    </g>\r\n    <g id=\"xtick_37\">\r\n     <g id=\"line2d_37\">\r\n      <g>\r\n       <use style=\"stroke:#000000;stroke-width:0.8;\" x=\"230.021875\" xlink:href=\"#m34006741bc\" y=\"224.64\"/>\r\n      </g>\r\n     </g>\r\n     <g id=\"text_37\">\r\n      <!-- 22 -->\r\n      <g transform=\"translate(223.659375 239.238437)scale(0.1 -0.1)\">\r\n       <use xlink:href=\"#DejaVuSans-50\"/>\r\n       <use x=\"63.623047\" xlink:href=\"#DejaVuSans-50\"/>\r\n      </g>\r\n     </g>\r\n    </g>\r\n    <g id=\"xtick_38\">\r\n     <g id=\"line2d_38\">\r\n      <g>\r\n       <use style=\"stroke:#000000;stroke-width:0.8;\" x=\"235.253125\" xlink:href=\"#m34006741bc\" y=\"224.64\"/>\r\n      </g>\r\n     </g>\r\n     <g id=\"text_38\">\r\n      <!-- 26 -->\r\n      <g transform=\"translate(228.890625 239.238437)scale(0.1 -0.1)\">\r\n       <use xlink:href=\"#DejaVuSans-50\"/>\r\n       <use x=\"63.623047\" xlink:href=\"#DejaVuSans-54\"/>\r\n      </g>\r\n     </g>\r\n    </g>\r\n    <g id=\"xtick_39\">\r\n     <g id=\"line2d_39\">\r\n      <g>\r\n       <use style=\"stroke:#000000;stroke-width:0.8;\" x=\"240.484375\" xlink:href=\"#m34006741bc\" y=\"224.64\"/>\r\n      </g>\r\n     </g>\r\n     <g id=\"text_39\">\r\n      <!-- 15 -->\r\n      <g transform=\"translate(234.121875 239.238437)scale(0.1 -0.1)\">\r\n       <use xlink:href=\"#DejaVuSans-49\"/>\r\n       <use x=\"63.623047\" xlink:href=\"#DejaVuSans-53\"/>\r\n      </g>\r\n     </g>\r\n    </g>\r\n    <g id=\"xtick_40\">\r\n     <g id=\"line2d_40\">\r\n      <g>\r\n       <use style=\"stroke:#000000;stroke-width:0.8;\" x=\"245.715625\" xlink:href=\"#m34006741bc\" y=\"224.64\"/>\r\n      </g>\r\n     </g>\r\n     <g id=\"text_40\">\r\n      <!-- 14 -->\r\n      <g transform=\"translate(239.353125 239.238437)scale(0.1 -0.1)\">\r\n       <use xlink:href=\"#DejaVuSans-49\"/>\r\n       <use x=\"63.623047\" xlink:href=\"#DejaVuSans-52\"/>\r\n      </g>\r\n     </g>\r\n    </g>\r\n    <g id=\"xtick_41\">\r\n     <g id=\"line2d_41\">\r\n      <g>\r\n       <use style=\"stroke:#000000;stroke-width:0.8;\" x=\"250.946875\" xlink:href=\"#m34006741bc\" y=\"224.64\"/>\r\n      </g>\r\n     </g>\r\n     <g id=\"text_41\">\r\n      <!-- 34 -->\r\n      <g transform=\"translate(244.584375 239.238437)scale(0.1 -0.1)\">\r\n       <use xlink:href=\"#DejaVuSans-51\"/>\r\n       <use x=\"63.623047\" xlink:href=\"#DejaVuSans-52\"/>\r\n      </g>\r\n     </g>\r\n    </g>\r\n    <g id=\"xtick_42\">\r\n     <g id=\"line2d_42\">\r\n      <g>\r\n       <use style=\"stroke:#000000;stroke-width:0.8;\" x=\"256.178125\" xlink:href=\"#m34006741bc\" y=\"224.64\"/>\r\n      </g>\r\n     </g>\r\n     <g id=\"text_42\">\r\n      <!-- 17 -->\r\n      <g transform=\"translate(249.815625 239.238437)scale(0.1 -0.1)\">\r\n       <use xlink:href=\"#DejaVuSans-49\"/>\r\n       <use x=\"63.623047\" xlink:href=\"#DejaVuSans-55\"/>\r\n      </g>\r\n     </g>\r\n    </g>\r\n    <g id=\"xtick_43\">\r\n     <g id=\"line2d_43\">\r\n      <g>\r\n       <use style=\"stroke:#000000;stroke-width:0.8;\" x=\"261.409375\" xlink:href=\"#m34006741bc\" y=\"224.64\"/>\r\n      </g>\r\n     </g>\r\n     <g id=\"text_43\">\r\n      <!-- 35 -->\r\n      <g transform=\"translate(255.046875 239.238437)scale(0.1 -0.1)\">\r\n       <use xlink:href=\"#DejaVuSans-51\"/>\r\n       <use x=\"63.623047\" xlink:href=\"#DejaVuSans-53\"/>\r\n      </g>\r\n     </g>\r\n    </g>\r\n    <g id=\"xtick_44\">\r\n     <g id=\"line2d_44\">\r\n      <g>\r\n       <use style=\"stroke:#000000;stroke-width:0.8;\" x=\"266.640625\" xlink:href=\"#m34006741bc\" y=\"224.64\"/>\r\n      </g>\r\n     </g>\r\n     <g id=\"text_44\">\r\n      <!-- 45 -->\r\n      <g transform=\"translate(260.278125 239.238437)scale(0.1 -0.1)\">\r\n       <use xlink:href=\"#DejaVuSans-52\"/>\r\n       <use x=\"63.623047\" xlink:href=\"#DejaVuSans-53\"/>\r\n      </g>\r\n     </g>\r\n    </g>\r\n    <g id=\"xtick_45\">\r\n     <g id=\"line2d_45\">\r\n      <g>\r\n       <use style=\"stroke:#000000;stroke-width:0.8;\" x=\"271.871875\" xlink:href=\"#m34006741bc\" y=\"224.64\"/>\r\n      </g>\r\n     </g>\r\n     <g id=\"text_45\">\r\n      <!-- 18 -->\r\n      <g transform=\"translate(265.509375 239.238437)scale(0.1 -0.1)\">\r\n       <use xlink:href=\"#DejaVuSans-49\"/>\r\n       <use x=\"63.623047\" xlink:href=\"#DejaVuSans-56\"/>\r\n      </g>\r\n     </g>\r\n    </g>\r\n    <g id=\"xtick_46\">\r\n     <g id=\"line2d_46\">\r\n      <g>\r\n       <use style=\"stroke:#000000;stroke-width:0.8;\" x=\"277.103125\" xlink:href=\"#m34006741bc\" y=\"224.64\"/>\r\n      </g>\r\n     </g>\r\n     <g id=\"text_46\">\r\n      <!-- 49 -->\r\n      <g transform=\"translate(270.740625 239.238437)scale(0.1 -0.1)\">\r\n       <use xlink:href=\"#DejaVuSans-52\"/>\r\n       <use x=\"63.623047\" xlink:href=\"#DejaVuSans-57\"/>\r\n      </g>\r\n     </g>\r\n    </g>\r\n    <g id=\"xtick_47\">\r\n     <g id=\"line2d_47\">\r\n      <g>\r\n       <use style=\"stroke:#000000;stroke-width:0.8;\" x=\"282.334375\" xlink:href=\"#m34006741bc\" y=\"224.64\"/>\r\n      </g>\r\n     </g>\r\n     <g id=\"text_47\">\r\n      <!-- 33 -->\r\n      <g transform=\"translate(275.971875 239.238437)scale(0.1 -0.1)\">\r\n       <use xlink:href=\"#DejaVuSans-51\"/>\r\n       <use x=\"63.623047\" xlink:href=\"#DejaVuSans-51\"/>\r\n      </g>\r\n     </g>\r\n    </g>\r\n    <g id=\"xtick_48\">\r\n     <g id=\"line2d_48\">\r\n      <g>\r\n       <use style=\"stroke:#000000;stroke-width:0.8;\" x=\"287.565625\" xlink:href=\"#m34006741bc\" y=\"224.64\"/>\r\n      </g>\r\n     </g>\r\n     <g id=\"text_48\">\r\n      <!-- 48 -->\r\n      <g transform=\"translate(281.203125 239.238437)scale(0.1 -0.1)\">\r\n       <use xlink:href=\"#DejaVuSans-52\"/>\r\n       <use x=\"63.623047\" xlink:href=\"#DejaVuSans-56\"/>\r\n      </g>\r\n     </g>\r\n    </g>\r\n    <g id=\"xtick_49\">\r\n     <g id=\"line2d_49\">\r\n      <g>\r\n       <use style=\"stroke:#000000;stroke-width:0.8;\" x=\"292.796875\" xlink:href=\"#m34006741bc\" y=\"224.64\"/>\r\n      </g>\r\n     </g>\r\n     <g id=\"text_49\">\r\n      <!-- 54 -->\r\n      <g transform=\"translate(286.434375 239.238437)scale(0.1 -0.1)\">\r\n       <use xlink:href=\"#DejaVuSans-53\"/>\r\n       <use x=\"63.623047\" xlink:href=\"#DejaVuSans-52\"/>\r\n      </g>\r\n     </g>\r\n    </g>\r\n    <g id=\"xtick_50\">\r\n     <g id=\"line2d_50\">\r\n      <g>\r\n       <use style=\"stroke:#000000;stroke-width:0.8;\" x=\"298.028125\" xlink:href=\"#m34006741bc\" y=\"224.64\"/>\r\n      </g>\r\n     </g>\r\n     <g id=\"text_50\">\r\n      <!-- 27 -->\r\n      <g transform=\"translate(291.665625 239.238437)scale(0.1 -0.1)\">\r\n       <use xlink:href=\"#DejaVuSans-50\"/>\r\n       <use x=\"63.623047\" xlink:href=\"#DejaVuSans-55\"/>\r\n      </g>\r\n     </g>\r\n    </g>\r\n    <g id=\"xtick_51\">\r\n     <g id=\"line2d_51\">\r\n      <g>\r\n       <use style=\"stroke:#000000;stroke-width:0.8;\" x=\"303.259375\" xlink:href=\"#m34006741bc\" y=\"224.64\"/>\r\n      </g>\r\n     </g>\r\n     <g id=\"text_51\">\r\n      <!-- 46 -->\r\n      <g transform=\"translate(296.896875 239.238437)scale(0.1 -0.1)\">\r\n       <use xlink:href=\"#DejaVuSans-52\"/>\r\n       <use x=\"63.623047\" xlink:href=\"#DejaVuSans-54\"/>\r\n      </g>\r\n     </g>\r\n    </g>\r\n    <g id=\"xtick_52\">\r\n     <g id=\"line2d_52\">\r\n      <g>\r\n       <use style=\"stroke:#000000;stroke-width:0.8;\" x=\"308.490625\" xlink:href=\"#m34006741bc\" y=\"224.64\"/>\r\n      </g>\r\n     </g>\r\n     <g id=\"text_52\">\r\n      <!-- 16 -->\r\n      <g transform=\"translate(302.128125 239.238437)scale(0.1 -0.1)\">\r\n       <use xlink:href=\"#DejaVuSans-49\"/>\r\n       <use x=\"63.623047\" xlink:href=\"#DejaVuSans-54\"/>\r\n      </g>\r\n     </g>\r\n    </g>\r\n    <g id=\"xtick_53\">\r\n     <g id=\"line2d_53\">\r\n      <g>\r\n       <use style=\"stroke:#000000;stroke-width:0.8;\" x=\"313.721875\" xlink:href=\"#m34006741bc\" y=\"224.64\"/>\r\n      </g>\r\n     </g>\r\n     <g id=\"text_53\">\r\n      <!-- 52 -->\r\n      <g transform=\"translate(307.359375 239.238437)scale(0.1 -0.1)\">\r\n       <use xlink:href=\"#DejaVuSans-53\"/>\r\n       <use x=\"63.623047\" xlink:href=\"#DejaVuSans-50\"/>\r\n      </g>\r\n     </g>\r\n    </g>\r\n    <g id=\"xtick_54\">\r\n     <g id=\"line2d_54\">\r\n      <g>\r\n       <use style=\"stroke:#000000;stroke-width:0.8;\" x=\"318.953125\" xlink:href=\"#m34006741bc\" y=\"224.64\"/>\r\n      </g>\r\n     </g>\r\n     <g id=\"text_54\">\r\n      <!-- 20 -->\r\n      <g transform=\"translate(312.590625 239.238437)scale(0.1 -0.1)\">\r\n       <use xlink:href=\"#DejaVuSans-50\"/>\r\n       <use x=\"63.623047\" xlink:href=\"#DejaVuSans-48\"/>\r\n      </g>\r\n     </g>\r\n    </g>\r\n    <g id=\"xtick_55\">\r\n     <g id=\"line2d_55\">\r\n      <g>\r\n       <use style=\"stroke:#000000;stroke-width:0.8;\" x=\"324.184375\" xlink:href=\"#m34006741bc\" y=\"224.64\"/>\r\n      </g>\r\n     </g>\r\n     <g id=\"text_55\">\r\n      <!-- 12 -->\r\n      <g transform=\"translate(317.821875 239.238437)scale(0.1 -0.1)\">\r\n       <use xlink:href=\"#DejaVuSans-49\"/>\r\n       <use x=\"63.623047\" xlink:href=\"#DejaVuSans-50\"/>\r\n      </g>\r\n     </g>\r\n    </g>\r\n    <g id=\"xtick_56\">\r\n     <g id=\"line2d_56\">\r\n      <g>\r\n       <use style=\"stroke:#000000;stroke-width:0.8;\" x=\"329.415625\" xlink:href=\"#m34006741bc\" y=\"224.64\"/>\r\n      </g>\r\n     </g>\r\n     <g id=\"text_56\">\r\n      <!-- 13 -->\r\n      <g transform=\"translate(323.053125 239.238437)scale(0.1 -0.1)\">\r\n       <use xlink:href=\"#DejaVuSans-49\"/>\r\n       <use x=\"63.623047\" xlink:href=\"#DejaVuSans-51\"/>\r\n      </g>\r\n     </g>\r\n    </g>\r\n    <g id=\"xtick_57\">\r\n     <g id=\"line2d_57\">\r\n      <g>\r\n       <use style=\"stroke:#000000;stroke-width:0.8;\" x=\"334.646875\" xlink:href=\"#m34006741bc\" y=\"224.64\"/>\r\n      </g>\r\n     </g>\r\n     <g id=\"text_57\">\r\n      <!-- 38 -->\r\n      <g transform=\"translate(328.284375 239.238437)scale(0.1 -0.1)\">\r\n       <use xlink:href=\"#DejaVuSans-51\"/>\r\n       <use x=\"63.623047\" xlink:href=\"#DejaVuSans-56\"/>\r\n      </g>\r\n     </g>\r\n    </g>\r\n    <g id=\"xtick_58\">\r\n     <g id=\"line2d_58\">\r\n      <g>\r\n       <use style=\"stroke:#000000;stroke-width:0.8;\" x=\"339.878125\" xlink:href=\"#m34006741bc\" y=\"224.64\"/>\r\n      </g>\r\n     </g>\r\n     <g id=\"text_58\">\r\n      <!-- 41 -->\r\n      <g transform=\"translate(333.515625 239.238437)scale(0.1 -0.1)\">\r\n       <use xlink:href=\"#DejaVuSans-52\"/>\r\n       <use x=\"63.623047\" xlink:href=\"#DejaVuSans-49\"/>\r\n      </g>\r\n     </g>\r\n    </g>\r\n    <g id=\"xtick_59\">\r\n     <g id=\"line2d_59\">\r\n      <g>\r\n       <use style=\"stroke:#000000;stroke-width:0.8;\" x=\"345.109375\" xlink:href=\"#m34006741bc\" y=\"224.64\"/>\r\n      </g>\r\n     </g>\r\n     <g id=\"text_59\">\r\n      <!-- 47 -->\r\n      <g transform=\"translate(338.746875 239.238437)scale(0.1 -0.1)\">\r\n       <use xlink:href=\"#DejaVuSans-52\"/>\r\n       <use x=\"63.623047\" xlink:href=\"#DejaVuSans-55\"/>\r\n      </g>\r\n     </g>\r\n    </g>\r\n    <g id=\"xtick_60\">\r\n     <g id=\"line2d_60\">\r\n      <g>\r\n       <use style=\"stroke:#000000;stroke-width:0.8;\" x=\"350.340625\" xlink:href=\"#m34006741bc\" y=\"224.64\"/>\r\n      </g>\r\n     </g>\r\n     <g id=\"text_60\">\r\n      <!-- 21 -->\r\n      <g transform=\"translate(343.978125 239.238437)scale(0.1 -0.1)\">\r\n       <use xlink:href=\"#DejaVuSans-50\"/>\r\n       <use x=\"63.623047\" xlink:href=\"#DejaVuSans-49\"/>\r\n      </g>\r\n     </g>\r\n    </g>\r\n    <g id=\"xtick_61\">\r\n     <g id=\"line2d_61\">\r\n      <g>\r\n       <use style=\"stroke:#000000;stroke-width:0.8;\" x=\"355.571875\" xlink:href=\"#m34006741bc\" y=\"224.64\"/>\r\n      </g>\r\n     </g>\r\n     <g id=\"text_61\">\r\n      <!-- 25 -->\r\n      <g transform=\"translate(349.209375 239.238437)scale(0.1 -0.1)\">\r\n       <use xlink:href=\"#DejaVuSans-50\"/>\r\n       <use x=\"63.623047\" xlink:href=\"#DejaVuSans-53\"/>\r\n      </g>\r\n     </g>\r\n    </g>\r\n    <g id=\"xtick_62\">\r\n     <g id=\"line2d_62\">\r\n      <g>\r\n       <use style=\"stroke:#000000;stroke-width:0.8;\" x=\"360.803125\" xlink:href=\"#m34006741bc\" y=\"224.64\"/>\r\n      </g>\r\n     </g>\r\n     <g id=\"text_62\">\r\n      <!-- 30 -->\r\n      <g transform=\"translate(354.440625 239.238437)scale(0.1 -0.1)\">\r\n       <use xlink:href=\"#DejaVuSans-51\"/>\r\n       <use x=\"63.623047\" xlink:href=\"#DejaVuSans-48\"/>\r\n      </g>\r\n     </g>\r\n    </g>\r\n    <g id=\"xtick_63\">\r\n     <g id=\"line2d_63\">\r\n      <g>\r\n       <use style=\"stroke:#000000;stroke-width:0.8;\" x=\"366.034375\" xlink:href=\"#m34006741bc\" y=\"224.64\"/>\r\n      </g>\r\n     </g>\r\n     <g id=\"text_63\">\r\n      <!-- 36 -->\r\n      <g transform=\"translate(359.671875 239.238437)scale(0.1 -0.1)\">\r\n       <use xlink:href=\"#DejaVuSans-51\"/>\r\n       <use x=\"63.623047\" xlink:href=\"#DejaVuSans-54\"/>\r\n      </g>\r\n     </g>\r\n    </g>\r\n   </g>\r\n   <g id=\"matplotlib.axis_2\">\r\n    <g id=\"ytick_1\">\r\n     <g id=\"line2d_64\">\r\n      <defs>\r\n       <path d=\"M 0 0 \r\nL -3.5 0 \r\n\" id=\"m9240b4cfff\" style=\"stroke:#000000;stroke-width:0.8;\"/>\r\n      </defs>\r\n      <g>\r\n       <use style=\"stroke:#000000;stroke-width:0.8;\" x=\"36.465625\" xlink:href=\"#m9240b4cfff\" y=\"207.988897\"/>\r\n      </g>\r\n     </g>\r\n     <g id=\"text_64\">\r\n      <!-- 0.00 -->\r\n      <g transform=\"translate(7.2 211.788116)scale(0.1 -0.1)\">\r\n       <defs>\r\n        <path d=\"M 10.6875 12.40625 \r\nL 21 12.40625 \r\nL 21 0 \r\nL 10.6875 0 \r\nz\r\n\" id=\"DejaVuSans-46\"/>\r\n       </defs>\r\n       <use xlink:href=\"#DejaVuSans-48\"/>\r\n       <use x=\"63.623047\" xlink:href=\"#DejaVuSans-46\"/>\r\n       <use x=\"95.410156\" xlink:href=\"#DejaVuSans-48\"/>\r\n       <use x=\"159.033203\" xlink:href=\"#DejaVuSans-48\"/>\r\n      </g>\r\n     </g>\r\n    </g>\r\n    <g id=\"ytick_2\">\r\n     <g id=\"line2d_65\">\r\n      <g>\r\n       <use style=\"stroke:#000000;stroke-width:0.8;\" x=\"36.465625\" xlink:href=\"#m9240b4cfff\" y=\"179.912278\"/>\r\n      </g>\r\n     </g>\r\n     <g id=\"text_65\">\r\n      <!-- 0.05 -->\r\n      <g transform=\"translate(7.2 183.711496)scale(0.1 -0.1)\">\r\n       <use xlink:href=\"#DejaVuSans-48\"/>\r\n       <use x=\"63.623047\" xlink:href=\"#DejaVuSans-46\"/>\r\n       <use x=\"95.410156\" xlink:href=\"#DejaVuSans-48\"/>\r\n       <use x=\"159.033203\" xlink:href=\"#DejaVuSans-53\"/>\r\n      </g>\r\n     </g>\r\n    </g>\r\n    <g id=\"ytick_3\">\r\n     <g id=\"line2d_66\">\r\n      <g>\r\n       <use style=\"stroke:#000000;stroke-width:0.8;\" x=\"36.465625\" xlink:href=\"#m9240b4cfff\" y=\"151.835658\"/>\r\n      </g>\r\n     </g>\r\n     <g id=\"text_66\">\r\n      <!-- 0.10 -->\r\n      <g transform=\"translate(7.2 155.634877)scale(0.1 -0.1)\">\r\n       <use xlink:href=\"#DejaVuSans-48\"/>\r\n       <use x=\"63.623047\" xlink:href=\"#DejaVuSans-46\"/>\r\n       <use x=\"95.410156\" xlink:href=\"#DejaVuSans-49\"/>\r\n       <use x=\"159.033203\" xlink:href=\"#DejaVuSans-48\"/>\r\n      </g>\r\n     </g>\r\n    </g>\r\n    <g id=\"ytick_4\">\r\n     <g id=\"line2d_67\">\r\n      <g>\r\n       <use style=\"stroke:#000000;stroke-width:0.8;\" x=\"36.465625\" xlink:href=\"#m9240b4cfff\" y=\"123.759039\"/>\r\n      </g>\r\n     </g>\r\n     <g id=\"text_67\">\r\n      <!-- 0.15 -->\r\n      <g transform=\"translate(7.2 127.558258)scale(0.1 -0.1)\">\r\n       <use xlink:href=\"#DejaVuSans-48\"/>\r\n       <use x=\"63.623047\" xlink:href=\"#DejaVuSans-46\"/>\r\n       <use x=\"95.410156\" xlink:href=\"#DejaVuSans-49\"/>\r\n       <use x=\"159.033203\" xlink:href=\"#DejaVuSans-53\"/>\r\n      </g>\r\n     </g>\r\n    </g>\r\n    <g id=\"ytick_5\">\r\n     <g id=\"line2d_68\">\r\n      <g>\r\n       <use style=\"stroke:#000000;stroke-width:0.8;\" x=\"36.465625\" xlink:href=\"#m9240b4cfff\" y=\"95.68242\"/>\r\n      </g>\r\n     </g>\r\n     <g id=\"text_68\">\r\n      <!-- 0.20 -->\r\n      <g transform=\"translate(7.2 99.481638)scale(0.1 -0.1)\">\r\n       <use xlink:href=\"#DejaVuSans-48\"/>\r\n       <use x=\"63.623047\" xlink:href=\"#DejaVuSans-46\"/>\r\n       <use x=\"95.410156\" xlink:href=\"#DejaVuSans-50\"/>\r\n       <use x=\"159.033203\" xlink:href=\"#DejaVuSans-48\"/>\r\n      </g>\r\n     </g>\r\n    </g>\r\n    <g id=\"ytick_6\">\r\n     <g id=\"line2d_69\">\r\n      <g>\r\n       <use style=\"stroke:#000000;stroke-width:0.8;\" x=\"36.465625\" xlink:href=\"#m9240b4cfff\" y=\"67.6058\"/>\r\n      </g>\r\n     </g>\r\n     <g id=\"text_69\">\r\n      <!-- 0.25 -->\r\n      <g transform=\"translate(7.2 71.405019)scale(0.1 -0.1)\">\r\n       <use xlink:href=\"#DejaVuSans-48\"/>\r\n       <use x=\"63.623047\" xlink:href=\"#DejaVuSans-46\"/>\r\n       <use x=\"95.410156\" xlink:href=\"#DejaVuSans-50\"/>\r\n       <use x=\"159.033203\" xlink:href=\"#DejaVuSans-53\"/>\r\n      </g>\r\n     </g>\r\n    </g>\r\n    <g id=\"ytick_7\">\r\n     <g id=\"line2d_70\">\r\n      <g>\r\n       <use style=\"stroke:#000000;stroke-width:0.8;\" x=\"36.465625\" xlink:href=\"#m9240b4cfff\" y=\"39.529181\"/>\r\n      </g>\r\n     </g>\r\n     <g id=\"text_70\">\r\n      <!-- 0.30 -->\r\n      <g transform=\"translate(7.2 43.3284)scale(0.1 -0.1)\">\r\n       <use xlink:href=\"#DejaVuSans-48\"/>\r\n       <use x=\"63.623047\" xlink:href=\"#DejaVuSans-46\"/>\r\n       <use x=\"95.410156\" xlink:href=\"#DejaVuSans-51\"/>\r\n       <use x=\"159.033203\" xlink:href=\"#DejaVuSans-48\"/>\r\n      </g>\r\n     </g>\r\n    </g>\r\n    <g id=\"ytick_8\">\r\n     <g id=\"line2d_71\">\r\n      <g>\r\n       <use style=\"stroke:#000000;stroke-width:0.8;\" x=\"36.465625\" xlink:href=\"#m9240b4cfff\" y=\"11.452562\"/>\r\n      </g>\r\n     </g>\r\n     <g id=\"text_71\">\r\n      <!-- 0.35 -->\r\n      <g transform=\"translate(7.2 15.25178)scale(0.1 -0.1)\">\r\n       <use xlink:href=\"#DejaVuSans-48\"/>\r\n       <use x=\"63.623047\" xlink:href=\"#DejaVuSans-46\"/>\r\n       <use x=\"95.410156\" xlink:href=\"#DejaVuSans-51\"/>\r\n       <use x=\"159.033203\" xlink:href=\"#DejaVuSans-53\"/>\r\n      </g>\r\n     </g>\r\n    </g>\r\n   </g>\r\n   <g id=\"LineCollection_1\">\r\n    <path clip-path=\"url(#pb0e61773cc)\" d=\"M 41.696875 38.474048 \r\nL 41.696875 17.083636 \r\n\" style=\"fill:none;stroke:#000000;stroke-width:1.5;\"/>\r\n    <path clip-path=\"url(#pb0e61773cc)\" d=\"M 46.928125 191.547153 \r\nL 46.928125 120.307755 \r\n\" style=\"fill:none;stroke:#000000;stroke-width:1.5;\"/>\r\n    <path clip-path=\"url(#pb0e61773cc)\" d=\"M 52.159375 210.776061 \r\nL 52.159375 128.688827 \r\n\" style=\"fill:none;stroke:#000000;stroke-width:1.5;\"/>\r\n    <path clip-path=\"url(#pb0e61773cc)\" d=\"M 57.390625 179.278015 \r\nL 57.390625 167.913977 \r\n\" style=\"fill:none;stroke:#000000;stroke-width:1.5;\"/>\r\n    <path clip-path=\"url(#pb0e61773cc)\" d=\"M 62.621875 212.059318 \r\nL 62.621875 162.369164 \r\n\" style=\"fill:none;stroke:#000000;stroke-width:1.5;\"/>\r\n    <path clip-path=\"url(#pb0e61773cc)\" d=\"M 67.853125 207.033526 \r\nL 67.853125 172.658564 \r\n\" style=\"fill:none;stroke:#000000;stroke-width:1.5;\"/>\r\n    <path clip-path=\"url(#pb0e61773cc)\" d=\"M 73.084375 214.756364 \r\nL 73.084375 165.194933 \r\n\" style=\"fill:none;stroke:#000000;stroke-width:1.5;\"/>\r\n    <path clip-path=\"url(#pb0e61773cc)\" d=\"M 78.315625 211.544195 \r\nL 78.315625 170.885361 \r\n\" style=\"fill:none;stroke:#000000;stroke-width:1.5;\"/>\r\n    <path clip-path=\"url(#pb0e61773cc)\" d=\"M 83.546875 205.544226 \r\nL 83.546875 177.02162 \r\n\" style=\"fill:none;stroke:#000000;stroke-width:1.5;\"/>\r\n    <path clip-path=\"url(#pb0e61773cc)\" d=\"M 88.778125 194.929428 \r\nL 88.778125 190.078996 \r\n\" style=\"fill:none;stroke:#000000;stroke-width:1.5;\"/>\r\n    <path clip-path=\"url(#pb0e61773cc)\" d=\"M 94.009375 209.732534 \r\nL 94.009375 191.711169 \r\n\" style=\"fill:none;stroke:#000000;stroke-width:1.5;\"/>\r\n    <path clip-path=\"url(#pb0e61773cc)\" d=\"M 99.240625 203.699207 \r\nL 99.240625 201.189365 \r\n\" style=\"fill:none;stroke:#000000;stroke-width:1.5;\"/>\r\n    <path clip-path=\"url(#pb0e61773cc)\" d=\"M 104.471875 203.82481 \r\nL 104.471875 201.148052 \r\n\" style=\"fill:none;stroke:#000000;stroke-width:1.5;\"/>\r\n    <path clip-path=\"url(#pb0e61773cc)\" d=\"M 109.703125 203.848458 \r\nL 109.703125 201.32094 \r\n\" style=\"fill:none;stroke:#000000;stroke-width:1.5;\"/>\r\n    <path clip-path=\"url(#pb0e61773cc)\" d=\"M 114.934375 203.952168 \r\nL 114.934375 201.571657 \r\n\" style=\"fill:none;stroke:#000000;stroke-width:1.5;\"/>\r\n    <path clip-path=\"url(#pb0e61773cc)\" d=\"M 120.165625 204.254952 \r\nL 120.165625 201.734368 \r\n\" style=\"fill:none;stroke:#000000;stroke-width:1.5;\"/>\r\n    <path clip-path=\"url(#pb0e61773cc)\" d=\"M 125.396875 204.391138 \r\nL 125.396875 201.75729 \r\n\" style=\"fill:none;stroke:#000000;stroke-width:1.5;\"/>\r\n    <path clip-path=\"url(#pb0e61773cc)\" d=\"M 130.628125 204.348237 \r\nL 130.628125 201.834581 \r\n\" style=\"fill:none;stroke:#000000;stroke-width:1.5;\"/>\r\n    <path clip-path=\"url(#pb0e61773cc)\" d=\"M 135.859375 204.546332 \r\nL 135.859375 201.976303 \r\n\" style=\"fill:none;stroke:#000000;stroke-width:1.5;\"/>\r\n    <path clip-path=\"url(#pb0e61773cc)\" d=\"M 141.090625 204.491982 \r\nL 141.090625 202.252558 \r\n\" style=\"fill:none;stroke:#000000;stroke-width:1.5;\"/>\r\n    <path clip-path=\"url(#pb0e61773cc)\" d=\"M 146.321875 204.541139 \r\nL 146.321875 202.233415 \r\n\" style=\"fill:none;stroke:#000000;stroke-width:1.5;\"/>\r\n    <path clip-path=\"url(#pb0e61773cc)\" d=\"M 151.553125 209.870935 \r\nL 151.553125 197.14874 \r\n\" style=\"fill:none;stroke:#000000;stroke-width:1.5;\"/>\r\n    <path clip-path=\"url(#pb0e61773cc)\" d=\"M 156.784375 204.719508 \r\nL 156.784375 202.336119 \r\n\" style=\"fill:none;stroke:#000000;stroke-width:1.5;\"/>\r\n    <path clip-path=\"url(#pb0e61773cc)\" d=\"M 162.015625 204.77917 \r\nL 162.015625 202.537098 \r\n\" style=\"fill:none;stroke:#000000;stroke-width:1.5;\"/>\r\n    <path clip-path=\"url(#pb0e61773cc)\" d=\"M 167.246875 208.99557 \r\nL 167.246875 198.81152 \r\n\" style=\"fill:none;stroke:#000000;stroke-width:1.5;\"/>\r\n    <path clip-path=\"url(#pb0e61773cc)\" d=\"M 172.478125 205.103174 \r\nL 172.478125 202.937466 \r\n\" style=\"fill:none;stroke:#000000;stroke-width:1.5;\"/>\r\n    <path clip-path=\"url(#pb0e61773cc)\" d=\"M 177.709375 207.476538 \r\nL 177.709375 200.821275 \r\n\" style=\"fill:none;stroke:#000000;stroke-width:1.5;\"/>\r\n    <path clip-path=\"url(#pb0e61773cc)\" d=\"M 182.940625 207.396476 \r\nL 182.940625 201.269595 \r\n\" style=\"fill:none;stroke:#000000;stroke-width:1.5;\"/>\r\n    <path clip-path=\"url(#pb0e61773cc)\" d=\"M 188.171875 205.38947 \r\nL 188.171875 203.538359 \r\n\" style=\"fill:none;stroke:#000000;stroke-width:1.5;\"/>\r\n    <path clip-path=\"url(#pb0e61773cc)\" d=\"M 193.403125 205.624979 \r\nL 193.403125 203.632033 \r\n\" style=\"fill:none;stroke:#000000;stroke-width:1.5;\"/>\r\n    <path clip-path=\"url(#pb0e61773cc)\" d=\"M 198.634375 205.788714 \r\nL 198.634375 203.476028 \r\n\" style=\"fill:none;stroke:#000000;stroke-width:1.5;\"/>\r\n    <path clip-path=\"url(#pb0e61773cc)\" d=\"M 203.865625 205.670789 \r\nL 203.865625 203.615577 \r\n\" style=\"fill:none;stroke:#000000;stroke-width:1.5;\"/>\r\n    <path clip-path=\"url(#pb0e61773cc)\" d=\"M 209.096875 208.840468 \r\nL 209.096875 200.482757 \r\n\" style=\"fill:none;stroke:#000000;stroke-width:1.5;\"/>\r\n    <path clip-path=\"url(#pb0e61773cc)\" d=\"M 214.328125 207.378328 \r\nL 214.328125 202.25106 \r\n\" style=\"fill:none;stroke:#000000;stroke-width:1.5;\"/>\r\n    <path clip-path=\"url(#pb0e61773cc)\" d=\"M 219.559375 209.072417 \r\nL 219.559375 200.990641 \r\n\" style=\"fill:none;stroke:#000000;stroke-width:1.5;\"/>\r\n    <path clip-path=\"url(#pb0e61773cc)\" d=\"M 224.790625 206.000493 \r\nL 224.790625 204.212756 \r\n\" style=\"fill:none;stroke:#000000;stroke-width:1.5;\"/>\r\n    <path clip-path=\"url(#pb0e61773cc)\" d=\"M 230.021875 206.19259 \r\nL 230.021875 204.427694 \r\n\" style=\"fill:none;stroke:#000000;stroke-width:1.5;\"/>\r\n    <path clip-path=\"url(#pb0e61773cc)\" d=\"M 235.253125 206.478015 \r\nL 235.253125 204.766694 \r\n\" style=\"fill:none;stroke:#000000;stroke-width:1.5;\"/>\r\n    <path clip-path=\"url(#pb0e61773cc)\" d=\"M 240.484375 206.696467 \r\nL 240.484375 204.693928 \r\n\" style=\"fill:none;stroke:#000000;stroke-width:1.5;\"/>\r\n    <path clip-path=\"url(#pb0e61773cc)\" d=\"M 245.715625 206.444899 \r\nL 245.715625 204.946474 \r\n\" style=\"fill:none;stroke:#000000;stroke-width:1.5;\"/>\r\n    <path clip-path=\"url(#pb0e61773cc)\" d=\"M 250.946875 206.947928 \r\nL 250.946875 204.529359 \r\n\" style=\"fill:none;stroke:#000000;stroke-width:1.5;\"/>\r\n    <path clip-path=\"url(#pb0e61773cc)\" d=\"M 256.178125 206.622842 \r\nL 256.178125 204.98978 \r\n\" style=\"fill:none;stroke:#000000;stroke-width:1.5;\"/>\r\n    <path clip-path=\"url(#pb0e61773cc)\" d=\"M 261.409375 206.964321 \r\nL 261.409375 204.665413 \r\n\" style=\"fill:none;stroke:#000000;stroke-width:1.5;\"/>\r\n    <path clip-path=\"url(#pb0e61773cc)\" d=\"M 266.640625 208.006386 \r\nL 266.640625 203.691794 \r\n\" style=\"fill:none;stroke:#000000;stroke-width:1.5;\"/>\r\n    <path clip-path=\"url(#pb0e61773cc)\" d=\"M 271.871875 207.201006 \r\nL 271.871875 204.685006 \r\n\" style=\"fill:none;stroke:#000000;stroke-width:1.5;\"/>\r\n    <path clip-path=\"url(#pb0e61773cc)\" d=\"M 277.103125 208.509679 \r\nL 277.103125 203.397915 \r\n\" style=\"fill:none;stroke:#000000;stroke-width:1.5;\"/>\r\n    <path clip-path=\"url(#pb0e61773cc)\" d=\"M 282.334375 206.903739 \r\nL 282.334375 205.354713 \r\n\" style=\"fill:none;stroke:#000000;stroke-width:1.5;\"/>\r\n    <path clip-path=\"url(#pb0e61773cc)\" d=\"M 287.565625 207.541855 \r\nL 287.565625 205.337902 \r\n\" style=\"fill:none;stroke:#000000;stroke-width:1.5;\"/>\r\n    <path clip-path=\"url(#pb0e61773cc)\" d=\"M 292.796875 209.206404 \r\nL 292.796875 203.732881 \r\n\" style=\"fill:none;stroke:#000000;stroke-width:1.5;\"/>\r\n    <path clip-path=\"url(#pb0e61773cc)\" d=\"M 298.028125 207.123981 \r\nL 298.028125 205.872457 \r\n\" style=\"fill:none;stroke:#000000;stroke-width:1.5;\"/>\r\n    <path clip-path=\"url(#pb0e61773cc)\" d=\"M 303.259375 207.442355 \r\nL 303.259375 205.565115 \r\n\" style=\"fill:none;stroke:#000000;stroke-width:1.5;\"/>\r\n    <path clip-path=\"url(#pb0e61773cc)\" d=\"M 308.490625 207.204626 \r\nL 308.490625 205.867974 \r\n\" style=\"fill:none;stroke:#000000;stroke-width:1.5;\"/>\r\n    <path clip-path=\"url(#pb0e61773cc)\" d=\"M 313.721875 207.51827 \r\nL 313.721875 205.911506 \r\n\" style=\"fill:none;stroke:#000000;stroke-width:1.5;\"/>\r\n    <path clip-path=\"url(#pb0e61773cc)\" d=\"M 318.953125 207.322565 \r\nL 318.953125 206.108275 \r\n\" style=\"fill:none;stroke:#000000;stroke-width:1.5;\"/>\r\n    <path clip-path=\"url(#pb0e61773cc)\" d=\"M 324.184375 207.440372 \r\nL 324.184375 206.362279 \r\n\" style=\"fill:none;stroke:#000000;stroke-width:1.5;\"/>\r\n    <path clip-path=\"url(#pb0e61773cc)\" d=\"M 329.415625 207.613013 \r\nL 329.415625 206.567896 \r\n\" style=\"fill:none;stroke:#000000;stroke-width:1.5;\"/>\r\n    <path clip-path=\"url(#pb0e61773cc)\" d=\"M 334.646875 207.856941 \r\nL 334.646875 207.084868 \r\n\" style=\"fill:none;stroke:#000000;stroke-width:1.5;\"/>\r\n    <path clip-path=\"url(#pb0e61773cc)\" d=\"M 339.878125 207.849337 \r\nL 339.878125 207.10791 \r\n\" style=\"fill:none;stroke:#000000;stroke-width:1.5;\"/>\r\n    <path clip-path=\"url(#pb0e61773cc)\" d=\"M 345.109375 208.24577 \r\nL 345.109375 206.883194 \r\n\" style=\"fill:none;stroke:#000000;stroke-width:1.5;\"/>\r\n    <path clip-path=\"url(#pb0e61773cc)\" d=\"M 350.340625 208.039246 \r\nL 350.340625 207.356196 \r\n\" style=\"fill:none;stroke:#000000;stroke-width:1.5;\"/>\r\n    <path clip-path=\"url(#pb0e61773cc)\" d=\"M 355.571875 208.087636 \r\nL 355.571875 207.627949 \r\n\" style=\"fill:none;stroke:#000000;stroke-width:1.5;\"/>\r\n    <path clip-path=\"url(#pb0e61773cc)\" d=\"M 360.803125 208.057021 \r\nL 360.803125 207.832144 \r\n\" style=\"fill:none;stroke:#000000;stroke-width:1.5;\"/>\r\n    <path clip-path=\"url(#pb0e61773cc)\" d=\"M 366.034375 207.988897 \r\nL 366.034375 207.988897 \r\n\" style=\"fill:none;stroke:#000000;stroke-width:1.5;\"/>\r\n   </g>\r\n   <g id=\"patch_66\">\r\n    <path d=\"M 36.465625 224.64 \r\nL 36.465625 7.2 \r\n\" style=\"fill:none;stroke:#000000;stroke-linecap:square;stroke-linejoin:miter;stroke-width:0.8;\"/>\r\n   </g>\r\n   <g id=\"patch_67\">\r\n    <path d=\"M 371.265625 224.64 \r\nL 371.265625 7.2 \r\n\" style=\"fill:none;stroke:#000000;stroke-linecap:square;stroke-linejoin:miter;stroke-width:0.8;\"/>\r\n   </g>\r\n   <g id=\"patch_68\">\r\n    <path d=\"M 36.465625 224.64 \r\nL 371.265625 224.64 \r\n\" style=\"fill:none;stroke:#000000;stroke-linecap:square;stroke-linejoin:miter;stroke-width:0.8;\"/>\r\n   </g>\r\n   <g id=\"patch_69\">\r\n    <path d=\"M 36.465625 7.2 \r\nL 371.265625 7.2 \r\n\" style=\"fill:none;stroke:#000000;stroke-linecap:square;stroke-linejoin:miter;stroke-width:0.8;\"/>\r\n   </g>\r\n  </g>\r\n </g>\r\n <defs>\r\n  <clipPath id=\"pb0e61773cc\">\r\n   <rect height=\"217.44\" width=\"334.8\" x=\"36.465625\" y=\"7.2\"/>\r\n  </clipPath>\r\n </defs>\r\n</svg>\r\n",
      "image/png": "[encoded data removed]"
     },
     "metadata": {
      "needs_background": "light"
     }
    }
   ],
   "source": [
    "# random forest classifier parameters taken from hyperparameter tuning abaove\n",
    "random_forest_fit = RandomForestClassifier(n_estimators=500, criterion=\"gini\", max_depth=30, min_samples_split=2, min_samples_leaf=2)\n",
    "random_forest_fit.fit(x_train, y_train)\n",
    "importances = random_forest_fit.feature_importances_\n",
    "standard_deviations = np.std([tree.feature_importances_ for tree in random_forest_fit.estimators_], axis=0)\n",
    "indices = np.argsort(importances)[::-1]\n",
    "column_names = list(x_train.columns)\n",
    "\n",
    "print(\"Feature ranking:\")\n",
    "for feature in range(x_train.shape[1]):\n",
    "    print (\"Feature\", indices[feature], \",\", column_names[indices[feature]], importances[indices[feature]])\n",
    "    \n",
    "plt.figure()\n",
    "plt.bar(range(x_train.shape[1]), importances[indices], color=\"r\", yerr=standard_deviations[indices], align=\"center\")\n",
    "plt.xticks(range(x_train.shape[1]), indices)\n",
    "plt.xlim([-1, x_train.shape[1]])\n",
    "plt.show()"
   ]
  },
  {
   "cell_type": "markdown",
   "id": "charming-structure",
   "metadata": {},
   "source": [
    "We can see that the variable importance for random forest matches what we got with logistic regression however we need not worry about multi-collinearity in a random forest model."
   ]
  },
  {
   "cell_type": "code",
   "execution_count": 102,
   "id": "sexual-intensity",
   "metadata": {},
   "outputs": [],
   "source": [
    "pickle.dump(grid_search, open(os.path.join('app', 'rand_forest.sav'), 'wb'))"
   ]
  }
 ],
 "metadata": {
  "kernelspec": {
   "display_name": "Python 3",
   "language": "python",
   "name": "python3"
  },
  "language_info": {
   "codemirror_mode": {
    "name": "ipython",
    "version": 3
   },
   "file_extension": ".py",
   "mimetype": "text/x-python",
   "name": "python",
   "nbconvert_exporter": "python",
   "pygments_lexer": "ipython3",
   "version": "3.8.5-final"
  }
 },
 "nbformat": 4,
 "nbformat_minor": 5
}